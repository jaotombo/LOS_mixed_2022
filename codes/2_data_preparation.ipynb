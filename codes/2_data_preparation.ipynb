{
 "cells": [
  {
   "cell_type": "markdown",
   "id": "117affa5",
   "metadata": {},
   "source": [
    "# Data Preparation"
   ]
  },
  {
   "cell_type": "markdown",
   "id": "9bab6bcf",
   "metadata": {},
   "source": [
    "## Setup"
   ]
  },
  {
   "cell_type": "code",
   "execution_count": 1,
   "id": "62507ee8",
   "metadata": {},
   "outputs": [],
   "source": [
    "# Import useful libraries\n",
    "import numpy as np\n",
    "import pandas as pd\n",
    "import os\n",
    "import re\n",
    "import pickle\n",
    "import sys\n",
    "import time\n",
    "import psycopg2"
   ]
  },
  {
   "cell_type": "code",
   "execution_count": 2,
   "id": "a529bb2f",
   "metadata": {},
   "outputs": [],
   "source": [
    "# Setup Repository\n",
    "with open(\"repo_info.txt\", \"r\") as repo_info:\n",
    "    path_to_repo = repo_info.readline()\n",
    "\n",
    "path_to_data = f\"{path_to_repo}data/\"\n",
    "path_to_raw = f\"{path_to_data}raw/\"\n",
    "path_to_processed = f\"{path_to_data}processed/\""
   ]
  },
  {
   "cell_type": "code",
   "execution_count": 4,
   "id": "34467f33",
   "metadata": {},
   "outputs": [],
   "source": [
    "# Read from a txt file the information on the credentials for our local PgAdmin server\n",
    "with open(\"pg_admin_info.txt\", \"r\") as repo_info:\n",
    "    pg_credentials = repo_info.readlines()\n",
    "\n",
    "sqluser = pg_credentials[0].strip()\n",
    "dbname = pg_credentials[1].strip()\n",
    "schema_name =  pg_credentials[2].strip()\n",
    "password = pg_credentials[3].strip()"
   ]
  },
  {
   "cell_type": "code",
   "execution_count": 12,
   "id": "901746fa",
   "metadata": {},
   "outputs": [],
   "source": [
    "# PARAMETERS -----------------------------------\n",
    "# Set to True if we want to include deaths\n",
    "death_incl = True\n",
    "death_tag = np.where(death_incl,\"_death\", \"\")"
   ]
  },
  {
   "cell_type": "markdown",
   "id": "8dec13ca",
   "metadata": {},
   "source": [
    "## Import Data"
   ]
  },
  {
   "cell_type": "code",
   "execution_count": 13,
   "id": "d4b2ad5f",
   "metadata": {},
   "outputs": [
    {
     "name": "stderr",
     "output_type": "stream",
     "text": [
      "C:\\Users\\luca9\\AppData\\Local\\Temp\\ipykernel_15712\\2730209426.py:1: DtypeWarning: Columns (4,13,57) have mixed types. Specify dtype option on import or set low_memory=False.\n",
      "  df = pd.read_csv(f'{path_to_raw}all_data_raw.csv.gzip', compression = 'gzip')\n"
     ]
    }
   ],
   "source": [
    "df = pd.read_csv(f'{path_to_raw}all_data_raw.csv.gzip', compression = 'gzip')"
   ]
  },
  {
   "cell_type": "code",
   "execution_count": 14,
   "id": "d2eda288",
   "metadata": {},
   "outputs": [],
   "source": [
    "# Then we drop any duplicates\n",
    "df = df.drop_duplicates(subset=['hadm_id']).reset_index()"
   ]
  },
  {
   "cell_type": "code",
   "execution_count": 15,
   "id": "8657a05d",
   "metadata": {
    "scrolled": false
   },
   "outputs": [
    {
     "name": "stdout",
     "output_type": "stream",
     "text": [
      "<class 'pandas.core.frame.DataFrame'>\n",
      "RangeIndex: 36141 entries, 0 to 36140\n",
      "Data columns (total 68 columns):\n",
      " #   Column              Non-Null Count  Dtype  \n",
      "---  ------              --------------  -----  \n",
      " 0   index               36141 non-null  int64  \n",
      " 1   hadm_id             36141 non-null  int64  \n",
      " 2   subject_id          36141 non-null  int64  \n",
      " 3   admittime           36141 non-null  object \n",
      " 4   dischtime           36141 non-null  object \n",
      " 5   deathtime           4693 non-null   object \n",
      " 6   ethnicity           36141 non-null  object \n",
      " 7   admission_type      36141 non-null  object \n",
      " 8   admission_location  36141 non-null  object \n",
      " 9   insurance           36141 non-null  object \n",
      " 10  religion            36019 non-null  object \n",
      " 11  marital_status      34445 non-null  object \n",
      " 12  discharge_location  36141 non-null  object \n",
      " 13  costcenter          36141 non-null  object \n",
      " 14  cpt_code            36141 non-null  object \n",
      " 15  first_careunit      36141 non-null  object \n",
      " 16  last_careunit       36141 non-null  object \n",
      " 17  first_wardid        36141 non-null  int64  \n",
      " 18  last_wardid         36141 non-null  int64  \n",
      " 19  icu_los             36141 non-null  float64\n",
      " 20  prev_service        8667 non-null   object \n",
      " 21  curr_service        36141 non-null  object \n",
      " 22  gender              36141 non-null  object \n",
      " 23  age                 36141 non-null  float64\n",
      " 24  dob                 36141 non-null  object \n",
      " 25  urea_n_min          36120 non-null  float64\n",
      " 26  urea_n_max          36120 non-null  float64\n",
      " 27  urea_n_mean         36120 non-null  float64\n",
      " 28  platelets_min       36117 non-null  float64\n",
      " 29  platelets_max       36117 non-null  float64\n",
      " 30  platelets_mean      36117 non-null  float64\n",
      " 31  magnesium_max       35888 non-null  float64\n",
      " 32  albumin_min         24215 non-null  float64\n",
      " 33  calcium_min         35104 non-null  float64\n",
      " 34  resprate_min        36132 non-null  float64\n",
      " 35  resprate_max        36132 non-null  float64\n",
      " 36  resprate_mean       36132 non-null  float64\n",
      " 37  glucose_min         35897 non-null  float64\n",
      " 38  glucose_max         35897 non-null  float64\n",
      " 39  glucose_mean        35897 non-null  float64\n",
      " 40  hr_min              36139 non-null  float64\n",
      " 41  hr_max              36139 non-null  float64\n",
      " 42  hr_mean             36139 non-null  float64\n",
      " 43  sysbp_min           36133 non-null  float64\n",
      " 44  sysbp_max           36133 non-null  float64\n",
      " 45  sysbp_mean          36133 non-null  float64\n",
      " 46  diasbp_min          36133 non-null  float64\n",
      " 47  diasbp_max          36133 non-null  float64\n",
      " 48  diasbp_mean         36133 non-null  float64\n",
      " 49  temp_min            36060 non-null  float64\n",
      " 50  temp_max            36060 non-null  float64\n",
      " 51  temp_mean           36060 non-null  float64\n",
      " 52  sapsii              36141 non-null  int64  \n",
      " 53  sofa                36141 non-null  int64  \n",
      " 54  urine_min           36132 non-null  float64\n",
      " 55  urine_mean          36132 non-null  float64\n",
      " 56  urine_max           36132 non-null  float64\n",
      " 57  patientweight       18357 non-null  float64\n",
      " 58  icd9_code           36141 non-null  object \n",
      " 59  proc_icd9           36141 non-null  object \n",
      " 60  diag_icd9           36141 non-null  object \n",
      " 61  age_cat             36141 non-null  int64  \n",
      " 62  type_stay           36141 non-null  object \n",
      " 63  prev_adm            36141 non-null  object \n",
      " 64  dest_discharge      36141 non-null  object \n",
      " 65  emergency_dpt       36141 non-null  object \n",
      " 66  icd_chapter         36141 non-null  int64  \n",
      " 67  origin_patient      36141 non-null  object \n",
      "dtypes: float64(33), int64(9), object(26)\n",
      "memory usage: 18.8+ MB\n"
     ]
    }
   ],
   "source": [
    "# And print info our dataset\n",
    "df.info()"
   ]
  },
  {
   "cell_type": "code",
   "execution_count": 16,
   "id": "461ad890",
   "metadata": {},
   "outputs": [
    {
     "data": {
      "text/html": [
       "<div>\n",
       "<style scoped>\n",
       "    .dataframe tbody tr th:only-of-type {\n",
       "        vertical-align: middle;\n",
       "    }\n",
       "\n",
       "    .dataframe tbody tr th {\n",
       "        vertical-align: top;\n",
       "    }\n",
       "\n",
       "    .dataframe thead th {\n",
       "        text-align: right;\n",
       "    }\n",
       "</style>\n",
       "<table border=\"1\" class=\"dataframe\">\n",
       "  <thead>\n",
       "    <tr style=\"text-align: right;\">\n",
       "      <th></th>\n",
       "      <th>index</th>\n",
       "      <th>hadm_id</th>\n",
       "      <th>subject_id</th>\n",
       "      <th>admittime</th>\n",
       "      <th>dischtime</th>\n",
       "      <th>deathtime</th>\n",
       "      <th>ethnicity</th>\n",
       "      <th>admission_type</th>\n",
       "      <th>admission_location</th>\n",
       "      <th>insurance</th>\n",
       "      <th>...</th>\n",
       "      <th>icd9_code</th>\n",
       "      <th>proc_icd9</th>\n",
       "      <th>diag_icd9</th>\n",
       "      <th>age_cat</th>\n",
       "      <th>type_stay</th>\n",
       "      <th>prev_adm</th>\n",
       "      <th>dest_discharge</th>\n",
       "      <th>emergency_dpt</th>\n",
       "      <th>icd_chapter</th>\n",
       "      <th>origin_patient</th>\n",
       "    </tr>\n",
       "  </thead>\n",
       "  <tbody>\n",
       "    <tr>\n",
       "      <th>0</th>\n",
       "      <td>0</td>\n",
       "      <td>100003</td>\n",
       "      <td>54610</td>\n",
       "      <td>2150-04-17 15:34:00</td>\n",
       "      <td>2150-04-21 17:30:00</td>\n",
       "      <td>NaN</td>\n",
       "      <td>WHITE</td>\n",
       "      <td>EMERGENCY</td>\n",
       "      <td>EMERGENCY ROOM ADMIT</td>\n",
       "      <td>Private</td>\n",
       "      <td>...</td>\n",
       "      <td>53100</td>\n",
       "      <td>4443,9607,9904,3893</td>\n",
       "      <td>53100,2851,07054,5715,45621,53789,4019,53550,7823</td>\n",
       "      <td>3</td>\n",
       "      <td>1-Medical</td>\n",
       "      <td>1-No hospitalization</td>\n",
       "      <td>1-Home</td>\n",
       "      <td>Yes</td>\n",
       "      <td>9</td>\n",
       "      <td>2-Other</td>\n",
       "    </tr>\n",
       "    <tr>\n",
       "      <th>1</th>\n",
       "      <td>6</td>\n",
       "      <td>100006</td>\n",
       "      <td>9895</td>\n",
       "      <td>2108-04-06 15:49:00</td>\n",
       "      <td>2108-04-18 17:18:00</td>\n",
       "      <td>NaN</td>\n",
       "      <td>BLACK/AFRICAN AMERICAN</td>\n",
       "      <td>EMERGENCY</td>\n",
       "      <td>EMERGENCY ROOM ADMIT</td>\n",
       "      <td>Private</td>\n",
       "      <td>...</td>\n",
       "      <td>49320</td>\n",
       "      <td>9390,9925</td>\n",
       "      <td>49320,51881,486,20300,2761,7850,3090,V1251,V1582</td>\n",
       "      <td>3</td>\n",
       "      <td>1-Medical</td>\n",
       "      <td>1-No hospitalization</td>\n",
       "      <td>1-Home</td>\n",
       "      <td>Yes</td>\n",
       "      <td>8</td>\n",
       "      <td>2-Other</td>\n",
       "    </tr>\n",
       "    <tr>\n",
       "      <th>2</th>\n",
       "      <td>14</td>\n",
       "      <td>100007</td>\n",
       "      <td>23018</td>\n",
       "      <td>2145-03-31 05:33:00</td>\n",
       "      <td>2145-04-07 12:40:00</td>\n",
       "      <td>NaN</td>\n",
       "      <td>WHITE</td>\n",
       "      <td>EMERGENCY</td>\n",
       "      <td>EMERGENCY ROOM ADMIT</td>\n",
       "      <td>Private</td>\n",
       "      <td>...</td>\n",
       "      <td>56081</td>\n",
       "      <td>4562,5459</td>\n",
       "      <td>56081,5570,9973,486,4019</td>\n",
       "      <td>4</td>\n",
       "      <td>3-Surgical</td>\n",
       "      <td>1-No hospitalization</td>\n",
       "      <td>1-Home</td>\n",
       "      <td>Yes</td>\n",
       "      <td>9</td>\n",
       "      <td>2-Other</td>\n",
       "    </tr>\n",
       "    <tr>\n",
       "      <th>3</th>\n",
       "      <td>17</td>\n",
       "      <td>100009</td>\n",
       "      <td>533</td>\n",
       "      <td>2162-05-16 15:56:00</td>\n",
       "      <td>2162-05-21 13:37:00</td>\n",
       "      <td>NaN</td>\n",
       "      <td>WHITE</td>\n",
       "      <td>EMERGENCY</td>\n",
       "      <td>TRANSFER FROM HOSP/EXTRAM</td>\n",
       "      <td>Private</td>\n",
       "      <td>...</td>\n",
       "      <td>41401</td>\n",
       "      <td>3613,3615,3795,3961</td>\n",
       "      <td>41401,99604,4142,25000,27800,V8535,4148,4111,V...</td>\n",
       "      <td>3</td>\n",
       "      <td>3-Surgical</td>\n",
       "      <td>1-No hospitalization</td>\n",
       "      <td>1-Home</td>\n",
       "      <td>Yes</td>\n",
       "      <td>7</td>\n",
       "      <td>2-Other</td>\n",
       "    </tr>\n",
       "    <tr>\n",
       "      <th>4</th>\n",
       "      <td>25</td>\n",
       "      <td>100010</td>\n",
       "      <td>55853</td>\n",
       "      <td>2109-12-10 07:15:00</td>\n",
       "      <td>2109-12-14 16:45:00</td>\n",
       "      <td>NaN</td>\n",
       "      <td>WHITE</td>\n",
       "      <td>ELECTIVE</td>\n",
       "      <td>PHYS REFERRAL/NORMAL DELI</td>\n",
       "      <td>Private</td>\n",
       "      <td>...</td>\n",
       "      <td>1890</td>\n",
       "      <td>5551,540,403</td>\n",
       "      <td>1890,1961,1987,1976,27652</td>\n",
       "      <td>3</td>\n",
       "      <td>1-Medical</td>\n",
       "      <td>1-No hospitalization</td>\n",
       "      <td>1-Home</td>\n",
       "      <td>No</td>\n",
       "      <td>2</td>\n",
       "      <td>1-Home</td>\n",
       "    </tr>\n",
       "  </tbody>\n",
       "</table>\n",
       "<p>5 rows × 68 columns</p>\n",
       "</div>"
      ],
      "text/plain": [
       "   index  hadm_id  subject_id            admittime            dischtime  \\\n",
       "0      0   100003       54610  2150-04-17 15:34:00  2150-04-21 17:30:00   \n",
       "1      6   100006        9895  2108-04-06 15:49:00  2108-04-18 17:18:00   \n",
       "2     14   100007       23018  2145-03-31 05:33:00  2145-04-07 12:40:00   \n",
       "3     17   100009         533  2162-05-16 15:56:00  2162-05-21 13:37:00   \n",
       "4     25   100010       55853  2109-12-10 07:15:00  2109-12-14 16:45:00   \n",
       "\n",
       "  deathtime               ethnicity admission_type         admission_location  \\\n",
       "0       NaN                   WHITE      EMERGENCY       EMERGENCY ROOM ADMIT   \n",
       "1       NaN  BLACK/AFRICAN AMERICAN      EMERGENCY       EMERGENCY ROOM ADMIT   \n",
       "2       NaN                   WHITE      EMERGENCY       EMERGENCY ROOM ADMIT   \n",
       "3       NaN                   WHITE      EMERGENCY  TRANSFER FROM HOSP/EXTRAM   \n",
       "4       NaN                   WHITE       ELECTIVE  PHYS REFERRAL/NORMAL DELI   \n",
       "\n",
       "  insurance  ... icd9_code            proc_icd9  \\\n",
       "0   Private  ...     53100  4443,9607,9904,3893   \n",
       "1   Private  ...     49320            9390,9925   \n",
       "2   Private  ...     56081            4562,5459   \n",
       "3   Private  ...     41401  3613,3615,3795,3961   \n",
       "4   Private  ...      1890         5551,540,403   \n",
       "\n",
       "                                           diag_icd9 age_cat   type_stay  \\\n",
       "0  53100,2851,07054,5715,45621,53789,4019,53550,7823       3   1-Medical   \n",
       "1   49320,51881,486,20300,2761,7850,3090,V1251,V1582       3   1-Medical   \n",
       "2                           56081,5570,9973,486,4019       4  3-Surgical   \n",
       "3  41401,99604,4142,25000,27800,V8535,4148,4111,V...       3  3-Surgical   \n",
       "4                          1890,1961,1987,1976,27652       3   1-Medical   \n",
       "\n",
       "               prev_adm dest_discharge  emergency_dpt  icd_chapter  \\\n",
       "0  1-No hospitalization         1-Home            Yes            9   \n",
       "1  1-No hospitalization         1-Home            Yes            8   \n",
       "2  1-No hospitalization         1-Home            Yes            9   \n",
       "3  1-No hospitalization         1-Home            Yes            7   \n",
       "4  1-No hospitalization         1-Home             No            2   \n",
       "\n",
       "   origin_patient  \n",
       "0         2-Other  \n",
       "1         2-Other  \n",
       "2         2-Other  \n",
       "3         2-Other  \n",
       "4          1-Home  \n",
       "\n",
       "[5 rows x 68 columns]"
      ]
     },
     "execution_count": 16,
     "metadata": {},
     "output_type": "execute_result"
    }
   ],
   "source": [
    "df.head()"
   ]
  },
  {
   "cell_type": "code",
   "execution_count": 17,
   "id": "4a6afa0c",
   "metadata": {},
   "outputs": [],
   "source": [
    "# Convert the deathtime column to a datetime-column\n",
    "df['deathtime'] = pd.to_datetime(df.deathtime, errors = 'coerce')\n",
    "# Remove any observation with a recorded death case\n",
    "if death_incl == False:\n",
    "    df_clean = df[np.isnat(df['deathtime'])].copy()\n",
    "    print(f\"Number of observations with a deathtime: {df.shape[0] - df_clean.shape[0]}\")\n",
    "else:\n",
    "    df_clean = df.copy()"
   ]
  },
  {
   "cell_type": "code",
   "execution_count": 18,
   "id": "a47a82ba",
   "metadata": {},
   "outputs": [
    {
     "name": "stdout",
     "output_type": "stream",
     "text": [
      "N. of observations: 36078\n"
     ]
    }
   ],
   "source": [
    "# We then remove all patients below 18 years old\n",
    "df_clean = df_clean.loc[df_clean.age >= 18]\n",
    "print(f\"N. of observations: {df_clean.shape[0]}\")"
   ]
  },
  {
   "cell_type": "markdown",
   "id": "bc6e5c13",
   "metadata": {},
   "source": [
    "### Process NOTEEVENTS to get discharge notes"
   ]
  },
  {
   "cell_type": "code",
   "execution_count": 19,
   "id": "a69e4fa6",
   "metadata": {},
   "outputs": [],
   "source": [
    "# SQL query (gets all_data view defined elsewhere)\n",
    "query = \\\n",
    "\"\"\"\n",
    "select * from note_filter\n",
    "\"\"\""
   ]
  },
  {
   "cell_type": "code",
   "execution_count": 20,
   "id": "fe75a24b",
   "metadata": {},
   "outputs": [],
   "source": [
    "# Connect to local postgres version of mimic\n",
    "con = psycopg2.connect(host='localhost', database=dbname, user=sqluser, password=password)\n",
    "cur = con.cursor()"
   ]
  },
  {
   "cell_type": "code",
   "execution_count": 22,
   "id": "7b3393aa",
   "metadata": {},
   "outputs": [],
   "source": [
    "# Perform SQL query\n",
    "cur.execute('SET search_path to ' + schema_name)\n",
    "text = pd.read_sql_query(query,con)"
   ]
  },
  {
   "cell_type": "code",
   "execution_count": 24,
   "id": "130691a2",
   "metadata": {},
   "outputs": [],
   "source": [
    "# Remove any duplicates\n",
    "text.drop_duplicates(inplace = True)"
   ]
  },
  {
   "cell_type": "code",
   "execution_count": 25,
   "id": "d23f6d78",
   "metadata": {
    "scrolled": true
   },
   "outputs": [
    {
     "data": {
      "text/html": [
       "<div>\n",
       "<style scoped>\n",
       "    .dataframe tbody tr th:only-of-type {\n",
       "        vertical-align: middle;\n",
       "    }\n",
       "\n",
       "    .dataframe tbody tr th {\n",
       "        vertical-align: top;\n",
       "    }\n",
       "\n",
       "    .dataframe thead th {\n",
       "        text-align: right;\n",
       "    }\n",
       "</style>\n",
       "<table border=\"1\" class=\"dataframe\">\n",
       "  <thead>\n",
       "    <tr style=\"text-align: right;\">\n",
       "      <th></th>\n",
       "      <th>subject_id</th>\n",
       "      <th>hadm_id</th>\n",
       "      <th>admittime</th>\n",
       "      <th>dischtime</th>\n",
       "      <th>deathtime</th>\n",
       "      <th>first_careunit</th>\n",
       "      <th>last_careunit</th>\n",
       "      <th>age</th>\n",
       "      <th>gender</th>\n",
       "      <th>marital_status</th>\n",
       "      <th>insurance</th>\n",
       "      <th>diagnosis</th>\n",
       "      <th>text</th>\n",
       "      <th>iserror</th>\n",
       "    </tr>\n",
       "  </thead>\n",
       "  <tbody>\n",
       "    <tr>\n",
       "      <th>0</th>\n",
       "      <td>22532</td>\n",
       "      <td>167853</td>\n",
       "      <td>2151-07-16 14:29:00</td>\n",
       "      <td>2151-08-04 19:10:00</td>\n",
       "      <td>NaT</td>\n",
       "      <td>MICU</td>\n",
       "      <td>MICU</td>\n",
       "      <td>86.902940</td>\n",
       "      <td>F</td>\n",
       "      <td>UNKNOWN (DEFAULT)</td>\n",
       "      <td>Medicare</td>\n",
       "      <td>RT LOWER LOBE PNEUMONIA</td>\n",
       "      <td>Admission Date:  [**2151-7-16**]       Dischar...</td>\n",
       "      <td>None</td>\n",
       "    </tr>\n",
       "    <tr>\n",
       "      <th>1</th>\n",
       "      <td>13702</td>\n",
       "      <td>107527</td>\n",
       "      <td>2118-06-02 19:18:00</td>\n",
       "      <td>2118-06-14 15:15:00</td>\n",
       "      <td>NaT</td>\n",
       "      <td>MICU</td>\n",
       "      <td>MICU</td>\n",
       "      <td>81.082691</td>\n",
       "      <td>F</td>\n",
       "      <td>MARRIED</td>\n",
       "      <td>Medicare</td>\n",
       "      <td>CHRONIC OBSTRUCTIVE PULMONARY DISEASE</td>\n",
       "      <td>Admission Date:  [**2118-6-2**]       Discharg...</td>\n",
       "      <td>None</td>\n",
       "    </tr>\n",
       "    <tr>\n",
       "      <th>2</th>\n",
       "      <td>13702</td>\n",
       "      <td>167118</td>\n",
       "      <td>2119-05-04 07:15:00</td>\n",
       "      <td>2119-05-25 13:30:00</td>\n",
       "      <td>NaT</td>\n",
       "      <td>CSRU</td>\n",
       "      <td>MICU</td>\n",
       "      <td>82.001254</td>\n",
       "      <td>F</td>\n",
       "      <td>MARRIED</td>\n",
       "      <td>Medicare</td>\n",
       "      <td>TRACHEALBRONCHEAL MALACEA/SDA</td>\n",
       "      <td>Admission Date:  [**2119-5-4**]              D...</td>\n",
       "      <td>None</td>\n",
       "    </tr>\n",
       "    <tr>\n",
       "      <th>3</th>\n",
       "      <td>13702</td>\n",
       "      <td>196489</td>\n",
       "      <td>2124-07-21 16:09:00</td>\n",
       "      <td>2124-08-18 16:26:00</td>\n",
       "      <td>NaT</td>\n",
       "      <td>MICU</td>\n",
       "      <td>MICU</td>\n",
       "      <td>87.217989</td>\n",
       "      <td>F</td>\n",
       "      <td>MARRIED</td>\n",
       "      <td>Medicare</td>\n",
       "      <td>ASTHMA;COPD EXACERBATION</td>\n",
       "      <td>Admission Date:  [**2124-7-21**]              ...</td>\n",
       "      <td>None</td>\n",
       "    </tr>\n",
       "    <tr>\n",
       "      <th>4</th>\n",
       "      <td>26880</td>\n",
       "      <td>135453</td>\n",
       "      <td>2162-03-03 18:46:00</td>\n",
       "      <td>2162-03-25 14:15:00</td>\n",
       "      <td>NaT</td>\n",
       "      <td>TSICU</td>\n",
       "      <td>TSICU</td>\n",
       "      <td>82.161367</td>\n",
       "      <td>M</td>\n",
       "      <td>MARRIED</td>\n",
       "      <td>Medicare</td>\n",
       "      <td>S/P FALL;TELEMETRY</td>\n",
       "      <td>Admission Date:  [**2162-3-3**]              D...</td>\n",
       "      <td>None</td>\n",
       "    </tr>\n",
       "  </tbody>\n",
       "</table>\n",
       "</div>"
      ],
      "text/plain": [
       "   subject_id  hadm_id           admittime           dischtime deathtime  \\\n",
       "0       22532   167853 2151-07-16 14:29:00 2151-08-04 19:10:00       NaT   \n",
       "1       13702   107527 2118-06-02 19:18:00 2118-06-14 15:15:00       NaT   \n",
       "2       13702   167118 2119-05-04 07:15:00 2119-05-25 13:30:00       NaT   \n",
       "3       13702   196489 2124-07-21 16:09:00 2124-08-18 16:26:00       NaT   \n",
       "4       26880   135453 2162-03-03 18:46:00 2162-03-25 14:15:00       NaT   \n",
       "\n",
       "  first_careunit last_careunit        age gender     marital_status insurance  \\\n",
       "0           MICU          MICU  86.902940      F  UNKNOWN (DEFAULT)  Medicare   \n",
       "1           MICU          MICU  81.082691      F            MARRIED  Medicare   \n",
       "2           CSRU          MICU  82.001254      F            MARRIED  Medicare   \n",
       "3           MICU          MICU  87.217989      F            MARRIED  Medicare   \n",
       "4          TSICU         TSICU  82.161367      M            MARRIED  Medicare   \n",
       "\n",
       "                               diagnosis  \\\n",
       "0                RT LOWER LOBE PNEUMONIA   \n",
       "1  CHRONIC OBSTRUCTIVE PULMONARY DISEASE   \n",
       "2          TRACHEALBRONCHEAL MALACEA/SDA   \n",
       "3               ASTHMA;COPD EXACERBATION   \n",
       "4                     S/P FALL;TELEMETRY   \n",
       "\n",
       "                                                text iserror  \n",
       "0  Admission Date:  [**2151-7-16**]       Dischar...    None  \n",
       "1  Admission Date:  [**2118-6-2**]       Discharg...    None  \n",
       "2  Admission Date:  [**2119-5-4**]              D...    None  \n",
       "3  Admission Date:  [**2124-7-21**]              ...    None  \n",
       "4  Admission Date:  [**2162-3-3**]              D...    None  "
      ]
     },
     "execution_count": 25,
     "metadata": {},
     "output_type": "execute_result"
    }
   ],
   "source": [
    "text.head()"
   ]
  },
  {
   "cell_type": "markdown",
   "id": "bcca9c0d",
   "metadata": {},
   "source": [
    "Our discharge notes are not unique for the combination subject_id and hadm_id. We will merge all the discharge notes."
   ]
  },
  {
   "cell_type": "code",
   "execution_count": 26,
   "id": "0f7c575e",
   "metadata": {},
   "outputs": [
    {
     "name": "stdout",
     "output_type": "stream",
     "text": [
      "Number of duplicate text: 14.6%\n"
     ]
    }
   ],
   "source": [
    "print(f\"Number of duplicate text: {round(text.duplicated(subset = ['subject_id', 'hadm_id']).sum()/text.shape[0]*100, 2)}%\")"
   ]
  },
  {
   "cell_type": "code",
   "execution_count": 27,
   "id": "66de77d0",
   "metadata": {},
   "outputs": [],
   "source": [
    "text['text'] = text.groupby(['subject_id', 'hadm_id', 'admittime']).text.transform(lambda x: '\\n'.join(x))"
   ]
  },
  {
   "cell_type": "code",
   "execution_count": 28,
   "id": "66847758",
   "metadata": {},
   "outputs": [
    {
     "name": "stdout",
     "output_type": "stream",
     "text": [
      "Duplicates removed: 8345\n"
     ]
    }
   ],
   "source": [
    "text_clean = text[['hadm_id', 'subject_id', 'text']].drop_duplicates()\n",
    "print(f\"Duplicates removed: {text.shape[0] - text_clean.shape[0]}\")"
   ]
  },
  {
   "cell_type": "markdown",
   "id": "24ae6b76",
   "metadata": {},
   "source": [
    "## Merge Text with Tabular Data"
   ]
  },
  {
   "cell_type": "code",
   "execution_count": 29,
   "id": "1016aa87",
   "metadata": {},
   "outputs": [
    {
     "name": "stdout",
     "output_type": "stream",
     "text": [
      "Check merges:\n",
      "both          35268\n",
      "left_only       810\n",
      "right_only        0\n",
      "Name: _merge, dtype: int64\n"
     ]
    }
   ],
   "source": [
    "df_full = pd.merge(df_clean, text_clean, on = ['hadm_id', 'subject_id'], indicator = True, how = 'left', validate = '1:1')\n",
    "print(f\"Check merges:\\n{df_full._merge.value_counts()}\")"
   ]
  },
  {
   "cell_type": "code",
   "execution_count": 30,
   "id": "721f78da",
   "metadata": {},
   "outputs": [],
   "source": [
    "# Now remove the failed merges\n",
    "df_full = df_full.loc[df_full._merge == 'both']\n",
    "df_full.drop(columns = ['_merge'], inplace = True)"
   ]
  },
  {
   "cell_type": "code",
   "execution_count": 31,
   "id": "987cf592",
   "metadata": {
    "scrolled": true
   },
   "outputs": [],
   "source": [
    "# Finally save the file to a CSV\n",
    "df_full.to_csv(f'{path_to_processed}df_mixed{death_tag}.csv.gzip', compression = 'gzip', index = False)"
   ]
  }
 ],
 "metadata": {
  "kernelspec": {
   "display_name": "Python 3.9.12 ('base')",
   "language": "python",
   "name": "python3"
  },
  "language_info": {
   "codemirror_mode": {
    "name": "ipython",
    "version": 3
   },
   "file_extension": ".py",
   "mimetype": "text/x-python",
   "name": "python",
   "nbconvert_exporter": "python",
   "pygments_lexer": "ipython3",
   "version": "3.9.12"
  },
  "vscode": {
   "interpreter": {
    "hash": "32aaecebd078ebf0fad58c11ce872e322c9fff2b8f0b0f5a9c84d62363eabb98"
   }
  }
 },
 "nbformat": 4,
 "nbformat_minor": 5
}
