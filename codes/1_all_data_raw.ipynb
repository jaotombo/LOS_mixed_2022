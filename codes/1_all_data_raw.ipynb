{
 "cells": [
  {
   "cell_type": "markdown",
   "id": "56e8930f",
   "metadata": {},
   "source": [
    "# All Data Raw - Preparation"
   ]
  },
  {
   "cell_type": "markdown",
   "id": "7181014c",
   "metadata": {},
   "source": [
    "The following code pulls data using queries from the MIMIC-III dataset stored in a local server. To first run this notebook, the query *all_data_raw.sql* must be run. <br>\n",
    "The notebook will then merge the all_data_raw tables with missing information from other tables."
   ]
  },
  {
   "cell_type": "markdown",
   "id": "10b5a6ed",
   "metadata": {},
   "source": [
    "## Setup"
   ]
  },
  {
   "cell_type": "code",
   "execution_count": 1,
   "id": "c97972c6",
   "metadata": {},
   "outputs": [],
   "source": [
    "# Import libraries\n",
    "\n",
    "# Import useful libraries\n",
    "import numpy as np\n",
    "import pandas as pd\n",
    "import os\n",
    "import re\n",
    "import pickle\n",
    "import sys\n",
    "import time\n",
    "import psycopg2"
   ]
  },
  {
   "cell_type": "code",
   "execution_count": 2,
   "id": "a035705a",
   "metadata": {},
   "outputs": [],
   "source": [
    "# Setup Repository\n",
    "with open(\"repo_info.txt\", \"r\") as repo_info:\n",
    "    path_to_repo = repo_info.readline()\n",
    "\n",
    "path_to_data = f\"{path_to_repo}data/\"\n",
    "path_to_raw = f\"{path_to_data}raw/\"\n",
    "path_to_processed = f\"{path_to_data}processed/\""
   ]
  },
  {
   "cell_type": "code",
   "execution_count": 8,
   "id": "9f8eaefa",
   "metadata": {},
   "outputs": [],
   "source": [
    "# Read from a txt file the information on the credentials for our local PgAdmin server\n",
    "with open(\"pg_admin_info.txt\", \"r\") as repo_info:\n",
    "    pg_credentials = repo_info.readlines()\n",
    "\n",
    "sqluser = pg_credentials[0].strip()\n",
    "dbname = pg_credentials[1].strip()\n",
    "schema_name =  pg_credentials[2].strip()\n",
    "password = pg_credentials[3].strip()"
   ]
  },
  {
   "cell_type": "markdown",
   "id": "69d4e5b3",
   "metadata": {},
   "source": [
    "## Queries"
   ]
  },
  {
   "cell_type": "code",
   "execution_count": 65,
   "id": "5a73f01a",
   "metadata": {},
   "outputs": [
    {
     "name": "stdout",
     "output_type": "stream",
     "text": [
      "Wall time: 40.2 s\n"
     ]
    }
   ],
   "source": [
    "%%time\n",
    "\n",
    "# Connect to local postgres version of mimic\n",
    "con = psycopg2.connect(host='localhost', database=dbname, user=sqluser, password=password)\n",
    "cur = con.cursor()\n",
    "\n",
    "# SQL query (gets 1st icd9_code from diagnoses_icd table for each hadm_id)\n",
    "query = \\\n",
    "\"\"\"\n",
    "select hadm_id, icd9_code from diagnoses_icd where seq_num = 1\n",
    "\"\"\"\n",
    "\n",
    "# Perform SQL query\n",
    "cur.execute('SET search_path to ' + schema_name)\n",
    "icd9_code = pd.read_sql_query(query,con)\n",
    "\n",
    "#SQL Query (gets all icd9_code from procedures_icd)\n",
    "query = \\\n",
    "\"\"\"\n",
    "select hadm_id, icd9_code from procedures_icd\n",
    "\"\"\"\n",
    "\n",
    "# Perform SQL query\n",
    "proc_icd9 = pd.read_sql_query(query,con)\n",
    "\n",
    "#SQL Query (gets all icd9_code from diagnoses_icd)\n",
    "query = \\\n",
    "\"\"\"\n",
    "select hadm_id, icd9_code from diagnoses_icd\n",
    "\"\"\"\n",
    "\n",
    "# Perform SQL query\n",
    "diag_icd9 = pd.read_sql_query(query,con)\n",
    "\n",
    "#SQL Query (gets all icd9_code from diagnoses_icd)\n",
    "query = \\\n",
    "\"\"\"\n",
    "select * from all_data3\n",
    "\"\"\"\n",
    "\n",
    "# Perform SQL query\n",
    "df = pd.read_sql_query(query,con)\n",
    "\n",
    "con.close()"
   ]
  },
  {
   "cell_type": "markdown",
   "id": "94e77f2f",
   "metadata": {},
   "source": [
    "## Data Processing"
   ]
  },
  {
   "cell_type": "code",
   "execution_count": 67,
   "id": "b826a02c",
   "metadata": {
    "scrolled": false
   },
   "outputs": [
    {
     "name": "stdout",
     "output_type": "stream",
     "text": [
      "Wall time: 13min 16s\n"
     ]
    }
   ],
   "source": [
    "%%time\n",
    "df['icd9_code'] = 0\n",
    "check =[]\n",
    "for hadm_id in set(df['hadm_id'].values):\n",
    "    if hadm_id in icd9_code['hadm_id'].values:\n",
    "        df.loc[df['hadm_id']==hadm_id, 'icd9_code'] = icd9_code.loc[(icd9_code['hadm_id']==hadm_id), 'icd9_code'].values[0]\n",
    "    else:\n",
    "        check.append(hadm_id)"
   ]
  },
  {
   "cell_type": "code",
   "execution_count": 68,
   "id": "ae143ea2",
   "metadata": {
    "scrolled": true
   },
   "outputs": [
    {
     "name": "stdout",
     "output_type": "stream",
     "text": [
      "Wall time: 19min 18s\n"
     ]
    }
   ],
   "source": [
    "%%time\n",
    "df['proc_icd9'] = 0\n",
    "for hadm_id in set(proc_icd9.hadm_id):\n",
    "    test = proc_icd9[proc_icd9['hadm_id'] == hadm_id]\n",
    "    df.loc[df['hadm_id'] == hadm_id, 'proc_icd9'] = test.icd9_code.str.cat(sep=',')"
   ]
  },
  {
   "cell_type": "code",
   "execution_count": 69,
   "id": "e8056a25",
   "metadata": {},
   "outputs": [
    {
     "name": "stdout",
     "output_type": "stream",
     "text": [
      "Wall time: 21min 49s\n"
     ]
    }
   ],
   "source": [
    "%%time\n",
    "df['diag_icd9'] = 0\n",
    "for hadm_id in set(diag_icd9.hadm_id):\n",
    "    test = diag_icd9[diag_icd9['hadm_id'] == hadm_id]\n",
    "    df.loc[df['hadm_id'] == hadm_id, 'diag_icd9'] = test.icd9_code.str.cat(sep=',')"
   ]
  },
  {
   "cell_type": "code",
   "execution_count": 79,
   "id": "4ebd080d",
   "metadata": {
    "scrolled": true
   },
   "outputs": [
    {
     "data": {
      "text/plain": [
       "\"\\nfor idx in range(len(data)):\\n    df.loc[idx, 'age_cat'] = Age_cat(data, idx)\\n    df.loc[idx, 'THS_cat'] = THS_cat(data, idx)\\n    df.loc[idx, 'OP'] = OP(data, idx)\\n    df.loc[idx, 'emergency_dpt'] = emergency_dpt(data, idx)\\n    df.loc[idx, 'dest_discharge'] = dest_discharge(data, idx)\\n    df.loc[idx, 'prev_adm'] = prev_adm(data, idx, 14)\\n    df.loc[idx, 'icd_chapters'] = icd9_chapters(data, idx)\\nTHS_cat2(data)\\n\""
      ]
     },
     "execution_count": 79,
     "metadata": {},
     "output_type": "execute_result"
    }
   ],
   "source": [
    "import copy\n",
    "\n",
    "data = df.copy()\n",
    "\n",
    "data[\"age_cat\"] = ''  \n",
    "data['type_stay'] = ''  \n",
    "data['prev_adm'] = ''  \n",
    "data['dest_discharge'] = ''\n",
    "data['emergency_dpt'] = ''\n",
    "data['icd_chapter'] = ''"
   ]
  },
  {
   "cell_type": "code",
   "execution_count": 81,
   "id": "5f5a839a",
   "metadata": {},
   "outputs": [
    {
     "name": "stdout",
     "output_type": "stream",
     "text": [
      "Wall time: 6.48 s\n"
     ]
    }
   ],
   "source": [
    "%%time\n",
    "# gender recoding\n",
    "data.replace({'F':'2-Female', 'M': '1-Male'}, inplace = True)"
   ]
  },
  {
   "cell_type": "code",
   "execution_count": 82,
   "id": "a50df6ca",
   "metadata": {},
   "outputs": [
    {
     "name": "stdout",
     "output_type": "stream",
     "text": [
      "Wall time: 126 ms\n"
     ]
    }
   ],
   "source": [
    "%%time\n",
    "# age_cat\n",
    "data.loc[data['age']<18, 'age_cat'] = 1\n",
    "data.loc[(data['age']>=18) & (df['age'] < 45), 'age_cat'] = 2\n",
    "data.loc[(data['age']>=45) & (df['age'] < 65), 'age_cat'] = 3\n",
    "data.loc[(data['age']>=65) & (df['age'] < 85), 'age_cat'] = 4\n",
    "data.loc[(data['age']>=85), 'age_cat'] = 5"
   ]
  },
  {
   "cell_type": "code",
   "execution_count": 83,
   "id": "2e8e79af",
   "metadata": {},
   "outputs": [
    {
     "name": "stdout",
     "output_type": "stream",
     "text": [
      "Wall time: 729 ms\n"
     ]
    }
   ],
   "source": [
    "%%time\n",
    "# type of stay\n",
    "medical_stay = {'CMED', 'DENT', 'ENT', 'GU', 'GYN', 'MED', 'NB', 'NBB', 'NMED', 'OBS', 'OMED', 'PSYCH', 'TRAUM'}\n",
    "surgical_stay = {'CSURG', 'NSURG', 'ORTHO', 'PSURG', 'SURG','TSURG', 'VSURG'}\n",
    "obstetric_stay = {'OBS'}\n",
    "data.loc[(data['curr_service'].isin(medical_stay)), 'type_stay'] = '1-Medical'\n",
    "data.loc[(data['curr_service'].isin(surgical_stay)), 'type_stay'] = '3-Surgical'\n",
    "data.loc[(data['curr_service'].isin(obstetric_stay)), 'type_stay'] = '2-Obstetrics'"
   ]
  },
  {
   "cell_type": "code",
   "execution_count": 84,
   "id": "78370d2b",
   "metadata": {},
   "outputs": [
    {
     "name": "stdout",
     "output_type": "stream",
     "text": [
      "Wall time: 253 ms\n"
     ]
    }
   ],
   "source": [
    "%%time\n",
    "# Origin of patient\n",
    "home = {'PHYS REFERRAL/NORMAL DELI', 'HMO REFERRAL/SICK', 'TRANSFER FROM SKILLED NUR'}\n",
    "data.loc[data['admission_location'].isin(home), 'origin_patient'] = '1-Home'\n",
    "data.loc[~data['admission_location'].isin(home), 'origin_patient'] = '2-Other'"
   ]
  },
  {
   "cell_type": "code",
   "execution_count": 85,
   "id": "78c2f3ef",
   "metadata": {},
   "outputs": [
    {
     "name": "stdout",
     "output_type": "stream",
     "text": [
      "Wall time: 368 ms\n"
     ]
    }
   ],
   "source": [
    "%%time\n",
    "# admission type\n",
    "urgent = {'URGENT', 'EMERGENCY'}\n",
    "data.loc[data['admission_type'].isin(urgent), 'emergency_dpt'] = 'Yes'\n",
    "data.loc[~data['admission_type'].isin(urgent), 'emergency_dpt'] = 'No'"
   ]
  },
  {
   "cell_type": "code",
   "execution_count": 86,
   "id": "013373e5",
   "metadata": {},
   "outputs": [
    {
     "name": "stdout",
     "output_type": "stream",
     "text": [
      "Wall time: 280 ms\n"
     ]
    }
   ],
   "source": [
    "%%time\n",
    "# discharge location\n",
    "dest = {'HOME', 'HOME HEALTH CARE'}\n",
    "data.loc[data['discharge_location'].isin(dest), 'dest_discharge'] = '1-Home'\n",
    "data.loc[~data['discharge_location'].isin(dest), 'dest_discharge'] = '2-Other'"
   ]
  },
  {
   "cell_type": "code",
   "execution_count": 87,
   "id": "2b6ae5c5",
   "metadata": {},
   "outputs": [
    {
     "name": "stdout",
     "output_type": "stream",
     "text": [
      "Wall time: 5h 26min 56s\n"
     ]
    }
   ],
   "source": [
    "%%time\n",
    "for subject in set(data.subject_id):\n",
    "    df_adm = data[data['subject_id'] == subject]\n",
    "    for i in df_adm.index:\n",
    "        cur_date = df_adm.loc[i, 'admittime']\n",
    "        hadm_id = df_adm.loc[i, 'hadm_id']\n",
    "        subject_id = df_adm.loc[i, 'subject_id']\n",
    "        df_prev_adm = df_adm[(df_adm.admittime < cur_date) & (df_adm['hadm_id'] != hadm_id)]\n",
    "        test = df_prev_adm['emergency_dpt'] == 'Yes'\n",
    "        if len(df_prev_adm) == 0:\n",
    "            data.loc[i, 'prev_adm'] = '1-No hospitalization'\n",
    "        elif test.any():\n",
    "            data.loc[i, 'prev_adm'] = '3-At least one with emergency'\n",
    "        else:\n",
    "            data.loc[i, 'prev_adm'] = '2-At least one non emergency'"
   ]
  },
  {
   "cell_type": "code",
   "execution_count": 88,
   "id": "5071eeca",
   "metadata": {},
   "outputs": [
    {
     "name": "stdout",
     "output_type": "stream",
     "text": [
      "Current date and time: \n",
      "2022-11-09 15:44:39.835854\n"
     ]
    }
   ],
   "source": [
    "import datetime\n",
    "now = datetime.datetime.now()\n",
    "print(\"Current date and time: \")\n",
    "print(str(now))"
   ]
  },
  {
   "cell_type": "code",
   "execution_count": 89,
   "id": "a93a594c",
   "metadata": {},
   "outputs": [
    {
     "name": "stdout",
     "output_type": "stream",
     "text": [
      "Wall time: 5h 37min 16s\n"
     ]
    }
   ],
   "source": [
    "%%time\n",
    "data['icd9_code'] = data['icd9_code'].astype(str)\n",
    "for idx in data.index:\n",
    "    if data.loc[idx, 'icd9_code'][0] == 'E':\n",
    "        data.loc[idx, 'icd_chapter'] = 19\n",
    "    elif data.loc[idx, 'icd9_code'][0] == 'V':\n",
    "        data.loc[idx, 'icd_chapter'] = 18\n",
    "    elif 0 < int(data.loc[idx, 'icd9_code'][0:3]) < 140:\n",
    "        data.loc[idx, 'icd_chapter'] = 1\n",
    "    elif 140 <= int(data.loc[idx, 'icd9_code'][0:3]) < 240:\n",
    "        data.loc[idx, 'icd_chapter'] = 2\n",
    "    elif 240 <= int(data.loc[idx, 'icd9_code'][0:3]) < 280:\n",
    "        data.loc[idx, 'icd_chapter'] = 3\n",
    "    elif 280 <= int(data.loc[idx, 'icd9_code'][0:3]) < 290:\n",
    "        data.loc[idx, 'icd_chapter'] = 4\n",
    "    elif 290 <= int(data.loc[idx, 'icd9_code'][0:3]) < 320:\n",
    "        data.loc[idx, 'icd_chapter'] = 5\n",
    "    elif 320 <= int(data.loc[idx, 'icd9_code'][0:3]) < 390:\n",
    "        data.loc[idx, 'icd_chapter'] = 6\n",
    "    elif 390 <= int(data.loc[idx, 'icd9_code'][0:3]) < 460:\n",
    "        data.loc[idx, 'icd_chapter'] = 7\n",
    "    elif 460 <= int(data.loc[idx, 'icd9_code'][0:3]) < 520:\n",
    "        data.loc[idx, 'icd_chapter'] = 8\n",
    "    elif 520 <= int(data.loc[idx, 'icd9_code'][0:3]) < 580:\n",
    "        data.loc[idx, 'icd_chapter'] = 9\n",
    "    elif 580 <= int(data.loc[idx, 'icd9_code'][0:3]) < 630:\n",
    "        data.loc[idx, 'icd_chapter'] = 10\n",
    "    elif 630 <= int(data.loc[idx, 'icd9_code'][0:3]) < 680:\n",
    "        data.loc[idx, 'icd_chapter'] = 11\n",
    "    elif 680 <= int(data.loc[idx, 'icd9_code'][0:3]) < 710:\n",
    "        data.loc[idx, 'icd_chapter'] = 12\n",
    "    elif 710 <= int(data.loc[idx, 'icd9_code'][0:3]) < 740:\n",
    "        data.loc[idx, 'icd_chapter'] = 13\n",
    "    elif 740 <= int(data.loc[idx, 'icd9_code'][0:3]) < 760:\n",
    "        data.loc[idx, 'icd_chapter'] = 14\n",
    "    elif 760 <= int(data.loc[idx, 'icd9_code'][0:3]) < 780:\n",
    "        data.loc[idx, 'icd_chapter'] = 15\n",
    "    elif 780 <= int(data.loc[idx, 'icd9_code'][0:3]) < 800:\n",
    "        data.loc[idx, 'icd_chapter'] = 16\n",
    "    elif 800 <= int(data.loc[idx, 'icd9_code'][0:3]) < 1000:\n",
    "        data.loc[idx, 'icd_chapter'] = 17 "
   ]
  },
  {
   "cell_type": "code",
   "execution_count": 33,
   "id": "d8714318",
   "metadata": {},
   "outputs": [],
   "source": [
    "# Finally save the file to a CSV\n",
    "data.to_csv(f'{path_to_raw}all_data_raw.csv.gzip', compression = 'gzip', index = False)"
   ]
  }
 ],
 "metadata": {
  "kernelspec": {
   "display_name": "Python 3.9.12 ('base')",
   "language": "python",
   "name": "python3"
  },
  "language_info": {
   "codemirror_mode": {
    "name": "ipython",
    "version": 3
   },
   "file_extension": ".py",
   "mimetype": "text/x-python",
   "name": "python",
   "nbconvert_exporter": "python",
   "pygments_lexer": "ipython3",
   "version": "3.9.12"
  },
  "vscode": {
   "interpreter": {
    "hash": "32aaecebd078ebf0fad58c11ce872e322c9fff2b8f0b0f5a9c84d62363eabb98"
   }
  }
 },
 "nbformat": 4,
 "nbformat_minor": 5
}
