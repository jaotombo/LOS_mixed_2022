{
 "cells": [
  {
   "cell_type": "markdown",
   "id": "71147302",
   "metadata": {},
   "source": [
    "# Data Cleaning"
   ]
  },
  {
   "cell_type": "markdown",
   "id": "3da822b1",
   "metadata": {},
   "source": [
    "## Setup"
   ]
  },
  {
   "cell_type": "code",
   "execution_count": 1,
   "id": "5b6b54e1",
   "metadata": {},
   "outputs": [],
   "source": [
    "# Import useful libraries\n",
    "import numpy as np\n",
    "import pandas as pd\n",
    "import os\n",
    "import re\n",
    "import pickle\n",
    "import sys\n",
    "import time"
   ]
  },
  {
   "cell_type": "code",
   "execution_count": 2,
   "id": "861c1928",
   "metadata": {},
   "outputs": [],
   "source": [
    "pd.set_option('display.max_rows', None)  ###\n",
    "pd.set_option('display.max_columns', None)  ###\n",
    "pd.set_option('display.width', None)  ###\n",
    "pd.set_option('display.max_colwidth', None)  ###"
   ]
  },
  {
   "cell_type": "code",
   "execution_count": 3,
   "id": "076b1ee9",
   "metadata": {},
   "outputs": [],
   "source": [
    "# Setup Repository\n",
    "with open(\"repo_info.txt\", \"r\") as repo_info:\n",
    "    path_to_repo = repo_info.readline()\n",
    "\n",
    "path_to_data = f\"{path_to_repo}data/\"\n",
    "path_to_raw = f\"{path_to_data}raw/\"\n",
    "path_to_processed = f\"{path_to_data}processed/\"\n",
    "path_to_icd = f\"{path_to_data}icd_codes/\""
   ]
  },
  {
   "cell_type": "markdown",
   "id": "3ed696a7",
   "metadata": {},
   "source": [
    "## Import Data"
   ]
  },
  {
   "cell_type": "code",
   "execution_count": 4,
   "id": "9398d73e",
   "metadata": {},
   "outputs": [],
   "source": [
    "raw_df = pd.read_csv(f\"{path_to_processed}df_mixed.csv.gzip\", compression = 'gzip', low_memory=False)"
   ]
  },
  {
   "cell_type": "code",
   "execution_count": 5,
   "id": "b046c5c4",
   "metadata": {},
   "outputs": [],
   "source": [
    "# Convert the columns to datetime values\n",
    "raw_df['dischtime'] = pd.to_datetime(raw_df['dischtime'])\n",
    "raw_df['admittime'] = pd.to_datetime(raw_df['admittime'])"
   ]
  },
  {
   "cell_type": "code",
   "execution_count": 6,
   "id": "5703d87a",
   "metadata": {},
   "outputs": [],
   "source": [
    "# Calculate LOS\n",
    "raw_df['los'] = raw_df.dischtime - raw_df.admittime"
   ]
  },
  {
   "cell_type": "code",
   "execution_count": 7,
   "id": "d959140e",
   "metadata": {},
   "outputs": [
    {
     "data": {
      "text/plain": [
       "Index(['index', 'hadm_id', 'subject_id', 'admittime', 'dischtime', 'deathtime',\n",
       "       'ethnicity', 'admission_type', 'admission_location', 'insurance',\n",
       "       'religion', 'marital_status', 'discharge_location', 'costcenter',\n",
       "       'cpt_code', 'first_careunit', 'last_careunit', 'first_wardid',\n",
       "       'last_wardid', 'icu_los', 'prev_service', 'curr_service', 'gender',\n",
       "       'age', 'dob', 'urea_n_min', 'urea_n_max', 'urea_n_mean',\n",
       "       'platelets_min', 'platelets_max', 'platelets_mean', 'magnesium_max',\n",
       "       'albumin_min', 'calcium_min', 'resprate_min', 'resprate_max',\n",
       "       'resprate_mean', 'glucose_min', 'glucose_max', 'glucose_mean', 'hr_min',\n",
       "       'hr_max', 'hr_mean', 'sysbp_min', 'sysbp_max', 'sysbp_mean',\n",
       "       'diasbp_min', 'diasbp_max', 'diasbp_mean', 'temp_min', 'temp_max',\n",
       "       'temp_mean', 'sapsii', 'sofa', 'urine_min', 'urine_mean', 'urine_max',\n",
       "       'patientweight', 'icd9_code', 'proc_icd9', 'diag_icd9', 'age_cat',\n",
       "       'type_stay', 'prev_adm', 'dest_discharge', 'emergency_dpt',\n",
       "       'icd_chapter', 'origin_patient', 'text', 'los'],\n",
       "      dtype='object')"
      ]
     },
     "execution_count": 7,
     "metadata": {},
     "output_type": "execute_result"
    }
   ],
   "source": [
    "raw_df.columns"
   ]
  },
  {
   "cell_type": "code",
   "execution_count": 8,
   "id": "2698a86a",
   "metadata": {},
   "outputs": [],
   "source": [
    "# Keep only relevant columns\n",
    "df = raw_df[['hadm_id', 'subject_id', 'ethnicity', 'admission_type',\n",
    "             'admission_location', 'insurance', 'religion', 'marital_status', 'discharge_location',\n",
    "             'icu_los','gender', 'age','urea_n_min', 'urea_n_max', 'urea_n_mean','platelets_min', \n",
    "             'platelets_max', 'platelets_mean', 'magnesium_max','albumin_min', 'calcium_min', \n",
    "             'resprate_min', 'resprate_max','resprate_mean', 'glucose_min', 'glucose_max', \n",
    "             'glucose_mean', 'hr_min','hr_max', 'hr_mean', 'sysbp_min', 'sysbp_max', 'sysbp_mean',\n",
    "             'diasbp_min', 'diasbp_max', 'diasbp_mean', 'temp_min', 'temp_max','temp_mean', 'sapsii', \n",
    "             'sofa', 'urine_min', 'urine_mean', 'urine_max', 'patientweight',\n",
    "             'age_cat','type_stay', 'prev_adm', 'dest_discharge', 'emergency_dpt', 'icd_chapter', \n",
    "             'origin_patient', 'los', 'text']]"
   ]
  },
  {
   "cell_type": "markdown",
   "id": "603575d2",
   "metadata": {},
   "source": [
    "## Explore and clean categorical variables"
   ]
  },
  {
   "cell_type": "code",
   "execution_count": 9,
   "id": "8613a696",
   "metadata": {},
   "outputs": [],
   "source": [
    "# Keep only categorical variables\n",
    "var_cat = df.columns[df.dtypes == \"object\"]\n",
    "df_cat = df[var_cat]"
   ]
  },
  {
   "cell_type": "code",
   "execution_count": 10,
   "id": "6a7b0575",
   "metadata": {},
   "outputs": [
    {
     "data": {
      "text/plain": [
       "ethnicity                41\n",
       "admission_type            3\n",
       "admission_location        8\n",
       "insurance                 5\n",
       "religion                 19\n",
       "marital_status            7\n",
       "discharge_location       16\n",
       "gender                    2\n",
       "type_stay                 3\n",
       "prev_adm                  3\n",
       "dest_discharge            2\n",
       "emergency_dpt             2\n",
       "origin_patient            2\n",
       "text                  30985\n",
       "dtype: int64"
      ]
     },
     "execution_count": 10,
     "metadata": {},
     "output_type": "execute_result"
    }
   ],
   "source": [
    "# Check how many modalities each variable has\n",
    "df_cat.nunique()"
   ]
  },
  {
   "cell_type": "code",
   "execution_count": 26,
   "id": "1f08533f",
   "metadata": {},
   "outputs": [
    {
     "name": "stdout",
     "output_type": "stream",
     "text": [
      "WHITE                                                       22544\n",
      "BLACK/AFRICAN AMERICAN                                       2568\n",
      "UNKNOWN/NOT SPECIFIED                                        1951\n",
      "HISPANIC OR LATINO                                            806\n",
      "OTHER                                                         656\n",
      "UNABLE TO OBTAIN                                              553\n",
      "ASIAN                                                         423\n",
      "PATIENT DECLINED TO ANSWER                                    299\n",
      "ASIAN - CHINESE                                               156\n",
      "HISPANIC/LATINO - PUERTO RICAN                                151\n",
      "WHITE - RUSSIAN                                               121\n",
      "BLACK/CAPE VERDEAN                                            118\n",
      "MULTI RACE ETHNICITY                                           69\n",
      "HISPANIC/LATINO - DOMINICAN                                    61\n",
      "BLACK/HAITIAN                                                  59\n",
      "ASIAN - ASIAN INDIAN                                           58\n",
      "WHITE - OTHER EUROPEAN                                         53\n",
      "PORTUGUESE                                                     43\n",
      "WHITE - BRAZILIAN                                              42\n",
      "MIDDLE EASTERN                                                 31\n",
      "ASIAN - VIETNAMESE                                             29\n",
      "HISPANIC/LATINO - GUATEMALAN                                   21\n",
      "BLACK/AFRICAN                                                  21\n",
      "HISPANIC/LATINO - CUBAN                                        19\n",
      "WHITE - EASTERN EUROPEAN                                       18\n",
      "AMERICAN INDIAN/ALASKA NATIVE                                  15\n",
      "ASIAN - FILIPINO                                               12\n",
      "HISPANIC/LATINO - SALVADORAN                                   10\n",
      "ASIAN - CAMBODIAN                                              10\n",
      "ASIAN - OTHER                                                   9\n",
      "NATIVE HAWAIIAN OR OTHER PACIFIC ISLANDER                       9\n",
      "ASIAN - KOREAN                                                  9\n",
      "HISPANIC/LATINO - CENTRAL AMERICAN (OTHER)                      8\n",
      "HISPANIC/LATINO - MEXICAN                                       7\n",
      "CARIBBEAN ISLAND                                                6\n",
      "HISPANIC/LATINO - COLOMBIAN                                     6\n",
      "SOUTH AMERICAN                                                  5\n",
      "ASIAN - JAPANESE                                                3\n",
      "HISPANIC/LATINO - HONDURAN                                      3\n",
      "AMERICAN INDIAN/ALASKA NATIVE FEDERALLY RECOGNIZED TRIBE        2\n",
      "ASIAN - THAI                                                    1\n",
      "Name: ethnicity, dtype: int64 \n",
      "\n",
      "EMERGENCY    25593\n",
      "ELECTIVE      4886\n",
      "URGENT         506\n",
      "Name: admission_type, dtype: int64 \n",
      "\n",
      "EMERGENCY ROOM ADMIT         12862\n",
      "CLINIC REFERRAL/PREMATURE     6645\n",
      "PHYS REFERRAL/NORMAL DELI     5829\n",
      "TRANSFER FROM HOSP/EXTRAM     5465\n",
      "TRANSFER FROM SKILLED NUR      149\n",
      "TRANSFER FROM OTHER HEALT       31\n",
      "** INFO NOT AVAILABLE **         3\n",
      "TRSF WITHIN THIS FACILITY        1\n",
      "Name: admission_location, dtype: int64 \n",
      "\n",
      "Medicare      17499\n",
      "Private        9556\n",
      "Medicaid       2773\n",
      "Government      862\n",
      "Self Pay        295\n",
      "Name: insurance, dtype: int64 \n",
      "\n",
      "CATHOLIC                  11571\n",
      "NOT SPECIFIED              6666\n",
      "PROTESTANT QUAKER          3999\n",
      "UNOBTAINABLE               2932\n",
      "JEWISH                     2928\n",
      "OTHER                      1412\n",
      "EPISCOPALIAN                420\n",
      "GREEK ORTHODOX              257\n",
      "CHRISTIAN SCIENTIST         198\n",
      "BUDDHIST                    131\n",
      "MUSLIM                      100\n",
      "JEHOVAH'S WITNESS            79\n",
      "UNITARIAN-UNIVERSALIST       71\n",
      "HINDU                        46\n",
      "ROMANIAN EAST. ORTH          43\n",
      "7TH DAY ADVENTIST            36\n",
      "HEBREW                        5\n",
      "BAPTIST                       4\n",
      "METHODIST                     3\n",
      "Name: religion, dtype: int64 \n",
      "\n",
      "MARRIED              14793\n",
      "SINGLE                7903\n",
      "WIDOWED               4566\n",
      "DIVORCED              2030\n",
      "SEPARATED              317\n",
      "UNKNOWN (DEFAULT)      180\n",
      "LIFE PARTNER            13\n",
      "Name: marital_status, dtype: int64 \n",
      "\n",
      "HOME HEALTH CARE             9144\n",
      "HOME                         6767\n",
      "SNF                          6301\n",
      "REHAB/DISTINCT PART HOSP     5150\n",
      "LONG TERM CARE HOSPITAL      2072\n",
      "SHORT TERM HOSPITAL           357\n",
      "DISCH-TRAN TO PSYCH HOSP      346\n",
      "HOSPICE-HOME                  317\n",
      "LEFT AGAINST MEDICAL ADVI     153\n",
      "DISC-TRAN CANCER/CHLDRN H     128\n",
      "HOSPICE-MEDICAL FACILITY      128\n",
      "OTHER FACILITY                 44\n",
      "HOME WITH HOME IV PROVIDR      35\n",
      "ICF                            33\n",
      "DISC-TRAN TO FEDERAL HC         9\n",
      "SNF-MEDICAID ONLY CERTIF        1\n",
      "Name: discharge_location, dtype: int64 \n",
      "\n",
      "1-Male      17006\n",
      "2-Female    13979\n",
      "Name: gender, dtype: int64 \n",
      "\n",
      "1-Medical       18185\n",
      "3-Surgical      12756\n",
      "2-Obstetrics       44\n",
      "Name: type_stay, dtype: int64 \n",
      "\n",
      "1-No hospitalization             25476\n",
      "3-At least one with emergency     4999\n",
      "2-At least one non emergency       510\n",
      "Name: prev_adm, dtype: int64 \n",
      "\n",
      "1-Home     15911\n",
      "2-Other    15074\n",
      "Name: dest_discharge, dtype: int64 \n",
      "\n",
      "Yes    26099\n",
      "No      4886\n",
      "Name: emergency_dpt, dtype: int64 \n",
      "\n",
      "2-Other    25007\n",
      "1-Home      5978\n",
      "Name: origin_patient, dtype: int64 \n",
      "\n"
     ]
    }
   ],
   "source": [
    "# Check the categories present in each variable\n",
    "for col in var_cat:\n",
    "    print(df_cat[col].value_counts(), '\\n')"
   ]
  },
  {
   "cell_type": "code",
   "execution_count": 11,
   "id": "08fd2db2",
   "metadata": {},
   "outputs": [],
   "source": [
    "# Harmonize the ETHNICITY column\n",
    "df.loc[df['ethnicity'].str.contains('WHITE', case=False), 'ethnicity'] = 'white'\n",
    "df.loc[df['ethnicity'].str.contains('BLACK', case=False), 'ethnicity'] = 'black'\n",
    "df.loc[df['ethnicity'].str.contains('ASIAN', case=False), 'ethnicity'] = 'asian'\n",
    "df.loc[df['ethnicity'].str.contains('HISPANIC|PORTUGUESE|SOUTH AMERICAN', case=False), 'ethnicity'] = 'hispanic'\n",
    "df.loc[df['ethnicity'].str.contains('UNABLE TO OBTAIN|PATIENT DECLINED TO ANSWER|UNKNOWN/NOT SPECIFIED', case=False), 'ethnicity'] = 'unknown'\n",
    "df.loc[~df['ethnicity'].str.contains('white|black|asian|hispanic|unknown', case=False), 'ethnicity'] = 'other'"
   ]
  },
  {
   "cell_type": "code",
   "execution_count": 12,
   "id": "8d69fb46",
   "metadata": {},
   "outputs": [
    {
     "data": {
      "text/plain": [
       "white       22778\n",
       "unknown      2803\n",
       "black        2766\n",
       "hispanic     1140\n",
       "other         788\n",
       "asian         710\n",
       "Name: ethnicity, dtype: int64"
      ]
     },
     "execution_count": 12,
     "metadata": {},
     "output_type": "execute_result"
    }
   ],
   "source": [
    "# Check now what we have as categories\n",
    "df['ethnicity'].value_counts()"
   ]
  },
  {
   "cell_type": "code",
   "execution_count": 14,
   "id": "065f485a",
   "metadata": {},
   "outputs": [],
   "source": [
    "# Harmonize the discharge location column\n",
    "df.loc[df['discharge_location'].str.contains('home|LEFT AGAINST MEDICAL ADVI', case=False), 'dest_discharge'] = 'home'\n",
    "df.loc[~df['discharge_location'].str.contains('home|LEFT AGAINST MEDICAL ADVI', case=False), 'dest_discharge'] = 'other'"
   ]
  },
  {
   "cell_type": "code",
   "execution_count": 16,
   "id": "73407e5d",
   "metadata": {},
   "outputs": [
    {
     "name": "stderr",
     "output_type": "stream",
     "text": [
      "C:\\Users\\luca9\\AppData\\Local\\Temp\\ipykernel_1908\\449948772.py:2: SettingWithCopyWarning: \n",
      "A value is trying to be set on a copy of a slice from a DataFrame\n",
      "\n",
      "See the caveats in the documentation: https://pandas.pydata.org/pandas-docs/stable/user_guide/indexing.html#returning-a-view-versus-a-copy\n",
      "  df.drop(columns=['discharge_location'], inplace = True)\n"
     ]
    }
   ],
   "source": [
    "# Drop columns we will not need\n",
    "df.drop(columns=['discharge_location'], inplace = True)"
   ]
  },
  {
   "cell_type": "code",
   "execution_count": 17,
   "id": "42727103",
   "metadata": {},
   "outputs": [
    {
     "name": "stderr",
     "output_type": "stream",
     "text": [
      "C:\\Users\\luca9\\AppData\\Local\\Temp\\ipykernel_1908\\92513971.py:2: SettingWithCopyWarning: \n",
      "A value is trying to be set on a copy of a slice from a DataFrame\n",
      "\n",
      "See the caveats in the documentation: https://pandas.pydata.org/pandas-docs/stable/user_guide/indexing.html#returning-a-view-versus-a-copy\n",
      "  df['marital_status'].fillna('unknown', inplace=True)\n"
     ]
    }
   ],
   "source": [
    "# Harmonize the marital status column\n",
    "df['marital_status'].fillna('unknown', inplace=True)\n",
    "df.loc[df['marital_status'].str.contains('MARRIED|LIFE PARTNER', case=False, na='unknown'),'marital_status'] = 'couple'\n",
    "df.loc[df['marital_status'].str.contains('DIVORCED|SEPARATED', case=False), 'marital_status'] = 'separated'\n",
    "df.loc[df['marital_status'].str.contains('unknown', case=False), 'marital_status'] = 'unknown'"
   ]
  },
  {
   "cell_type": "code",
   "execution_count": 18,
   "id": "9e91b66b",
   "metadata": {},
   "outputs": [
    {
     "data": {
      "text/plain": [
       "couple       14806\n",
       "SINGLE        7903\n",
       "WIDOWED       4566\n",
       "separated     2347\n",
       "unknown       1363\n",
       "Name: marital_status, dtype: int64"
      ]
     },
     "execution_count": 18,
     "metadata": {},
     "output_type": "execute_result"
    }
   ],
   "source": [
    "# And check now the results\n",
    "df['marital_status'].value_counts()"
   ]
  },
  {
   "cell_type": "code",
   "execution_count": 22,
   "id": "e63989b5",
   "metadata": {},
   "outputs": [
    {
     "name": "stderr",
     "output_type": "stream",
     "text": [
      "C:\\Users\\luca9\\AppData\\Local\\Temp\\ipykernel_1908\\3327579560.py:2: SettingWithCopyWarning: \n",
      "A value is trying to be set on a copy of a slice from a DataFrame\n",
      "\n",
      "See the caveats in the documentation: https://pandas.pydata.org/pandas-docs/stable/user_guide/indexing.html#returning-a-view-versus-a-copy\n",
      "  df['religion'].fillna('unknown', inplace=True)\n",
      "C:\\Users\\luca9\\AppData\\Local\\Temp\\ipykernel_1908\\3327579560.py:5: SettingWithCopyWarning: \n",
      "A value is trying to be set on a copy of a slice from a DataFrame.\n",
      "Try using .loc[row_indexer,col_indexer] = value instead\n",
      "\n",
      "See the caveats in the documentation: https://pandas.pydata.org/pandas-docs/stable/user_guide/indexing.html#returning-a-view-versus-a-copy\n",
      "  df.religion = df.religion.str.lower()\n"
     ]
    }
   ],
   "source": [
    "# Harmonize the religion column\n",
    "df['religion'].fillna('unknown', inplace=True)\n",
    "df.loc[df['religion'].str.contains('NOT SPECIFIED|UNOBTAINABLE|unknown', case=False), 'religion'] = 'undefined'\n",
    "df.loc[~df['religion'].str.contains('CATHOLIC|PROTESTANT QUAKER|JEWISH|undefined', case=False), 'religion'] = 'other'\n",
    "df.religion = df.religion.str.lower()"
   ]
  },
  {
   "cell_type": "code",
   "execution_count": 23,
   "id": "57bc5970",
   "metadata": {},
   "outputs": [
    {
     "data": {
      "text/plain": [
       "catholic             11571\n",
       "undefined             9682\n",
       "protestant quaker     3999\n",
       "jewish                2928\n",
       "other                 2805\n",
       "Name: religion, dtype: int64"
      ]
     },
     "execution_count": 23,
     "metadata": {},
     "output_type": "execute_result"
    }
   ],
   "source": [
    "# And check now the results\n",
    "df['religion'].value_counts()"
   ]
  },
  {
   "cell_type": "code",
   "execution_count": 24,
   "id": "814c17ea",
   "metadata": {},
   "outputs": [],
   "source": [
    "# Harmonize the admission location column\n",
    "df.loc[df['admission_location'].str.contains('EMERGENCY ROOM ADMIT|PHYS REFERRAL', case=False), 'admission_location'] = 'home'\n",
    "df.loc[~df['admission_location'].str.contains('home', case=False), 'admission_location'] = 'other'"
   ]
  },
  {
   "cell_type": "code",
   "execution_count": 25,
   "id": "d6e29177",
   "metadata": {},
   "outputs": [
    {
     "data": {
      "text/plain": [
       "home     18691\n",
       "other    12294\n",
       "Name: admission_location, dtype: int64"
      ]
     },
     "execution_count": 25,
     "metadata": {},
     "output_type": "execute_result"
    }
   ],
   "source": [
    "# And check now the results\n",
    "df['admission_location'].value_counts()"
   ]
  },
  {
   "cell_type": "code",
   "execution_count": 26,
   "id": "7649b743",
   "metadata": {},
   "outputs": [
    {
     "name": "stdout",
     "output_type": "stream",
     "text": [
      "<class 'pandas.core.frame.DataFrame'>\n",
      "RangeIndex: 30985 entries, 0 to 30984\n",
      "Data columns (total 53 columns):\n",
      " #   Column              Non-Null Count  Dtype          \n",
      "---  ------              --------------  -----          \n",
      " 0   hadm_id             30985 non-null  int64          \n",
      " 1   subject_id          30985 non-null  int64          \n",
      " 2   ethnicity           30985 non-null  object         \n",
      " 3   admission_type      30985 non-null  object         \n",
      " 4   admission_location  30985 non-null  object         \n",
      " 5   insurance           30985 non-null  object         \n",
      " 6   religion            30985 non-null  object         \n",
      " 7   marital_status      30985 non-null  object         \n",
      " 8   icu_los             30985 non-null  float64        \n",
      " 9   gender              30985 non-null  object         \n",
      " 10  age                 30985 non-null  float64        \n",
      " 11  urea_n_min          30976 non-null  float64        \n",
      " 12  urea_n_max          30976 non-null  float64        \n",
      " 13  urea_n_mean         30976 non-null  float64        \n",
      " 14  platelets_min       30974 non-null  float64        \n",
      " 15  platelets_max       30974 non-null  float64        \n",
      " 16  platelets_mean      30974 non-null  float64        \n",
      " 17  magnesium_max       30890 non-null  float64        \n",
      " 18  albumin_min         20330 non-null  float64        \n",
      " 19  calcium_min         30133 non-null  float64        \n",
      " 20  resprate_min        30977 non-null  float64        \n",
      " 21  resprate_max        30977 non-null  float64        \n",
      " 22  resprate_mean       30977 non-null  float64        \n",
      " 23  glucose_min         30898 non-null  float64        \n",
      " 24  glucose_max         30898 non-null  float64        \n",
      " 25  glucose_mean        30898 non-null  float64        \n",
      " 26  hr_min              30984 non-null  float64        \n",
      " 27  hr_max              30984 non-null  float64        \n",
      " 28  hr_mean             30984 non-null  float64        \n",
      " 29  sysbp_min           30982 non-null  float64        \n",
      " 30  sysbp_max           30982 non-null  float64        \n",
      " 31  sysbp_mean          30982 non-null  float64        \n",
      " 32  diasbp_min          30982 non-null  float64        \n",
      " 33  diasbp_max          30982 non-null  float64        \n",
      " 34  diasbp_mean         30982 non-null  float64        \n",
      " 35  temp_min            30939 non-null  float64        \n",
      " 36  temp_max            30939 non-null  float64        \n",
      " 37  temp_mean           30939 non-null  float64        \n",
      " 38  sapsii              30985 non-null  int64          \n",
      " 39  sofa                30985 non-null  int64          \n",
      " 40  urine_min           30979 non-null  float64        \n",
      " 41  urine_mean          30979 non-null  float64        \n",
      " 42  urine_max           30979 non-null  float64        \n",
      " 43  patientweight       16065 non-null  float64        \n",
      " 44  age_cat             30985 non-null  int64          \n",
      " 45  type_stay           30985 non-null  object         \n",
      " 46  prev_adm            30985 non-null  object         \n",
      " 47  dest_discharge      30985 non-null  object         \n",
      " 48  emergency_dpt       30985 non-null  object         \n",
      " 49  icd_chapter         30985 non-null  int64          \n",
      " 50  origin_patient      30985 non-null  object         \n",
      " 51  los                 30985 non-null  timedelta64[ns]\n",
      " 52  text                30985 non-null  object         \n",
      "dtypes: float64(33), int64(6), object(13), timedelta64[ns](1)\n",
      "memory usage: 12.5+ MB\n"
     ]
    }
   ],
   "source": [
    "df.info()"
   ]
  },
  {
   "cell_type": "code",
   "execution_count": 27,
   "id": "7965b355",
   "metadata": {},
   "outputs": [
    {
     "name": "stderr",
     "output_type": "stream",
     "text": [
      "C:\\Users\\luca9\\AppData\\Local\\Temp\\ipykernel_1908\\229233117.py:2: SettingWithCopyWarning: \n",
      "A value is trying to be set on a copy of a slice from a DataFrame.\n",
      "Try using .loc[row_indexer,col_indexer] = value instead\n",
      "\n",
      "See the caveats in the documentation: https://pandas.pydata.org/pandas-docs/stable/user_guide/indexing.html#returning-a-view-versus-a-copy\n",
      "  df['age_cat'] = df['age_cat'].replace({1:'< 18 years',2:'18-44 years',3:'45-64 years',4:'65-84 years',5:'85+ years'})\n"
     ]
    }
   ],
   "source": [
    "# Replace the age category column with the proper names\n",
    "df['age_cat'] = df['age_cat'].replace({1:'< 18 years',2:'18-44 years',3:'45-64 years',4:'65-84 years',5:'85+ years'})"
   ]
  },
  {
   "cell_type": "code",
   "execution_count": 28,
   "id": "2a358ded",
   "metadata": {},
   "outputs": [
    {
     "data": {
      "text/plain": [
       "65-84 years    13060\n",
       "45-64 years    10580\n",
       "18-44 years     4080\n",
       "85+ years       3265\n",
       "Name: age_cat, dtype: int64"
      ]
     },
     "execution_count": 28,
     "metadata": {},
     "output_type": "execute_result"
    }
   ],
   "source": [
    "# And check the Age Distribution\n",
    "df['age_cat'].value_counts()"
   ]
  },
  {
   "cell_type": "markdown",
   "id": "21a53e3c",
   "metadata": {},
   "source": [
    "## ICD9 Codes"
   ]
  },
  {
   "cell_type": "code",
   "execution_count": 29,
   "id": "d7fc013e",
   "metadata": {
    "tags": []
   },
   "outputs": [],
   "source": [
    "# Load the ICD Codes\n",
    "icd = pd.read_csv(f'{path_to_icd}icd_chapter.txt', sep='\\t', low_memory=False)"
   ]
  },
  {
   "cell_type": "code",
   "execution_count": 30,
   "id": "a95fa822",
   "metadata": {},
   "outputs": [
    {
     "data": {
      "text/html": [
       "<div>\n",
       "<style scoped>\n",
       "    .dataframe tbody tr th:only-of-type {\n",
       "        vertical-align: middle;\n",
       "    }\n",
       "\n",
       "    .dataframe tbody tr th {\n",
       "        vertical-align: top;\n",
       "    }\n",
       "\n",
       "    .dataframe thead th {\n",
       "        text-align: right;\n",
       "    }\n",
       "</style>\n",
       "<table border=\"1\" class=\"dataframe\">\n",
       "  <thead>\n",
       "    <tr style=\"text-align: right;\">\n",
       "      <th></th>\n",
       "      <th>Chapter</th>\n",
       "      <th>Code Range</th>\n",
       "      <th>Description</th>\n",
       "    </tr>\n",
       "  </thead>\n",
       "  <tbody>\n",
       "    <tr>\n",
       "      <th>0</th>\n",
       "      <td>1</td>\n",
       "      <td>001-139</td>\n",
       "      <td>Infectious Parasitic</td>\n",
       "    </tr>\n",
       "    <tr>\n",
       "      <th>1</th>\n",
       "      <td>2</td>\n",
       "      <td>140-239</td>\n",
       "      <td>Neoplasms</td>\n",
       "    </tr>\n",
       "    <tr>\n",
       "      <th>2</th>\n",
       "      <td>3</td>\n",
       "      <td>240-279</td>\n",
       "      <td>Endocrine Nutritional Metabolic Immunity Disorders</td>\n",
       "    </tr>\n",
       "    <tr>\n",
       "      <th>3</th>\n",
       "      <td>4</td>\n",
       "      <td>280-289</td>\n",
       "      <td>Blood &amp; Blood-Forming Organs</td>\n",
       "    </tr>\n",
       "    <tr>\n",
       "      <th>4</th>\n",
       "      <td>5</td>\n",
       "      <td>290-319</td>\n",
       "      <td>Mental Disorders</td>\n",
       "    </tr>\n",
       "  </tbody>\n",
       "</table>\n",
       "</div>"
      ],
      "text/plain": [
       "   Chapter Code Range                                         Description\n",
       "0        1   001-139                                Infectious Parasitic \n",
       "1        2   140-239                                            Neoplasms\n",
       "2        3   240-279   Endocrine Nutritional Metabolic Immunity Disorders\n",
       "3        4   280-289                         Blood & Blood-Forming Organs\n",
       "4        5   290-319                                     Mental Disorders"
      ]
     },
     "execution_count": 30,
     "metadata": {},
     "output_type": "execute_result"
    }
   ],
   "source": [
    "icd.head()"
   ]
  },
  {
   "cell_type": "code",
   "execution_count": 31,
   "id": "f0b2bf2d",
   "metadata": {},
   "outputs": [
    {
     "name": "stdout",
     "output_type": "stream",
     "text": [
      "<class 'pandas.core.frame.DataFrame'>\n",
      "RangeIndex: 19 entries, 0 to 18\n",
      "Data columns (total 3 columns):\n",
      " #   Column       Non-Null Count  Dtype \n",
      "---  ------       --------------  ----- \n",
      " 0   Chapter      19 non-null     int64 \n",
      " 1   Code Range   19 non-null     object\n",
      " 2   Description  19 non-null     object\n",
      "dtypes: int64(1), object(2)\n",
      "memory usage: 584.0+ bytes\n"
     ]
    }
   ],
   "source": [
    "icd.info()"
   ]
  },
  {
   "cell_type": "code",
   "execution_count": 32,
   "id": "3fa2ccac",
   "metadata": {},
   "outputs": [],
   "source": [
    "# Generate a dictionary for all ICD codes\n",
    "icd_dict = {key:value for key,value in zip(icd['Chapter'],icd['Description'])}"
   ]
  },
  {
   "cell_type": "code",
   "execution_count": 33,
   "id": "563cd122",
   "metadata": {},
   "outputs": [
    {
     "data": {
      "text/plain": [
       "{1: 'Infectious Parasitic ',\n",
       " 2: 'Neoplasms',\n",
       " 3: 'Endocrine Nutritional Metabolic Immunity Disorders',\n",
       " 4: 'Blood & Blood-Forming Organs',\n",
       " 5: 'Mental Disorders',\n",
       " 6: 'Nervous System & Sense Organs',\n",
       " 7: 'Circulatory System',\n",
       " 8: 'Respiratory System',\n",
       " 9: 'Digestive System',\n",
       " 10: 'Genitourinary System',\n",
       " 11: 'Complications Pregnancy Childbirth Puerperium',\n",
       " 12: 'Skin Subcutaneous Tissue',\n",
       " 13: 'Musculoskeletal System Connective Tissue',\n",
       " 14: 'Congenital Anomalies',\n",
       " 15: 'Certain Conditions Originating Perinatal Period',\n",
       " 16: 'Symptoms Signs Ill-Defined Conditions',\n",
       " 17: 'Injury Poisoning',\n",
       " 18: 'Supp Factors Health Status',\n",
       " 19: 'Supp External Causes Injury Poisoning'}"
      ]
     },
     "execution_count": 33,
     "metadata": {},
     "output_type": "execute_result"
    }
   ],
   "source": [
    "icd_dict"
   ]
  },
  {
   "cell_type": "code",
   "execution_count": 34,
   "id": "6059298a",
   "metadata": {},
   "outputs": [
    {
     "name": "stderr",
     "output_type": "stream",
     "text": [
      "C:\\Users\\luca9\\AppData\\Local\\Temp\\ipykernel_1908\\513328601.py:2: SettingWithCopyWarning: \n",
      "A value is trying to be set on a copy of a slice from a DataFrame.\n",
      "Try using .loc[row_indexer,col_indexer] = value instead\n",
      "\n",
      "See the caveats in the documentation: https://pandas.pydata.org/pandas-docs/stable/user_guide/indexing.html#returning-a-view-versus-a-copy\n",
      "  df['icd_chapter'] = df['icd_chapter'].replace(icd_dict)\n"
     ]
    }
   ],
   "source": [
    "# Finally replace each ICD chapter with its proper description\n",
    "df['icd_chapter'] = df['icd_chapter'].replace(icd_dict)"
   ]
  },
  {
   "cell_type": "code",
   "execution_count": 35,
   "id": "b76d9f4c",
   "metadata": {},
   "outputs": [],
   "source": [
    "# Finally save the file to a CSV\n",
    "df.to_csv(f'{path_to_processed}df_mixed_discharge.csv.gzip', compression = 'gzip', index = False)"
   ]
  }
 ],
 "metadata": {
  "kernelspec": {
   "display_name": "Python 3.9.12 ('base')",
   "language": "python",
   "name": "python3"
  },
  "language_info": {
   "codemirror_mode": {
    "name": "ipython",
    "version": 3
   },
   "file_extension": ".py",
   "mimetype": "text/x-python",
   "name": "python",
   "nbconvert_exporter": "python",
   "pygments_lexer": "ipython3",
   "version": "3.9.12"
  },
  "vscode": {
   "interpreter": {
    "hash": "32aaecebd078ebf0fad58c11ce872e322c9fff2b8f0b0f5a9c84d62363eabb98"
   }
  }
 },
 "nbformat": 4,
 "nbformat_minor": 5
}
