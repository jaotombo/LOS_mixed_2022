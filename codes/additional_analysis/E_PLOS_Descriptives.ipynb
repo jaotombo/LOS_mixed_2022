{
  "cells": [
    {
      "attachments": {},
      "cell_type": "markdown",
      "metadata": {
        "id": "jtikTfnD-uMu"
      },
      "source": [
        "# For PLOS ONE Revision 2023-06"
      ]
    },
    {
      "attachments": {},
      "cell_type": "markdown",
      "metadata": {},
      "source": [
        "## SETUP"
      ]
    },
    {
      "cell_type": "code",
      "execution_count": 24,
      "metadata": {},
      "outputs": [],
      "source": [
        "# Import libraries\n",
        "import numpy as np\n",
        "import pandas as pd\n",
        "import os\n",
        "import seaborn as sns\n",
        "from tqdm import tqdm\n",
        "import random\n",
        "from scipy.stats.contingency import chi2_contingency\n",
        "\n",
        "\n",
        "pd.set_option('display.max_rows', None)  ###\n",
        "pd.set_option('display.max_columns', None)  ###\n",
        "pd.set_option('display.width', None)  ###\n",
        "pd.set_option('display.max_colwidth', None)  ###\n",
        "\n",
        "import warnings\n",
        "warnings.filterwarnings('ignore')"
      ]
    },
    {
      "cell_type": "code",
      "execution_count": 9,
      "metadata": {
        "colab": {
          "base_uri": "https://localhost:8080/"
        },
        "id": "IizEL5bR-0xI",
        "outputId": "4f774dcf-5ffb-4023-d2d7-0223d5b614bc"
      },
      "outputs": [
        {
          "name": "stdout",
          "output_type": "stream",
          "text": [
            "/Users/ADORNI/Dropbox (BFI)/Luca_Data_df_mixed/\n"
          ]
        }
      ],
      "source": [
        "try:\n",
        "  from google.colab import drive\n",
        "  IN_COLAB=True\n",
        "except:\n",
        "  IN_COLAB=False\n",
        "\n",
        "if IN_COLAB:\n",
        "  print(\"We're running Colab\")\n",
        "\n",
        "if IN_COLAB:  \n",
        "  # Mount the Google Drive at mount\n",
        "  mount='/content/gdrive'\n",
        "  print(\"Colab: mounting Google drive on \", mount)\n",
        "  # connect your colab with the drive\n",
        "  drive.mount(mount)\n",
        "\n",
        " # Switch to the directory on the Google Drive that you want to use\n",
        "  import os\n",
        "  path_to_repo = mount + \"/MyDrive/MIMIC-III Text Mining/LOS_FINAL/\"\n",
        "\n",
        "else:\n",
        "  # Setup Repository\n",
        "  with open(\"repo_info.txt\", \"r\") as repo_info:\n",
        "      path_to_repo = repo_info.readline()\n",
        "\n",
        "  \n",
        "print(path_to_repo)\n",
        "\n",
        "path_to_data = f\"{path_to_repo}data/\"\n",
        "path_to_raw = f\"{path_to_data}raw/\"\n",
        "path_to_processed = f\"{path_to_data}processed/\"\n",
        "path_to_lda = f\"{path_to_data}lda/\"\n",
        "path_to_icd = f\"{path_to_data}icd_codes/\"\n",
        "path_to_models = f\"{path_to_repo}models/\"\n",
        "path_to_results = f\"{path_to_repo}results/\""
      ]
    },
    {
      "attachments": {},
      "cell_type": "markdown",
      "metadata": {},
      "source": [
        "## LOAD DATA"
      ]
    },
    {
      "cell_type": "code",
      "execution_count": 11,
      "metadata": {},
      "outputs": [],
      "source": [
        "# PARAMETERS\n",
        "\n",
        "# Set to True if we want to include deaths\n",
        "death_incl = False\n",
        "death_tag = np.where(death_incl,\"_death\", \"\")"
      ]
    },
    {
      "cell_type": "code",
      "execution_count": 14,
      "metadata": {
        "id": "49xNb2ap_I01"
      },
      "outputs": [],
      "source": [
        "# import dataset\n",
        "file = f'{path_to_processed}df_mixed_discharge{death_tag}.csv.gzip'\n",
        "df = pd.read_csv(file, compression = 'gzip', low_memory=False)"
      ]
    },
    {
      "cell_type": "code",
      "execution_count": 15,
      "metadata": {
        "id": "Tr1emO9VSv57"
      },
      "outputs": [],
      "source": [
        "# Transform the LOS timedelta to days (as decimal values to increase precision)\n",
        "df['los'] = pd.to_timedelta(df.los)\n",
        "df['los'] = df.los/pd.to_timedelta(1, unit='D')"
      ]
    },
    {
      "cell_type": "code",
      "execution_count": 16,
      "metadata": {
        "colab": {
          "base_uri": "https://localhost:8080/"
        },
        "id": "G05X2DIpS4kQ",
        "outputId": "a639b6cc-731c-4a8f-86ae-8a5dfc7b260b"
      },
      "outputs": [
        {
          "data": {
            "text/plain": [
              "(30985, 30764)"
            ]
          },
          "execution_count": 16,
          "metadata": {},
          "output_type": "execute_result"
        }
      ],
      "source": [
        "# selection criterion : only patients 18 and older and with a length of stay or 1 day or greater\n",
        "df = df.loc[(df['age']>=18) & (df['los']>=1),:]\n",
        "# compare size of dataframe before and after selection\n",
        "len(raw_df), len(df)"
      ]
    },
    {
      "cell_type": "code",
      "execution_count": 17,
      "metadata": {
        "id": "VX2AKj1DSVel"
      },
      "outputs": [],
      "source": [
        "# drop the variables to be exempted from the analysis and rename new dataset\n",
        "df = df.drop(columns = ['hadm_id', 'subject_id','icu_los'])"
      ]
    },
    {
      "cell_type": "code",
      "execution_count": 18,
      "metadata": {
        "colab": {
          "base_uri": "https://localhost:8080/",
          "height": 1000
        },
        "id": "lEiUPd9xTbQS",
        "outputId": "87c190a3-56b1-49dd-a0d7-da40542ae069"
      },
      "outputs": [
        {
          "data": {
            "text/html": [
              "<div>\n",
              "<style scoped>\n",
              "    .dataframe tbody tr th:only-of-type {\n",
              "        vertical-align: middle;\n",
              "    }\n",
              "\n",
              "    .dataframe tbody tr th {\n",
              "        vertical-align: top;\n",
              "    }\n",
              "\n",
              "    .dataframe thead th {\n",
              "        text-align: right;\n",
              "    }\n",
              "</style>\n",
              "<table border=\"1\" class=\"dataframe\">\n",
              "  <thead>\n",
              "    <tr style=\"text-align: right;\">\n",
              "      <th></th>\n",
              "      <th>count</th>\n",
              "      <th>proportions</th>\n",
              "    </tr>\n",
              "  </thead>\n",
              "  <tbody>\n",
              "    <tr>\n",
              "      <th>patientweight</th>\n",
              "      <td>14847</td>\n",
              "      <td>0.482610</td>\n",
              "    </tr>\n",
              "    <tr>\n",
              "      <th>albumin_min</th>\n",
              "      <td>10503</td>\n",
              "      <td>0.341406</td>\n",
              "    </tr>\n",
              "    <tr>\n",
              "      <th>calcium_min</th>\n",
              "      <td>819</td>\n",
              "      <td>0.026622</td>\n",
              "    </tr>\n",
              "    <tr>\n",
              "      <th>glucose_mean</th>\n",
              "      <td>64</td>\n",
              "      <td>0.002080</td>\n",
              "    </tr>\n",
              "    <tr>\n",
              "      <th>glucose_max</th>\n",
              "      <td>64</td>\n",
              "      <td>0.002080</td>\n",
              "    </tr>\n",
              "    <tr>\n",
              "      <th>glucose_min</th>\n",
              "      <td>64</td>\n",
              "      <td>0.002080</td>\n",
              "    </tr>\n",
              "    <tr>\n",
              "      <th>magnesium_max</th>\n",
              "      <td>64</td>\n",
              "      <td>0.002080</td>\n",
              "    </tr>\n",
              "    <tr>\n",
              "      <th>temp_mean</th>\n",
              "      <td>45</td>\n",
              "      <td>0.001463</td>\n",
              "    </tr>\n",
              "    <tr>\n",
              "      <th>temp_max</th>\n",
              "      <td>45</td>\n",
              "      <td>0.001463</td>\n",
              "    </tr>\n",
              "    <tr>\n",
              "      <th>temp_min</th>\n",
              "      <td>45</td>\n",
              "      <td>0.001463</td>\n",
              "    </tr>\n",
              "    <tr>\n",
              "      <th>resprate_mean</th>\n",
              "      <td>8</td>\n",
              "      <td>0.000260</td>\n",
              "    </tr>\n",
              "    <tr>\n",
              "      <th>resprate_max</th>\n",
              "      <td>8</td>\n",
              "      <td>0.000260</td>\n",
              "    </tr>\n",
              "    <tr>\n",
              "      <th>resprate_min</th>\n",
              "      <td>8</td>\n",
              "      <td>0.000260</td>\n",
              "    </tr>\n",
              "    <tr>\n",
              "      <th>urine_min</th>\n",
              "      <td>6</td>\n",
              "      <td>0.000195</td>\n",
              "    </tr>\n",
              "    <tr>\n",
              "      <th>urine_max</th>\n",
              "      <td>6</td>\n",
              "      <td>0.000195</td>\n",
              "    </tr>\n",
              "    <tr>\n",
              "      <th>urine_mean</th>\n",
              "      <td>6</td>\n",
              "      <td>0.000195</td>\n",
              "    </tr>\n",
              "    <tr>\n",
              "      <th>platelets_mean</th>\n",
              "      <td>5</td>\n",
              "      <td>0.000163</td>\n",
              "    </tr>\n",
              "    <tr>\n",
              "      <th>platelets_min</th>\n",
              "      <td>5</td>\n",
              "      <td>0.000163</td>\n",
              "    </tr>\n",
              "    <tr>\n",
              "      <th>platelets_max</th>\n",
              "      <td>5</td>\n",
              "      <td>0.000163</td>\n",
              "    </tr>\n",
              "    <tr>\n",
              "      <th>sysbp_min</th>\n",
              "      <td>3</td>\n",
              "      <td>0.000098</td>\n",
              "    </tr>\n",
              "    <tr>\n",
              "      <th>diasbp_mean</th>\n",
              "      <td>3</td>\n",
              "      <td>0.000098</td>\n",
              "    </tr>\n",
              "    <tr>\n",
              "      <th>diasbp_max</th>\n",
              "      <td>3</td>\n",
              "      <td>0.000098</td>\n",
              "    </tr>\n",
              "    <tr>\n",
              "      <th>diasbp_min</th>\n",
              "      <td>3</td>\n",
              "      <td>0.000098</td>\n",
              "    </tr>\n",
              "    <tr>\n",
              "      <th>sysbp_mean</th>\n",
              "      <td>3</td>\n",
              "      <td>0.000098</td>\n",
              "    </tr>\n",
              "    <tr>\n",
              "      <th>sysbp_max</th>\n",
              "      <td>3</td>\n",
              "      <td>0.000098</td>\n",
              "    </tr>\n",
              "    <tr>\n",
              "      <th>urea_n_min</th>\n",
              "      <td>3</td>\n",
              "      <td>0.000098</td>\n",
              "    </tr>\n",
              "    <tr>\n",
              "      <th>urea_n_max</th>\n",
              "      <td>3</td>\n",
              "      <td>0.000098</td>\n",
              "    </tr>\n",
              "    <tr>\n",
              "      <th>urea_n_mean</th>\n",
              "      <td>3</td>\n",
              "      <td>0.000098</td>\n",
              "    </tr>\n",
              "    <tr>\n",
              "      <th>hr_max</th>\n",
              "      <td>1</td>\n",
              "      <td>0.000033</td>\n",
              "    </tr>\n",
              "    <tr>\n",
              "      <th>hr_min</th>\n",
              "      <td>1</td>\n",
              "      <td>0.000033</td>\n",
              "    </tr>\n",
              "    <tr>\n",
              "      <th>hr_mean</th>\n",
              "      <td>1</td>\n",
              "      <td>0.000033</td>\n",
              "    </tr>\n",
              "    <tr>\n",
              "      <th>type_stay</th>\n",
              "      <td>0</td>\n",
              "      <td>0.000000</td>\n",
              "    </tr>\n",
              "    <tr>\n",
              "      <th>prev_adm</th>\n",
              "      <td>0</td>\n",
              "      <td>0.000000</td>\n",
              "    </tr>\n",
              "    <tr>\n",
              "      <th>dest_discharge</th>\n",
              "      <td>0</td>\n",
              "      <td>0.000000</td>\n",
              "    </tr>\n",
              "    <tr>\n",
              "      <th>emergency_dpt</th>\n",
              "      <td>0</td>\n",
              "      <td>0.000000</td>\n",
              "    </tr>\n",
              "    <tr>\n",
              "      <th>icd_chapter</th>\n",
              "      <td>0</td>\n",
              "      <td>0.000000</td>\n",
              "    </tr>\n",
              "    <tr>\n",
              "      <th>age_cat</th>\n",
              "      <td>0</td>\n",
              "      <td>0.000000</td>\n",
              "    </tr>\n",
              "    <tr>\n",
              "      <th>origin_patient</th>\n",
              "      <td>0</td>\n",
              "      <td>0.000000</td>\n",
              "    </tr>\n",
              "    <tr>\n",
              "      <th>los</th>\n",
              "      <td>0</td>\n",
              "      <td>0.000000</td>\n",
              "    </tr>\n",
              "    <tr>\n",
              "      <th>ethnicity</th>\n",
              "      <td>0</td>\n",
              "      <td>0.000000</td>\n",
              "    </tr>\n",
              "    <tr>\n",
              "      <th>sofa</th>\n",
              "      <td>0</td>\n",
              "      <td>0.000000</td>\n",
              "    </tr>\n",
              "    <tr>\n",
              "      <th>sapsii</th>\n",
              "      <td>0</td>\n",
              "      <td>0.000000</td>\n",
              "    </tr>\n",
              "    <tr>\n",
              "      <th>admission_type</th>\n",
              "      <td>0</td>\n",
              "      <td>0.000000</td>\n",
              "    </tr>\n",
              "    <tr>\n",
              "      <th>age</th>\n",
              "      <td>0</td>\n",
              "      <td>0.000000</td>\n",
              "    </tr>\n",
              "    <tr>\n",
              "      <th>gender</th>\n",
              "      <td>0</td>\n",
              "      <td>0.000000</td>\n",
              "    </tr>\n",
              "    <tr>\n",
              "      <th>marital_status</th>\n",
              "      <td>0</td>\n",
              "      <td>0.000000</td>\n",
              "    </tr>\n",
              "    <tr>\n",
              "      <th>religion</th>\n",
              "      <td>0</td>\n",
              "      <td>0.000000</td>\n",
              "    </tr>\n",
              "    <tr>\n",
              "      <th>insurance</th>\n",
              "      <td>0</td>\n",
              "      <td>0.000000</td>\n",
              "    </tr>\n",
              "    <tr>\n",
              "      <th>admission_location</th>\n",
              "      <td>0</td>\n",
              "      <td>0.000000</td>\n",
              "    </tr>\n",
              "    <tr>\n",
              "      <th>text</th>\n",
              "      <td>0</td>\n",
              "      <td>0.000000</td>\n",
              "    </tr>\n",
              "  </tbody>\n",
              "</table>\n",
              "</div>"
            ],
            "text/plain": [
              "                    count  proportions\n",
              "patientweight       14847     0.482610\n",
              "albumin_min         10503     0.341406\n",
              "calcium_min           819     0.026622\n",
              "glucose_mean           64     0.002080\n",
              "glucose_max            64     0.002080\n",
              "glucose_min            64     0.002080\n",
              "magnesium_max          64     0.002080\n",
              "temp_mean              45     0.001463\n",
              "temp_max               45     0.001463\n",
              "temp_min               45     0.001463\n",
              "resprate_mean           8     0.000260\n",
              "resprate_max            8     0.000260\n",
              "resprate_min            8     0.000260\n",
              "urine_min               6     0.000195\n",
              "urine_max               6     0.000195\n",
              "urine_mean              6     0.000195\n",
              "platelets_mean          5     0.000163\n",
              "platelets_min           5     0.000163\n",
              "platelets_max           5     0.000163\n",
              "sysbp_min               3     0.000098\n",
              "diasbp_mean             3     0.000098\n",
              "diasbp_max              3     0.000098\n",
              "diasbp_min              3     0.000098\n",
              "sysbp_mean              3     0.000098\n",
              "sysbp_max               3     0.000098\n",
              "urea_n_min              3     0.000098\n",
              "urea_n_max              3     0.000098\n",
              "urea_n_mean             3     0.000098\n",
              "hr_max                  1     0.000033\n",
              "hr_min                  1     0.000033\n",
              "hr_mean                 1     0.000033\n",
              "type_stay               0     0.000000\n",
              "prev_adm                0     0.000000\n",
              "dest_discharge          0     0.000000\n",
              "emergency_dpt           0     0.000000\n",
              "icd_chapter             0     0.000000\n",
              "age_cat                 0     0.000000\n",
              "origin_patient          0     0.000000\n",
              "los                     0     0.000000\n",
              "ethnicity               0     0.000000\n",
              "sofa                    0     0.000000\n",
              "sapsii                  0     0.000000\n",
              "admission_type          0     0.000000\n",
              "age                     0     0.000000\n",
              "gender                  0     0.000000\n",
              "marital_status          0     0.000000\n",
              "religion                0     0.000000\n",
              "insurance               0     0.000000\n",
              "admission_location      0     0.000000\n",
              "text                    0     0.000000"
            ]
          },
          "execution_count": 18,
          "metadata": {},
          "output_type": "execute_result"
        }
      ],
      "source": [
        "# check proportion of missing values\n",
        "missing = pd.concat([df.isna().sum(), df.isna().mean()], axis = 1)\n",
        "missing.columns = ['count', 'proportions']\n",
        "missing.sort_values('proportions',ascending = False)"
      ]
    },
    {
      "cell_type": "code",
      "execution_count": 19,
      "metadata": {
        "colab": {
          "base_uri": "https://localhost:8080/"
        },
        "id": "7AggU87bTcJT",
        "outputId": "f741aa8c-2f50-429f-e0ad-0b0c5a8b153d"
      },
      "outputs": [
        {
          "name": "stdout",
          "output_type": "stream",
          "text": [
            "Variables with more than 20% Missing Values: ['albumin_min', 'patientweight']\n"
          ]
        }
      ],
      "source": [
        "# drop variables having more than 20 % missing values\n",
        "print(f\"Variables with more than 20% Missing Values: {list(missing.loc[missing.proportions >= 0.2].index)}\")\n",
        "df = df.drop(columns=missing.loc[missing.proportions >= 0.2].index)"
      ]
    },
    {
      "cell_type": "code",
      "execution_count": 20,
      "metadata": {
        "colab": {
          "base_uri": "https://localhost:8080/"
        },
        "id": "ffqIBaxHTxFQ",
        "outputId": "a0da9ef6-1eb5-4c0a-bac5-f8c20eeb0323"
      },
      "outputs": [
        {
          "data": {
            "text/plain": [
              "ethnicity             0.0\n",
              "admission_type        0.0\n",
              "admission_location    0.0\n",
              "insurance             0.0\n",
              "religion              0.0\n",
              "marital_status        0.0\n",
              "gender                0.0\n",
              "age                   0.0\n",
              "urea_n_min            0.0\n",
              "urea_n_max            0.0\n",
              "urea_n_mean           0.0\n",
              "platelets_min         0.0\n",
              "platelets_max         0.0\n",
              "platelets_mean        0.0\n",
              "magnesium_max         0.0\n",
              "calcium_min           0.0\n",
              "resprate_min          0.0\n",
              "resprate_max          0.0\n",
              "resprate_mean         0.0\n",
              "glucose_min           0.0\n",
              "glucose_max           0.0\n",
              "glucose_mean          0.0\n",
              "hr_min                0.0\n",
              "hr_max                0.0\n",
              "hr_mean               0.0\n",
              "sysbp_min             0.0\n",
              "sysbp_max             0.0\n",
              "sysbp_mean            0.0\n",
              "diasbp_min            0.0\n",
              "diasbp_max            0.0\n",
              "diasbp_mean           0.0\n",
              "temp_min              0.0\n",
              "temp_max              0.0\n",
              "temp_mean             0.0\n",
              "sapsii                0.0\n",
              "sofa                  0.0\n",
              "urine_min             0.0\n",
              "urine_mean            0.0\n",
              "urine_max             0.0\n",
              "age_cat               0.0\n",
              "type_stay             0.0\n",
              "prev_adm              0.0\n",
              "dest_discharge        0.0\n",
              "emergency_dpt         0.0\n",
              "icd_chapter           0.0\n",
              "origin_patient        0.0\n",
              "los                   0.0\n",
              "text                  0.0\n",
              "dtype: float64"
            ]
          },
          "execution_count": 20,
          "metadata": {},
          "output_type": "execute_result"
        }
      ],
      "source": [
        "# impute missing values\n",
        "df = df.interpolate()\n",
        "df.isna().mean()"
      ]
    },
    {
      "cell_type": "code",
      "execution_count": 21,
      "metadata": {
        "colab": {
          "base_uri": "https://localhost:8080/"
        },
        "id": "X7zi2SMjUBrG",
        "outputId": "f63aa07d-b249-4899-9301-700377b89e7b"
      },
      "outputs": [
        {
          "name": "stdout",
          "output_type": "stream",
          "text": [
            "First quartile = 5.051, Third Quartile = 13.388, Interquartile Interval = 8.338\n",
            "Lower Fence = -7.456, Upper Fence = 25.895\n"
          ]
        }
      ],
      "source": [
        "# compute Lower and Upper Fence according to Tukey's criteria\n",
        "y = df['los']\n",
        "Q1 = np.percentile(y, 25)\n",
        "Q3 = np.percentile(y, 75)\n",
        "IQR = Q3-Q1\n",
        "LF = Q1 - 1.5*IQR\n",
        "UF = Q3 + 1.5*IQR\n",
        "print(f'First quartile = {Q1:.3f}, Third Quartile = {Q3:.3f}, Interquartile Interval = {IQR:.3f}')\n",
        "print(f'Lower Fence = {LF:.3f}, Upper Fence = {UF:.3f}')"
      ]
    },
    {
      "cell_type": "code",
      "execution_count": 22,
      "metadata": {
        "id": "_PbL1A6yUYex"
      },
      "outputs": [],
      "source": [
        "# create categorical LOS variable where prolonged LOS is any value greater than Upper Fence\n",
        "df['los_cat'] = df['los']> UF\n",
        "df = df.drop(columns=['los'])"
      ]
    },
    {
      "cell_type": "code",
      "execution_count": 23,
      "metadata": {
        "colab": {
          "base_uri": "https://localhost:8080/"
        },
        "id": "b5ZGKxHcUdLZ",
        "outputId": "e033291f-30e4-4dac-8aaf-7856e3695fcb"
      },
      "outputs": [
        {
          "data": {
            "text/plain": [
              "False    28525\n",
              "True      2239\n",
              "Name: los_cat, dtype: int64"
            ]
          },
          "execution_count": 23,
          "metadata": {},
          "output_type": "execute_result"
        }
      ],
      "source": [
        "# Display the proportions\n",
        "df['los_cat'].value_counts()"
      ]
    },
    {
      "attachments": {},
      "cell_type": "markdown",
      "metadata": {
        "id": "OAqJRHt23chO"
      },
      "source": [
        "## Exploring PLOS for Age Category and other variables"
      ]
    },
    {
      "cell_type": "code",
      "execution_count": 26,
      "metadata": {
        "colab": {
          "base_uri": "https://localhost:8080/"
        },
        "id": "eey7B4mg3mTv",
        "outputId": "d74b975c-3e1d-46dc-9137-25b827ac0da5"
      },
      "outputs": [],
      "source": [
        "# Crosstab and explore the Age Category/Admission Type\n",
        "ct1_obs = pd.crosstab(df['age_cat'], df['admission_type'])\n",
        "chi2, p_value, dof, ct1_exp = chi2_contingency(ct1_obs)"
      ]
    },
    {
      "cell_type": "code",
      "execution_count": 81,
      "metadata": {
        "id": "GFzc6x7Ihn3d"
      },
      "outputs": [],
      "source": [
        "def chi_square (raw1, raw2) :\n",
        "  '''\n",
        "  returns chi-square statistics, p-value, degree of freedom, observed, expected, and residual contingency table respectively\n",
        "  '''\n",
        "  # Perform the crosstab between the two variables\n",
        "  ct_obs = pd.crosstab(raw1,raw2)\n",
        "  # Calculate the Chi-square test\n",
        "  Khi_square, p_value, dof, ct_exp = chi2_contingency(ct_obs)\n",
        "  ct_res = (ct_obs.values - ct_exp)/np.sqrt(ct_exp)\n",
        "\n",
        "  # Perform the crosstab between the two variables\n",
        "  ct_obs = pd.crosstab(raw1,raw2)\n",
        "  # Calculate the Chi-square test\n",
        "  Khi_square, p_value, dof, ct_exp = chi2_contingency(ct_obs)\n",
        "  ct_res = (ct_obs.values - ct_exp)/np.sqrt(ct_exp)\n",
        "\n",
        "  # Include the expected values\n",
        "  for c, _ in enumerate(ct_obs.columns):\n",
        "      for r, _ in enumerate(ct_obs.index):\n",
        "          ct_obs.iloc[r,c] = str(ct_obs.iloc[r,c]) + \" [\" + str(int(ct_exp[r,c])) + \"]\"\n",
        "\n",
        "\n",
        "  # Include the statistics\n",
        "  bottom_stats = [round(Khi_square,3)] + [\"\" for i in enumerate(ct_obs.columns[1:])]\n",
        "  bottom_stats2 = [round(p_value,5)] + [\"\" for i in enumerate(ct_obs.columns[1:])]\n",
        "  ct_obs.loc['Chi Square'] = bottom_stats\n",
        "  ct_obs.loc['p-value'] = bottom_stats2\n",
        "\n",
        "  return ct_obs"
      ]
    },
    {
      "cell_type": "code",
      "execution_count": 82,
      "metadata": {
        "colab": {
          "base_uri": "https://localhost:8080/"
        },
        "id": "iCrGAe8njJ03",
        "outputId": "d9a8b92f-a28d-4464-846a-e01b8ab63cb0"
      },
      "outputs": [
        {
          "data": {
            "text/html": [
              "<div>\n",
              "<style scoped>\n",
              "    .dataframe tbody tr th:only-of-type {\n",
              "        vertical-align: middle;\n",
              "    }\n",
              "\n",
              "    .dataframe tbody tr th {\n",
              "        vertical-align: top;\n",
              "    }\n",
              "\n",
              "    .dataframe thead th {\n",
              "        text-align: right;\n",
              "    }\n",
              "</style>\n",
              "<table border=\"1\" class=\"dataframe\">\n",
              "  <thead>\n",
              "    <tr style=\"text-align: right;\">\n",
              "      <th>admission_type</th>\n",
              "      <th>ELECTIVE</th>\n",
              "      <th>EMERGENCY</th>\n",
              "      <th>URGENT</th>\n",
              "    </tr>\n",
              "    <tr>\n",
              "      <th>age_cat</th>\n",
              "      <th></th>\n",
              "      <th></th>\n",
              "      <th></th>\n",
              "    </tr>\n",
              "  </thead>\n",
              "  <tbody>\n",
              "    <tr>\n",
              "      <th>18-44 years</th>\n",
              "      <td>394 [636]</td>\n",
              "      <td>3532 [3305]</td>\n",
              "      <td>81 [65]</td>\n",
              "    </tr>\n",
              "    <tr>\n",
              "      <th>45-64 years</th>\n",
              "      <td>1953 [1668]</td>\n",
              "      <td>8394 [8673]</td>\n",
              "      <td>168 [172]</td>\n",
              "    </tr>\n",
              "    <tr>\n",
              "      <th>65-84 years</th>\n",
              "      <td>2311 [2063]</td>\n",
              "      <td>10474 [10723]</td>\n",
              "      <td>215 [212]</td>\n",
              "    </tr>\n",
              "    <tr>\n",
              "      <th>85+ years</th>\n",
              "      <td>225 [514]</td>\n",
              "      <td>2977 [2674]</td>\n",
              "      <td>40 [53]</td>\n",
              "    </tr>\n",
              "    <tr>\n",
              "      <th>Chi Square</th>\n",
              "      <td>404.679</td>\n",
              "      <td></td>\n",
              "      <td></td>\n",
              "    </tr>\n",
              "    <tr>\n",
              "      <th>p-value</th>\n",
              "      <td>0.0</td>\n",
              "      <td></td>\n",
              "      <td></td>\n",
              "    </tr>\n",
              "  </tbody>\n",
              "</table>\n",
              "</div>"
            ],
            "text/plain": [
              "admission_type     ELECTIVE      EMERGENCY     URGENT\n",
              "age_cat                                              \n",
              "18-44 years       394 [636]    3532 [3305]    81 [65]\n",
              "45-64 years     1953 [1668]    8394 [8673]  168 [172]\n",
              "65-84 years     2311 [2063]  10474 [10723]  215 [212]\n",
              "85+ years         225 [514]    2977 [2674]    40 [53]\n",
              "Chi Square          404.679                          \n",
              "p-value                 0.0                          "
            ]
          },
          "execution_count": 82,
          "metadata": {},
          "output_type": "execute_result"
        }
      ],
      "source": [
        "age_res = chi_square(df['age_cat'], df['admission_type'])\n",
        "age_res.to_csv(path_to_repo + f\"/tables/chi2_age_admission{death_tag}.csv\")\n",
        "age_res"
      ]
    },
    {
      "cell_type": "code",
      "execution_count": 83,
      "metadata": {
        "colab": {
          "base_uri": "https://localhost:8080/"
        },
        "id": "E3rbCHutsit-",
        "outputId": "f8bbf086-1655-4375-cac3-5fb593ad2ac1"
      },
      "outputs": [
        {
          "data": {
            "text/html": [
              "<div>\n",
              "<style scoped>\n",
              "    .dataframe tbody tr th:only-of-type {\n",
              "        vertical-align: middle;\n",
              "    }\n",
              "\n",
              "    .dataframe tbody tr th {\n",
              "        vertical-align: top;\n",
              "    }\n",
              "\n",
              "    .dataframe thead th {\n",
              "        text-align: right;\n",
              "    }\n",
              "</style>\n",
              "<table border=\"1\" class=\"dataframe\">\n",
              "  <thead>\n",
              "    <tr style=\"text-align: right;\">\n",
              "      <th>los_cat</th>\n",
              "      <th>False</th>\n",
              "      <th>True</th>\n",
              "    </tr>\n",
              "    <tr>\n",
              "      <th>admission_type</th>\n",
              "      <th></th>\n",
              "      <th></th>\n",
              "    </tr>\n",
              "  </thead>\n",
              "  <tbody>\n",
              "    <tr>\n",
              "      <th>ELECTIVE</th>\n",
              "      <td>4654 [4527]</td>\n",
              "      <td>229 [355]</td>\n",
              "    </tr>\n",
              "    <tr>\n",
              "      <th>EMERGENCY</th>\n",
              "      <td>23435 [23530]</td>\n",
              "      <td>1942 [1846]</td>\n",
              "    </tr>\n",
              "    <tr>\n",
              "      <th>URGENT</th>\n",
              "      <td>436 [467]</td>\n",
              "      <td>68 [36]</td>\n",
              "    </tr>\n",
              "    <tr>\n",
              "      <th>Chi Square</th>\n",
              "      <td>82.59</td>\n",
              "      <td></td>\n",
              "    </tr>\n",
              "    <tr>\n",
              "      <th>p-value</th>\n",
              "      <td>0.0</td>\n",
              "      <td></td>\n",
              "    </tr>\n",
              "  </tbody>\n",
              "</table>\n",
              "</div>"
            ],
            "text/plain": [
              "los_cat                 False         True\n",
              "admission_type                            \n",
              "ELECTIVE          4654 [4527]    229 [355]\n",
              "EMERGENCY       23435 [23530]  1942 [1846]\n",
              "URGENT              436 [467]      68 [36]\n",
              "Chi Square              82.59             \n",
              "p-value                   0.0             "
            ]
          },
          "execution_count": 83,
          "metadata": {},
          "output_type": "execute_result"
        }
      ],
      "source": [
        "adm_type = chi_square(df['admission_type'], df['los_cat'])\n",
        "adm_type.to_csv(path_to_repo + f\"/tables/chi2_los_admission{death_tag}.csv\")\n",
        "adm_type"
      ]
    },
    {
      "cell_type": "code",
      "execution_count": 84,
      "metadata": {},
      "outputs": [
        {
          "data": {
            "text/html": [
              "<div>\n",
              "<style scoped>\n",
              "    .dataframe tbody tr th:only-of-type {\n",
              "        vertical-align: middle;\n",
              "    }\n",
              "\n",
              "    .dataframe tbody tr th {\n",
              "        vertical-align: top;\n",
              "    }\n",
              "\n",
              "    .dataframe thead th {\n",
              "        text-align: right;\n",
              "    }\n",
              "</style>\n",
              "<table border=\"1\" class=\"dataframe\">\n",
              "  <thead>\n",
              "    <tr style=\"text-align: right;\">\n",
              "      <th>los_cat</th>\n",
              "      <th>False</th>\n",
              "      <th>True</th>\n",
              "    </tr>\n",
              "    <tr>\n",
              "      <th>age_cat</th>\n",
              "      <th></th>\n",
              "      <th></th>\n",
              "    </tr>\n",
              "  </thead>\n",
              "  <tbody>\n",
              "    <tr>\n",
              "      <th>18-44 years</th>\n",
              "      <td>3629 [3715]</td>\n",
              "      <td>378 [291]</td>\n",
              "    </tr>\n",
              "    <tr>\n",
              "      <th>45-64 years</th>\n",
              "      <td>9573 [9749]</td>\n",
              "      <td>942 [765]</td>\n",
              "    </tr>\n",
              "    <tr>\n",
              "      <th>65-84 years</th>\n",
              "      <td>12186 [12053]</td>\n",
              "      <td>814 [946]</td>\n",
              "    </tr>\n",
              "    <tr>\n",
              "      <th>85+ years</th>\n",
              "      <td>3137 [3006]</td>\n",
              "      <td>105 [235]</td>\n",
              "    </tr>\n",
              "    <tr>\n",
              "      <th>Chi Square</th>\n",
              "      <td>169.885</td>\n",
              "      <td></td>\n",
              "    </tr>\n",
              "    <tr>\n",
              "      <th>p-value</th>\n",
              "      <td>0.0</td>\n",
              "      <td></td>\n",
              "    </tr>\n",
              "  </tbody>\n",
              "</table>\n",
              "</div>"
            ],
            "text/plain": [
              "los_cat              False       True\n",
              "age_cat                              \n",
              "18-44 years    3629 [3715]  378 [291]\n",
              "45-64 years    9573 [9749]  942 [765]\n",
              "65-84 years  12186 [12053]  814 [946]\n",
              "85+ years      3137 [3006]  105 [235]\n",
              "Chi Square         169.885           \n",
              "p-value                0.0           "
            ]
          },
          "execution_count": 84,
          "metadata": {},
          "output_type": "execute_result"
        }
      ],
      "source": [
        "age_los = chi_square(df['age_cat'], df['los_cat'])\n",
        "age_los.to_csv(path_to_repo + f\"/tables/chi2_los_age{death_tag}.csv\")\n",
        "age_los"
      ]
    },
    {
      "cell_type": "code",
      "execution_count": 85,
      "metadata": {},
      "outputs": [
        {
          "data": {
            "text/html": [
              "<div>\n",
              "<style scoped>\n",
              "    .dataframe tbody tr th:only-of-type {\n",
              "        vertical-align: middle;\n",
              "    }\n",
              "\n",
              "    .dataframe tbody tr th {\n",
              "        vertical-align: top;\n",
              "    }\n",
              "\n",
              "    .dataframe thead th {\n",
              "        text-align: right;\n",
              "    }\n",
              "</style>\n",
              "<table border=\"1\" class=\"dataframe\">\n",
              "  <thead>\n",
              "    <tr style=\"text-align: right;\">\n",
              "      <th>emergency_dpt</th>\n",
              "      <th>No</th>\n",
              "      <th>Yes</th>\n",
              "    </tr>\n",
              "    <tr>\n",
              "      <th>age_cat</th>\n",
              "      <th></th>\n",
              "      <th></th>\n",
              "    </tr>\n",
              "  </thead>\n",
              "  <tbody>\n",
              "    <tr>\n",
              "      <th>18-44 years</th>\n",
              "      <td>394 [636]</td>\n",
              "      <td>3613 [3370]</td>\n",
              "    </tr>\n",
              "    <tr>\n",
              "      <th>45-64 years</th>\n",
              "      <td>1953 [1668]</td>\n",
              "      <td>8562 [8846]</td>\n",
              "    </tr>\n",
              "    <tr>\n",
              "      <th>65-84 years</th>\n",
              "      <td>2311 [2063]</td>\n",
              "      <td>10689 [10936]</td>\n",
              "    </tr>\n",
              "    <tr>\n",
              "      <th>85+ years</th>\n",
              "      <td>225 [514]</td>\n",
              "      <td>3017 [2727]</td>\n",
              "    </tr>\n",
              "    <tr>\n",
              "      <th>Chi Square</th>\n",
              "      <td>395.934</td>\n",
              "      <td></td>\n",
              "    </tr>\n",
              "    <tr>\n",
              "      <th>p-value</th>\n",
              "      <td>0.0</td>\n",
              "      <td></td>\n",
              "    </tr>\n",
              "  </tbody>\n",
              "</table>\n",
              "</div>"
            ],
            "text/plain": [
              "emergency_dpt           No            Yes\n",
              "age_cat                                  \n",
              "18-44 years      394 [636]    3613 [3370]\n",
              "45-64 years    1953 [1668]    8562 [8846]\n",
              "65-84 years    2311 [2063]  10689 [10936]\n",
              "85+ years        225 [514]    3017 [2727]\n",
              "Chi Square         395.934               \n",
              "p-value                0.0               "
            ]
          },
          "execution_count": 85,
          "metadata": {},
          "output_type": "execute_result"
        }
      ],
      "source": [
        "emg = chi_square(df['age_cat'], df['emergency_dpt'])\n",
        "emg.to_csv(path_to_repo + f\"/tables/chi2_dpt_age{death_tag}.csv\")\n",
        "emg"
      ]
    },
    {
      "cell_type": "code",
      "execution_count": 86,
      "metadata": {},
      "outputs": [
        {
          "data": {
            "text/html": [
              "<div>\n",
              "<style scoped>\n",
              "    .dataframe tbody tr th:only-of-type {\n",
              "        vertical-align: middle;\n",
              "    }\n",
              "\n",
              "    .dataframe tbody tr th {\n",
              "        vertical-align: top;\n",
              "    }\n",
              "\n",
              "    .dataframe thead th {\n",
              "        text-align: right;\n",
              "    }\n",
              "</style>\n",
              "<table border=\"1\" class=\"dataframe\">\n",
              "  <thead>\n",
              "    <tr style=\"text-align: right;\">\n",
              "      <th>type_stay</th>\n",
              "      <th>1-Medical</th>\n",
              "      <th>2-Obstetrics</th>\n",
              "      <th>3-Surgical</th>\n",
              "    </tr>\n",
              "    <tr>\n",
              "      <th>age_cat</th>\n",
              "      <th></th>\n",
              "      <th></th>\n",
              "      <th></th>\n",
              "    </tr>\n",
              "  </thead>\n",
              "  <tbody>\n",
              "    <tr>\n",
              "      <th>18-44 years</th>\n",
              "      <td>2646 [2342]</td>\n",
              "      <td>41 [5]</td>\n",
              "      <td>1320 [1658]</td>\n",
              "    </tr>\n",
              "    <tr>\n",
              "      <th>45-64 years</th>\n",
              "      <td>5695 [6148]</td>\n",
              "      <td>2 [15]</td>\n",
              "      <td>4818 [4351]</td>\n",
              "    </tr>\n",
              "    <tr>\n",
              "      <th>65-84 years</th>\n",
              "      <td>7156 [7601]</td>\n",
              "      <td>1 [18]</td>\n",
              "      <td>5843 [5380]</td>\n",
              "    </tr>\n",
              "    <tr>\n",
              "      <th>85+ years</th>\n",
              "      <td>2491 [1895]</td>\n",
              "      <td>0 [4]</td>\n",
              "      <td>751 [1341]</td>\n",
              "    </tr>\n",
              "    <tr>\n",
              "      <th>Chi Square</th>\n",
              "      <td>954.205</td>\n",
              "      <td></td>\n",
              "      <td></td>\n",
              "    </tr>\n",
              "    <tr>\n",
              "      <th>p-value</th>\n",
              "      <td>0.0</td>\n",
              "      <td></td>\n",
              "      <td></td>\n",
              "    </tr>\n",
              "  </tbody>\n",
              "</table>\n",
              "</div>"
            ],
            "text/plain": [
              "type_stay      1-Medical 2-Obstetrics   3-Surgical\n",
              "age_cat                                           \n",
              "18-44 years  2646 [2342]       41 [5]  1320 [1658]\n",
              "45-64 years  5695 [6148]       2 [15]  4818 [4351]\n",
              "65-84 years  7156 [7601]       1 [18]  5843 [5380]\n",
              "85+ years    2491 [1895]        0 [4]   751 [1341]\n",
              "Chi Square       954.205                          \n",
              "p-value              0.0                          "
            ]
          },
          "execution_count": 86,
          "metadata": {},
          "output_type": "execute_result"
        }
      ],
      "source": [
        "stay = chi_square(df['age_cat'], df['type_stay'])\n",
        "stay.to_csv(path_to_repo + f\"/tables/chi2_stay_age{death_tag}.csv\")\n",
        "stay"
      ]
    },
    {
      "cell_type": "code",
      "execution_count": 87,
      "metadata": {},
      "outputs": [
        {
          "data": {
            "text/html": [
              "<div>\n",
              "<style scoped>\n",
              "    .dataframe tbody tr th:only-of-type {\n",
              "        vertical-align: middle;\n",
              "    }\n",
              "\n",
              "    .dataframe tbody tr th {\n",
              "        vertical-align: top;\n",
              "    }\n",
              "\n",
              "    .dataframe thead th {\n",
              "        text-align: right;\n",
              "    }\n",
              "</style>\n",
              "<table border=\"1\" class=\"dataframe\">\n",
              "  <thead>\n",
              "    <tr style=\"text-align: right;\">\n",
              "      <th>type_stay</th>\n",
              "      <th>1-Medical</th>\n",
              "      <th>2-Obstetrics</th>\n",
              "      <th>3-Surgical</th>\n",
              "    </tr>\n",
              "    <tr>\n",
              "      <th>age_cat</th>\n",
              "      <th></th>\n",
              "      <th></th>\n",
              "      <th></th>\n",
              "    </tr>\n",
              "  </thead>\n",
              "  <tbody>\n",
              "    <tr>\n",
              "      <th>18-44 years</th>\n",
              "      <td>2646 [2342]</td>\n",
              "      <td>41 [5]</td>\n",
              "      <td>1320 [1658]</td>\n",
              "    </tr>\n",
              "    <tr>\n",
              "      <th>45-64 years</th>\n",
              "      <td>5695 [6148]</td>\n",
              "      <td>2 [15]</td>\n",
              "      <td>4818 [4351]</td>\n",
              "    </tr>\n",
              "    <tr>\n",
              "      <th>65-84 years</th>\n",
              "      <td>7156 [7601]</td>\n",
              "      <td>1 [18]</td>\n",
              "      <td>5843 [5380]</td>\n",
              "    </tr>\n",
              "    <tr>\n",
              "      <th>85+ years</th>\n",
              "      <td>2491 [1895]</td>\n",
              "      <td>0 [4]</td>\n",
              "      <td>751 [1341]</td>\n",
              "    </tr>\n",
              "    <tr>\n",
              "      <th>Chi Square</th>\n",
              "      <td>954.205</td>\n",
              "      <td></td>\n",
              "      <td></td>\n",
              "    </tr>\n",
              "    <tr>\n",
              "      <th>p-value</th>\n",
              "      <td>0.0</td>\n",
              "      <td></td>\n",
              "      <td></td>\n",
              "    </tr>\n",
              "  </tbody>\n",
              "</table>\n",
              "</div>"
            ],
            "text/plain": [
              "type_stay      1-Medical 2-Obstetrics   3-Surgical\n",
              "age_cat                                           \n",
              "18-44 years  2646 [2342]       41 [5]  1320 [1658]\n",
              "45-64 years  5695 [6148]       2 [15]  4818 [4351]\n",
              "65-84 years  7156 [7601]       1 [18]  5843 [5380]\n",
              "85+ years    2491 [1895]        0 [4]   751 [1341]\n",
              "Chi Square       954.205                          \n",
              "p-value              0.0                          "
            ]
          },
          "execution_count": 87,
          "metadata": {},
          "output_type": "execute_result"
        }
      ],
      "source": [
        "prev_adm = chi_square(df['age_cat'], df['type_stay'])\n",
        "prev_adm.to_csv(path_to_repo + f\"/tables/chi2_prev_age{death_tag}.csv\")\n",
        "prev_adm"
      ]
    }
  ],
  "metadata": {
    "accelerator": "TPU",
    "colab": {
      "machine_shape": "hm",
      "provenance": []
    },
    "gpuClass": "standard",
    "kernelspec": {
      "display_name": "Python 3",
      "name": "python3"
    },
    "language_info": {
      "codemirror_mode": {
        "name": "ipython",
        "version": 3
      },
      "file_extension": ".py",
      "mimetype": "text/x-python",
      "name": "python",
      "nbconvert_exporter": "python",
      "pygments_lexer": "ipython3",
      "version": "3.9.12"
    }
  },
  "nbformat": 4,
  "nbformat_minor": 0
}
