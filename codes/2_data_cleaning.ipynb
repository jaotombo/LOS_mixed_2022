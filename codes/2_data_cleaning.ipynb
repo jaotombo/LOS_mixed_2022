{
 "cells": [
  {
   "cell_type": "markdown",
   "id": "71147302",
   "metadata": {},
   "source": [
    "# Data Cleaning"
   ]
  },
  {
   "cell_type": "markdown",
   "id": "3da822b1",
   "metadata": {},
   "source": [
    "## Setup"
   ]
  },
  {
   "cell_type": "code",
   "execution_count": null,
   "id": "5b6b54e1",
   "metadata": {},
   "outputs": [],
   "source": [
    "# Import useful libraries\n",
    "import numpy as np\n",
    "import pandas as pd\n",
    "import os\n",
    "import re\n",
    "import pickle\n",
    "import sys\n",
    "import time"
   ]
  },
  {
   "cell_type": "code",
   "execution_count": 2,
   "id": "861c1928",
   "metadata": {},
   "outputs": [],
   "source": [
    "pd.set_option('display.max_rows', None)  ###\n",
    "pd.set_option('display.max_columns', None)  ###\n",
    "pd.set_option('display.width', None)  ###\n",
    "pd.set_option('display.max_colwidth', None)  ###"
   ]
  },
  {
   "cell_type": "code",
   "execution_count": null,
   "id": "076b1ee9",
   "metadata": {},
   "outputs": [],
   "source": [
    "# Setup Repository\n",
    "with open(\"repo_info.txt\", \"r\") as repo_info:\n",
    "    path_to_repo = repo_info.readline()\n",
    "\n",
    "path_to_data = f\"{path_to_repo}data/\"\n",
    "path_to_raw = f\"{path_to_data}raw/\"\n",
    "path_to_processed = f\"{path_to_data}processed/\"\n",
    "path_to_icd = f\"{path_to_data}icd_codes/\""
   ]
  },
  {
   "cell_type": "markdown",
   "id": "3ed696a7",
   "metadata": {},
   "source": [
    "## Import Data"
   ]
  },
  {
   "cell_type": "code",
   "execution_count": 4,
   "id": "9398d73e",
   "metadata": {},
   "outputs": [],
   "source": [
    "raw_df = pd.read_csv(f\"{path_to_processed}df_mixed.csv.gzip\", compression = 'gzip', low_memory=False)"
   ]
  },
  {
   "cell_type": "code",
   "execution_count": 8,
   "id": "2698a86a",
   "metadata": {},
   "outputs": [],
   "source": [
    "# Keep only relevant columns\n",
    "df = raw_df[['HADM_ID', 'subject_id', 'ethnicity', 'admission_type',\n",
    "             'admission_location', 'insurance', 'religion', 'marital_status', 'discharge_location',\n",
    "             'icu_los','gender', 'age','urea_n_min', 'urea_n_max', 'urea_n_mean','platelets_min', \n",
    "             'platelets_max', 'platelets_mean', 'magnesium_max','albumin_min', 'calcium_min', \n",
    "             'resprate_min', 'resprate_max','resprate_mean', 'glucose_min', 'glucose_max', \n",
    "             'glucose_mean', 'hr_min','hr_max', 'hr_mean', 'sysbp_min', 'sysbp_max', 'sysbp_mean',\n",
    "             'diasbp_min', 'diasbp_max', 'diasbp_mean', 'temp_min', 'temp_max','temp_mean', 'sapsii', \n",
    "             'sofa', 'urine_min', 'urine_mean', 'urine_max', 'patientweight', 'readmit_dt',\n",
    "             'age_cat','THS_cat', 'prev_adm', 'dest_discharge', 'emergency_dpt','admit_loc_cat', 'icd_chapter', 'OP', 'los', 'discharge']]"
   ]
  },
  {
   "cell_type": "code",
   "execution_count": 9,
   "id": "a60c856b",
   "metadata": {},
   "outputs": [
    {
     "name": "stderr",
     "output_type": "stream",
     "text": [
      "E:\\Anaconda3\\envs\\pygpu\\lib\\site-packages\\pandas\\core\\frame.py:5047: SettingWithCopyWarning: \n",
      "A value is trying to be set on a copy of a slice from a DataFrame\n",
      "\n",
      "See the caveats in the documentation: https://pandas.pydata.org/pandas-docs/stable/user_guide/indexing.html#returning-a-view-versus-a-copy\n",
      "  errors=errors,\n"
     ]
    }
   ],
   "source": [
    "# Then rename certain columns\n",
    "df.rename(columns = {\"OP\":\"origin_patient\",\"THS_cat\":\"type_stay\"}, inplace=True)"
   ]
  },
  {
   "cell_type": "markdown",
   "id": "603575d2",
   "metadata": {},
   "source": [
    "## Explore and clean categorical variables"
   ]
  },
  {
   "cell_type": "code",
   "execution_count": 12,
   "id": "8613a696",
   "metadata": {},
   "outputs": [],
   "source": [
    "# Keep only categorical variables\n",
    "var_cat = df.columns[df.dtypes == \"object\"]\n",
    "df_cat = df[var_cat]"
   ]
  },
  {
   "cell_type": "code",
   "execution_count": 13,
   "id": "6a7b0575",
   "metadata": {},
   "outputs": [
    {
     "data": {
      "text/plain": [
       "ethnicity             41\n",
       "admission_type         3\n",
       "admission_location     8\n",
       "insurance              5\n",
       "religion              19\n",
       "marital_status         7\n",
       "discharge_location    17\n",
       "gender                 2\n",
       "type_stay              3\n",
       "prev_adm               3\n",
       "dest_discharge         2\n",
       "emergency_dpt          2\n",
       "origin_patient         2\n",
       "dtype: int64"
      ]
     },
     "execution_count": 13,
     "metadata": {},
     "output_type": "execute_result"
    }
   ],
   "source": [
    "# Check how many modalities each variable has\n",
    "df_cat.nunique()"
   ]
  },
  {
   "cell_type": "code",
   "execution_count": 15,
   "id": "1f08533f",
   "metadata": {},
   "outputs": [
    {
     "name": "stdout",
     "output_type": "stream",
     "text": [
      "WHITE                                                       28814\n",
      "BLACK/AFRICAN AMERICAN                                       3183\n",
      "UNKNOWN/NOT SPECIFIED                                        2937\n",
      "HISPANIC OR LATINO                                            996\n",
      "OTHER                                                         847\n",
      "UNABLE TO OBTAIN                                              743\n",
      "ASIAN                                                         559\n",
      "PATIENT DECLINED TO ANSWER                                    370\n",
      "ASIAN - CHINESE                                               188\n",
      "HISPANIC/LATINO - PUERTO RICAN                                171\n",
      "WHITE - RUSSIAN                                               151\n",
      "BLACK/CAPE VERDEAN                                            133\n",
      "MULTI RACE ETHNICITY                                           84\n",
      "BLACK/HAITIAN                                                  68\n",
      "HISPANIC/LATINO - DOMINICAN                                    66\n",
      "ASIAN - ASIAN INDIAN                                           66\n",
      "WHITE - OTHER EUROPEAN                                         65\n",
      "PORTUGUESE                                                     52\n",
      "WHITE - BRAZILIAN                                              47\n",
      "MIDDLE EASTERN                                                 35\n",
      "ASIAN - VIETNAMESE                                             35\n",
      "WHITE - EASTERN EUROPEAN                                       26\n",
      "BLACK/AFRICAN                                                  24\n",
      "HISPANIC/LATINO - CUBAN                                        21\n",
      "HISPANIC/LATINO - GUATEMALAN                                   21\n",
      "AMERICAN INDIAN/ALASKA NATIVE                                  20\n",
      "ASIAN - FILIPINO                                               16\n",
      "ASIAN - CAMBODIAN                                              13\n",
      "ASIAN - OTHER                                                  12\n",
      "HISPANIC/LATINO - SALVADORAN                                   11\n",
      "NATIVE HAWAIIAN OR OTHER PACIFIC ISLANDER                      11\n",
      "ASIAN - KOREAN                                                 10\n",
      "HISPANIC/LATINO - CENTRAL AMERICAN (OTHER)                      9\n",
      "HISPANIC/LATINO - MEXICAN                                       7\n",
      "CARIBBEAN ISLAND                                                7\n",
      "HISPANIC/LATINO - COLOMBIAN                                     6\n",
      "ASIAN - JAPANESE                                                5\n",
      "SOUTH AMERICAN                                                  5\n",
      "AMERICAN INDIAN/ALASKA NATIVE FEDERALLY RECOGNIZED TRIBE        3\n",
      "HISPANIC/LATINO - HONDURAN                                      3\n",
      "ASIAN - THAI                                                    1\n",
      "Name: ethnicity, dtype: int64 \n",
      "\n",
      "EMERGENCY    33373\n",
      "ELECTIVE      5754\n",
      "URGENT         714\n",
      "Name: admission_type, dtype: int64 \n",
      "\n",
      "EMERGENCY ROOM ADMIT         17123\n",
      "CLINIC REFERRAL/PREMATURE     8100\n",
      "TRANSFER FROM HOSP/EXTRAM     7320\n",
      "PHYS REFERRAL/NORMAL DELI     7032\n",
      "TRANSFER FROM SKILLED NUR      211\n",
      "TRANSFER FROM OTHER HEALT       50\n",
      "** INFO NOT AVAILABLE **         3\n",
      "TRSF WITHIN THIS FACILITY        2\n",
      "Name: admission_location, dtype: int64 \n",
      "\n",
      "Medicare      23074\n",
      "Private       11925\n",
      "Medicaid       3442\n",
      "Government     1024\n",
      "Self Pay        376\n",
      "Name: insurance, dtype: int64 \n",
      "\n",
      "CATHOLIC                  14720\n",
      "NOT SPECIFIED              8127\n",
      "PROTESTANT QUAKER          5087\n",
      "UNOBTAINABLE               4277\n",
      "JEWISH                     3863\n",
      "OTHER                      1803\n",
      "EPISCOPALIAN                543\n",
      "GREEK ORTHODOX              335\n",
      "CHRISTIAN SCIENTIST         258\n",
      "BUDDHIST                    153\n",
      "MUSLIM                      125\n",
      "JEHOVAH'S WITNESS           109\n",
      "UNITARIAN-UNIVERSALIST       92\n",
      "HINDU                        58\n",
      "ROMANIAN EAST. ORTH          55\n",
      "7TH DAY ADVENTIST            43\n",
      "BAPTIST                      10\n",
      "HEBREW                        9\n",
      "METHODIST                     9\n",
      "Name: religion, dtype: int64 \n",
      "\n",
      "MARRIED              18857\n",
      "SINGLE                9768\n",
      "WIDOWED               6054\n",
      "DIVORCED              2609\n",
      "SEPARATED              401\n",
      "UNKNOWN (DEFAULT)      279\n",
      "LIFE PARTNER            13\n",
      "Name: marital_status, dtype: int64 \n",
      "\n",
      "HOME HEALTH CARE             10099\n",
      "SNF                           7367\n",
      "HOME                          7275\n",
      "REHAB/DISTINCT PART HOSP      6559\n",
      "DEAD/EXPIRED                  4531\n",
      "LONG TERM CARE HOSPITAL       2279\n",
      "SHORT TERM HOSPITAL            400\n",
      "DISCH-TRAN TO PSYCH HOSP       385\n",
      "HOSPICE-HOME                   342\n",
      "LEFT AGAINST MEDICAL ADVI      166\n",
      "DISC-TRAN CANCER/CHLDRN H      157\n",
      "HOSPICE-MEDICAL FACILITY       143\n",
      "HOME WITH HOME IV PROVIDR       47\n",
      "OTHER FACILITY                  45\n",
      "ICF                             35\n",
      "DISC-TRAN TO FEDERAL HC         10\n",
      "SNF-MEDICAID ONLY CERTIF         1\n",
      "Name: discharge_location, dtype: int64 \n",
      "\n",
      "1-Male      21836\n",
      "2-Female    18005\n",
      "Name: gender, dtype: int64 \n",
      "\n",
      "1-Medical       19623\n",
      "3-Surgical      10330\n",
      "2-Obstetrics        5\n",
      "Name: type_stay, dtype: int64 \n",
      "\n",
      "1-No hospitalization             32869\n",
      "3-At least one with emergency     6325\n",
      "2-At least one non emergency       647\n",
      "Name: prev_adm, dtype: int64 \n",
      "\n",
      "2-Other    22467\n",
      "1-Home     17374\n",
      "Name: dest_discharge, dtype: int64 \n",
      "\n",
      "Yes    34087\n",
      "No      5754\n",
      "Name: emergency_dpt, dtype: int64 \n",
      "\n",
      "2-Other    32598\n",
      "1-Home      7243\n",
      "Name: origin_patient, dtype: int64 \n",
      "\n"
     ]
    }
   ],
   "source": [
    "# Check the categories present in each variable\n",
    "for col in var_cat:\n",
    "    print(df_cat[col].value_counts(), '\\n')"
   ]
  },
  {
   "cell_type": "code",
   "execution_count": 16,
   "id": "08fd2db2",
   "metadata": {},
   "outputs": [
    {
     "name": "stderr",
     "output_type": "stream",
     "text": [
      "E:\\Anaconda3\\envs\\pygpu\\lib\\site-packages\\pandas\\core\\indexing.py:1817: SettingWithCopyWarning: \n",
      "A value is trying to be set on a copy of a slice from a DataFrame.\n",
      "Try using .loc[row_indexer,col_indexer] = value instead\n",
      "\n",
      "See the caveats in the documentation: https://pandas.pydata.org/pandas-docs/stable/user_guide/indexing.html#returning-a-view-versus-a-copy\n",
      "  self._setitem_single_column(loc, value, pi)\n"
     ]
    }
   ],
   "source": [
    "# Harmonize the ETHNICITY column\n",
    "df.loc[df['ethnicity'].str.contains('WHITE', case=False), 'ethnicity'] = 'white'\n",
    "df.loc[df['ethnicity'].str.contains('BLACK', case=False), 'ethnicity'] = 'black'\n",
    "df.loc[df['ethnicity'].str.contains('ASIAN', case=False), 'ethnicity'] = 'asian'\n",
    "df.loc[df['ethnicity'].str.contains('HISPANIC|PORTUGUESE|SOUTH AMERICAN', case=False), 'ethnicity'] = 'hispanic'\n",
    "df.loc[df['ethnicity'].str.contains('UNABLE TO OBTAIN|PATIENT DECLINED TO ANSWER|UNKNOWN/NOT SPECIFIED', case=False), 'ethnicity'] = 'unknown'\n",
    "df.loc[~df['ethnicity'].str.contains('white|black|asian|hispanic|unknown', case=False), 'ethnicity'] = 'other'"
   ]
  },
  {
   "cell_type": "code",
   "execution_count": 22,
   "id": "8d69fb46",
   "metadata": {},
   "outputs": [
    {
     "data": {
      "text/plain": [
       "white       29103\n",
       "unknown      4050\n",
       "black        3408\n",
       "hispanic     1368\n",
       "other        1007\n",
       "asian         905\n",
       "Name: ethnicity, dtype: int64"
      ]
     },
     "execution_count": 22,
     "metadata": {},
     "output_type": "execute_result"
    }
   ],
   "source": [
    "# Check now what we have as categories\n",
    "df['ethnicity'].value_counts()"
   ]
  },
  {
   "cell_type": "code",
   "execution_count": 23,
   "id": "857086f0",
   "metadata": {},
   "outputs": [
    {
     "name": "stderr",
     "output_type": "stream",
     "text": [
      "E:\\Anaconda3\\envs\\pygpu\\lib\\site-packages\\pandas\\core\\frame.py:4913: SettingWithCopyWarning: \n",
      "A value is trying to be set on a copy of a slice from a DataFrame\n",
      "\n",
      "See the caveats in the documentation: https://pandas.pydata.org/pandas-docs/stable/user_guide/indexing.html#returning-a-view-versus-a-copy\n",
      "  errors=errors,\n"
     ]
    }
   ],
   "source": [
    "# Drop useless columns\n",
    "df.drop(columns='dest_discharge', inplace=True)"
   ]
  },
  {
   "cell_type": "code",
   "execution_count": 24,
   "id": "065f485a",
   "metadata": {},
   "outputs": [
    {
     "name": "stderr",
     "output_type": "stream",
     "text": [
      "E:\\Anaconda3\\envs\\pygpu\\lib\\site-packages\\pandas\\core\\indexing.py:1684: SettingWithCopyWarning: \n",
      "A value is trying to be set on a copy of a slice from a DataFrame.\n",
      "Try using .loc[row_indexer,col_indexer] = value instead\n",
      "\n",
      "See the caveats in the documentation: https://pandas.pydata.org/pandas-docs/stable/user_guide/indexing.html#returning-a-view-versus-a-copy\n",
      "  self.obj[key] = infer_fill_value(value)\n"
     ]
    }
   ],
   "source": [
    "# Harmonize the discharge location column\n",
    "df.loc[df['discharge_location'].str.contains('home|LEFT AGAINST MEDICAL ADVI', case=False), 'dest_discharge'] = 'home'\n",
    "df.loc[~df['discharge_location'].str.contains('home|LEFT AGAINST MEDICAL ADVI', case=False), 'dest_discharge'] = 'other'"
   ]
  },
  {
   "cell_type": "code",
   "execution_count": 26,
   "id": "73407e5d",
   "metadata": {},
   "outputs": [
    {
     "data": {
      "text/plain": [
       "other    21912\n",
       "home     17929\n",
       "Name: dest_discharge, dtype: int64"
      ]
     },
     "execution_count": 26,
     "metadata": {},
     "output_type": "execute_result"
    }
   ],
   "source": [
    "# And check now the results\n",
    "df['discharge_location'].value_counts()"
   ]
  },
  {
   "cell_type": "code",
   "execution_count": 27,
   "id": "42727103",
   "metadata": {},
   "outputs": [
    {
     "name": "stderr",
     "output_type": "stream",
     "text": [
      "E:\\Anaconda3\\envs\\pygpu\\lib\\site-packages\\pandas\\core\\generic.py:6392: SettingWithCopyWarning: \n",
      "A value is trying to be set on a copy of a slice from a DataFrame\n",
      "\n",
      "See the caveats in the documentation: https://pandas.pydata.org/pandas-docs/stable/user_guide/indexing.html#returning-a-view-versus-a-copy\n",
      "  return self._update_inplace(result)\n"
     ]
    }
   ],
   "source": [
    "# Harmonize the marital status column\n",
    "df['marital_status'].fillna('unknown', inplace=True)\n",
    "df.loc[df['marital_status'].str.contains('MARRIED|LIFE PARTNER', case=False, na='unknown'),'marital_status'] = 'couple'\n",
    "df.loc[df['marital_status'].str.contains('DIVORCED|SEPARATED', case=False), 'marital_status'] = 'separated'\n",
    "df.loc[df['marital_status'].str.contains('unknown', case=False), 'marital_status'] = 'unknown'"
   ]
  },
  {
   "cell_type": "code",
   "execution_count": 30,
   "id": "9e91b66b",
   "metadata": {},
   "outputs": [
    {
     "data": {
      "text/plain": [
       "couple       18870\n",
       "SINGLE        9768\n",
       "WIDOWED       6054\n",
       "separated     3010\n",
       "unknown       2139\n",
       "Name: marital_status, dtype: int64"
      ]
     },
     "execution_count": 30,
     "metadata": {},
     "output_type": "execute_result"
    }
   ],
   "source": [
    "# And check now the results\n",
    "df['marital_status'].value_counts()"
   ]
  },
  {
   "cell_type": "code",
   "execution_count": 31,
   "id": "e63989b5",
   "metadata": {},
   "outputs": [],
   "source": [
    "# Harmonize the religion column\n",
    "df['religion'].fillna('unknown', inplace=True)\n",
    "df.loc[df['religion'].str.contains('NOT SPECIFIED|UNOBTAINABLE|unknown', case=False), 'religion'] = 'undefined'\n",
    "df.loc[~df['religion'].str.contains('CATHOLIC|PROTESTANT QUAKER|JEWISH|undefined', case=False), 'religion'] = 'other'"
   ]
  },
  {
   "cell_type": "code",
   "execution_count": 33,
   "id": "57bc5970",
   "metadata": {},
   "outputs": [
    {
     "data": {
      "text/plain": [
       "CATHOLIC             14720\n",
       "undefined            12569\n",
       "PROTESTANT QUAKER     5087\n",
       "JEWISH                3863\n",
       "other                 3602\n",
       "Name: religion, dtype: int64"
      ]
     },
     "execution_count": 33,
     "metadata": {},
     "output_type": "execute_result"
    }
   ],
   "source": [
    "# And check now the results\n",
    "df['religion'].value_counts()"
   ]
  },
  {
   "cell_type": "code",
   "execution_count": 35,
   "id": "814c17ea",
   "metadata": {},
   "outputs": [],
   "source": [
    "# Harmonize the admission location column\n",
    "df.loc[df['admission_location'].str.contains('EMERGENCY ROOM ADMIT|PHYS REFERRAL', case=False), 'admission_location'] = 'home'\n",
    "df.loc[~df['admission_location'].str.contains('home', case=False), 'admission_location'] = 'other'"
   ]
  },
  {
   "cell_type": "code",
   "execution_count": 37,
   "id": "d6e29177",
   "metadata": {},
   "outputs": [
    {
     "data": {
      "text/plain": [
       "home     24155\n",
       "other    15686\n",
       "Name: admission_location, dtype: int64"
      ]
     },
     "execution_count": 37,
     "metadata": {},
     "output_type": "execute_result"
    }
   ],
   "source": [
    "# And check now the results\n",
    "df['admission_location'].value_counts()"
   ]
  },
  {
   "cell_type": "markdown",
   "id": "2669dad4",
   "metadata": {},
   "source": [
    "# CHECK HERE IF WE ACTUALLY DROPPED IT"
   ]
  },
  {
   "cell_type": "code",
   "execution_count": 40,
   "id": "e4450ffd",
   "metadata": {},
   "outputs": [],
   "source": [
    "# Drop columns we will not need\n",
    "df_final = df.drop(columns=['discharge_location','admit_loc_cat'])"
   ]
  },
  {
   "cell_type": "code",
   "execution_count": 41,
   "id": "7649b743",
   "metadata": {},
   "outputs": [
    {
     "name": "stdout",
     "output_type": "stream",
     "text": [
      "<class 'pandas.core.frame.DataFrame'>\n",
      "RangeIndex: 39841 entries, 0 to 39840\n",
      "Data columns (total 53 columns):\n",
      " #   Column              Non-Null Count  Dtype  \n",
      "---  ------              --------------  -----  \n",
      " 0   HADM_ID             39841 non-null  float64\n",
      " 1   subject_id          39841 non-null  int64  \n",
      " 2   ethnicity           39841 non-null  object \n",
      " 3   admission_type      39841 non-null  object \n",
      " 4   admission_location  39841 non-null  object \n",
      " 5   insurance           39841 non-null  object \n",
      " 6   religion            39841 non-null  object \n",
      " 7   marital_status      39841 non-null  object \n",
      " 8   icu_los             39841 non-null  float64\n",
      " 9   gender              39841 non-null  object \n",
      " 10  age                 39841 non-null  float64\n",
      " 11  urea_n_min          39826 non-null  float64\n",
      " 12  urea_n_max          39826 non-null  float64\n",
      " 13  urea_n_mean         39826 non-null  float64\n",
      " 14  platelets_min       39821 non-null  float64\n",
      " 15  platelets_max       39821 non-null  float64\n",
      " 16  platelets_mean      39821 non-null  float64\n",
      " 17  magnesium_max       39630 non-null  float64\n",
      " 18  albumin_min         27155 non-null  float64\n",
      " 19  calcium_min         38765 non-null  float64\n",
      " 20  resprate_min        39831 non-null  float64\n",
      " 21  resprate_max        39831 non-null  float64\n",
      " 22  resprate_mean       39831 non-null  float64\n",
      " 23  glucose_min         39624 non-null  float64\n",
      " 24  glucose_max         39624 non-null  float64\n",
      " 25  glucose_mean        39624 non-null  float64\n",
      " 26  hr_min              39839 non-null  float64\n",
      " 27  hr_max              39839 non-null  float64\n",
      " 28  hr_mean             39839 non-null  float64\n",
      " 29  sysbp_min           39833 non-null  float64\n",
      " 30  sysbp_max           39833 non-null  float64\n",
      " 31  sysbp_mean          39833 non-null  float64\n",
      " 32  diasbp_min          39833 non-null  float64\n",
      " 33  diasbp_max          39833 non-null  float64\n",
      " 34  diasbp_mean         39833 non-null  float64\n",
      " 35  temp_min            39761 non-null  float64\n",
      " 36  temp_max            39761 non-null  float64\n",
      " 37  temp_mean           39761 non-null  float64\n",
      " 38  sapsii              39841 non-null  int64  \n",
      " 39  sofa                39841 non-null  int64  \n",
      " 40  urine_min           39832 non-null  float64\n",
      " 41  urine_mean          39832 non-null  float64\n",
      " 42  urine_max           39832 non-null  float64\n",
      " 43  patientweight       19358 non-null  float64\n",
      " 44  readmit_dt          39841 non-null  float64\n",
      " 45  age_cat             39841 non-null  int64  \n",
      " 46  type_stay           29958 non-null  object \n",
      " 47  prev_adm            39841 non-null  object \n",
      " 48  emergency_dpt       39841 non-null  object \n",
      " 49  icd_chapter         39841 non-null  int64  \n",
      " 50  origin_patient      39841 non-null  object \n",
      " 51  los                 39841 non-null  float64\n",
      " 52  dest_discharge      39841 non-null  object \n",
      "dtypes: float64(36), int64(5), object(12)\n",
      "memory usage: 16.1+ MB\n"
     ]
    }
   ],
   "source": [
    "df_final.info()"
   ]
  },
  {
   "cell_type": "code",
   "execution_count": 43,
   "id": "7965b355",
   "metadata": {},
   "outputs": [],
   "source": [
    "# Replace the age category column with the proper names\n",
    "df_final['age_cat'] = df_final['age_cat'].replace({1:'< 18 years',2:'18-44 years',3:'45-64 years',4:'65-84 years',5:'85+ years'})"
   ]
  },
  {
   "cell_type": "code",
   "execution_count": 44,
   "id": "2a358ded",
   "metadata": {},
   "outputs": [
    {
     "data": {
      "text/plain": [
       "65-84 years    17198\n",
       "45-64 years    13169\n",
       "18-44 years     4870\n",
       "85+ years       4539\n",
       "< 18 years        65\n",
       "Name: age_cat, dtype: int64"
      ]
     },
     "execution_count": 44,
     "metadata": {},
     "output_type": "execute_result"
    }
   ],
   "source": [
    "# And check the Age Distribution\n",
    "df_final['age_cat'].value_counts()"
   ]
  },
  {
   "cell_type": "markdown",
   "id": "21a53e3c",
   "metadata": {},
   "source": [
    "## ICD9 Codes"
   ]
  },
  {
   "cell_type": "code",
   "execution_count": 45,
   "id": "d7fc013e",
   "metadata": {
    "tags": []
   },
   "outputs": [],
   "source": [
    "# Load the ICD Codes\n",
    "icd = pd.read_csv(f'{path_to_icd}icd_chapter.txt', sep='\\t', low_memory=False)"
   ]
  },
  {
   "cell_type": "code",
   "execution_count": 46,
   "id": "a95fa822",
   "metadata": {},
   "outputs": [
    {
     "data": {
      "text/html": [
       "<div>\n",
       "<style scoped>\n",
       "    .dataframe tbody tr th:only-of-type {\n",
       "        vertical-align: middle;\n",
       "    }\n",
       "\n",
       "    .dataframe tbody tr th {\n",
       "        vertical-align: top;\n",
       "    }\n",
       "\n",
       "    .dataframe thead th {\n",
       "        text-align: right;\n",
       "    }\n",
       "</style>\n",
       "<table border=\"1\" class=\"dataframe\">\n",
       "  <thead>\n",
       "    <tr style=\"text-align: right;\">\n",
       "      <th></th>\n",
       "      <th>Chapter</th>\n",
       "      <th>Code Range</th>\n",
       "      <th>Description</th>\n",
       "    </tr>\n",
       "  </thead>\n",
       "  <tbody>\n",
       "    <tr>\n",
       "      <th>0</th>\n",
       "      <td>1</td>\n",
       "      <td>001-139</td>\n",
       "      <td>Infectious Parasitic</td>\n",
       "    </tr>\n",
       "    <tr>\n",
       "      <th>1</th>\n",
       "      <td>2</td>\n",
       "      <td>140-239</td>\n",
       "      <td>Neoplasms</td>\n",
       "    </tr>\n",
       "    <tr>\n",
       "      <th>2</th>\n",
       "      <td>3</td>\n",
       "      <td>240-279</td>\n",
       "      <td>Endocrine Nutritional Metabolic Immunity Disorders</td>\n",
       "    </tr>\n",
       "    <tr>\n",
       "      <th>3</th>\n",
       "      <td>4</td>\n",
       "      <td>280-289</td>\n",
       "      <td>Blood &amp; Blood-Forming Organs</td>\n",
       "    </tr>\n",
       "    <tr>\n",
       "      <th>4</th>\n",
       "      <td>5</td>\n",
       "      <td>290-319</td>\n",
       "      <td>Mental Disorders</td>\n",
       "    </tr>\n",
       "  </tbody>\n",
       "</table>\n",
       "</div>"
      ],
      "text/plain": [
       "   Chapter Code Range                                         Description\n",
       "0        1   001-139                                Infectious Parasitic \n",
       "1        2   140-239                                            Neoplasms\n",
       "2        3   240-279   Endocrine Nutritional Metabolic Immunity Disorders\n",
       "3        4   280-289                         Blood & Blood-Forming Organs\n",
       "4        5   290-319                                     Mental Disorders"
      ]
     },
     "execution_count": 46,
     "metadata": {},
     "output_type": "execute_result"
    }
   ],
   "source": [
    "icd.head()"
   ]
  },
  {
   "cell_type": "code",
   "execution_count": 47,
   "id": "f0b2bf2d",
   "metadata": {},
   "outputs": [
    {
     "name": "stdout",
     "output_type": "stream",
     "text": [
      "<class 'pandas.core.frame.DataFrame'>\n",
      "RangeIndex: 19 entries, 0 to 18\n",
      "Data columns (total 3 columns):\n",
      " #   Column       Non-Null Count  Dtype \n",
      "---  ------       --------------  ----- \n",
      " 0   Chapter      19 non-null     int64 \n",
      " 1   Code Range   19 non-null     object\n",
      " 2   Description  19 non-null     object\n",
      "dtypes: int64(1), object(2)\n",
      "memory usage: 584.0+ bytes\n"
     ]
    }
   ],
   "source": [
    "icd.info()"
   ]
  },
  {
   "cell_type": "code",
   "execution_count": 48,
   "id": "3fa2ccac",
   "metadata": {},
   "outputs": [],
   "source": [
    "# Generate a dictionary for all ICD codes\n",
    "icd_dict = {key:value for key,value in zip(icd['Chapter'],icd['Description'])}"
   ]
  },
  {
   "cell_type": "code",
   "execution_count": 49,
   "id": "563cd122",
   "metadata": {},
   "outputs": [
    {
     "data": {
      "text/plain": [
       "{1: 'Infectious Parasitic ',\n",
       " 2: 'Neoplasms',\n",
       " 3: 'Endocrine Nutritional Metabolic Immunity Disorders',\n",
       " 4: 'Blood & Blood-Forming Organs',\n",
       " 5: 'Mental Disorders',\n",
       " 6: 'Nervous System & Sense Organs',\n",
       " 7: 'Circulatory System',\n",
       " 8: 'Respiratory System',\n",
       " 9: 'Digestive System',\n",
       " 10: 'Genitourinary System',\n",
       " 11: 'Complications Pregnancy Childbirth Puerperium',\n",
       " 12: 'Skin Subcutaneous Tissue',\n",
       " 13: 'Musculoskeletal System Connective Tissue',\n",
       " 14: 'Congenital Anomalies',\n",
       " 15: 'Certain Conditions Originating Perinatal Period',\n",
       " 16: 'Symptoms Signs Ill-Defined Conditions',\n",
       " 17: 'Injury Poisoning',\n",
       " 18: 'Supp Factors Health Status',\n",
       " 19: 'Supp External Causes Injury Poisoning'}"
      ]
     },
     "execution_count": 49,
     "metadata": {},
     "output_type": "execute_result"
    }
   ],
   "source": [
    "icd_dict"
   ]
  },
  {
   "cell_type": "code",
   "execution_count": 50,
   "id": "6059298a",
   "metadata": {},
   "outputs": [],
   "source": [
    "# Finally replace each ICD chapter with its proper description\n",
    "df_final['icd_chapter'] = df_final['icd_chapter'].replace(icd_dict)"
   ]
  },
  {
   "cell_type": "code",
   "execution_count": null,
   "id": "b76d9f4c",
   "metadata": {},
   "outputs": [],
   "source": [
    "# Finally save the file to a CSV\n",
    "df_final.to_csv(f'{path_to_processed}df_mixed_discharge.csv.gzip', compression = 'gzip', index = False)"
   ]
  }
 ],
 "metadata": {
  "kernelspec": {
   "display_name": "Python 3.9.12 ('base')",
   "language": "python",
   "name": "python3"
  },
  "language_info": {
   "codemirror_mode": {
    "name": "ipython",
    "version": 3
   },
   "file_extension": ".py",
   "mimetype": "text/x-python",
   "name": "python",
   "nbconvert_exporter": "python",
   "pygments_lexer": "ipython3",
   "version": "3.9.12"
  },
  "vscode": {
   "interpreter": {
    "hash": "8fc10b2d10f9f16d25710b4d4512c52b634d4a9283a799a319e31d4f4e23ed6e"
   }
  }
 },
 "nbformat": 4,
 "nbformat_minor": 5
}
