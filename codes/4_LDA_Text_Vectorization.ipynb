{
  "cells": [
    {
      "cell_type": "markdown",
      "id": "38c724d0",
      "metadata": {
        "id": "38c724d0"
      },
      "source": [
        "# Text Vectorization"
      ]
    },
    {
      "cell_type": "markdown",
      "id": "HW6mjXDAOX9I",
      "metadata": {
        "id": "HW6mjXDAOX9I"
      },
      "source": [
        "## Setup"
      ]
    },
    {
      "cell_type": "code",
      "execution_count": 1,
      "id": "ae7e4618",
      "metadata": {
        "colab": {
          "base_uri": "https://localhost:8080/"
        },
        "id": "ae7e4618",
        "outputId": "edbe9b21-4ae9-4d05-8b05-dcd291a4f126"
      },
      "outputs": [
        {
          "name": "stdout",
          "output_type": "stream",
          "text": [
            "Looking in indexes: https://pypi.org/simple, https://us-python.pkg.dev/colab-wheels/public/simple/\n",
            "Collecting dill\n",
            "  Downloading dill-0.3.6-py3-none-any.whl (110 kB)\n",
            "\u001b[2K     \u001b[90m━━━━━━━━━━━━━━━━━━━━━━━━━━━━━━━━━━━━━━━\u001b[0m \u001b[32m110.5/110.5 KB\u001b[0m \u001b[31m2.1 MB/s\u001b[0m eta \u001b[36m0:00:00\u001b[0m\n",
            "\u001b[?25hInstalling collected packages: dill\n",
            "Successfully installed dill-0.3.6\n"
          ]
        },
        {
          "name": "stderr",
          "output_type": "stream",
          "text": [
            "[nltk_data] Downloading package punkt to /root/nltk_data...\n",
            "[nltk_data]   Unzipping tokenizers/punkt.zip.\n",
            "[nltk_data] Downloading package stopwords to /root/nltk_data...\n",
            "[nltk_data]   Unzipping corpora/stopwords.zip.\n",
            "[nltk_data] Downloading package wordnet to /root/nltk_data...\n"
          ]
        },
        {
          "name": "stdout",
          "output_type": "stream",
          "text": [
            "Looking in indexes: https://pypi.org/simple, https://us-python.pkg.dev/colab-wheels/public/simple/\n",
            "Collecting unidecode\n",
            "  Downloading Unidecode-1.3.6-py3-none-any.whl (235 kB)\n",
            "\u001b[2K     \u001b[90m━━━━━━━━━━━━━━━━━━━━━━━━━━━━━━━━━━━━━━━\u001b[0m \u001b[32m235.9/235.9 KB\u001b[0m \u001b[31m2.6 MB/s\u001b[0m eta \u001b[36m0:00:00\u001b[0m\n",
            "\u001b[?25hInstalling collected packages: unidecode\n",
            "Successfully installed unidecode-1.3.6\n"
          ]
        }
      ],
      "source": [
        "# Import libraries\n",
        "import numpy as np\n",
        "import pandas as pd\n",
        "import os\n",
        "import seaborn as sns\n",
        "from tqdm import tqdm\n",
        "from sklearn.feature_extraction.text import TfidfVectorizer\n",
        "from sklearn.feature_extraction.text import CountVectorizer\n",
        "import random\n",
        "from sklearn.model_selection import train_test_split\n",
        "from sklearn.decomposition import LatentDirichletAllocation\n",
        "try:\n",
        "  import dill\n",
        "except:\n",
        "  !pip install dill\n",
        "  import dill\n",
        "import re\n",
        "import nltk\n",
        "nltk.download('punkt')\n",
        "nltk.download('stopwords')\n",
        "nltk.download('wordnet')\n",
        "from nltk.corpus import stopwords\n",
        "from nltk.stem.snowball import SnowballStemmer\n",
        "from nltk.stem.wordnet import WordNetLemmatizer\n",
        "try:\n",
        "  from unidecode import unidecode\n",
        "except:\n",
        "  !pip install unidecode\n",
        "  from unidecode import unidecode\n",
        "\n",
        "pd.set_option('display.max_rows', None)  ###\n",
        "pd.set_option('display.max_columns', None)  ###\n",
        "pd.set_option('display.width', None)  ###\n",
        "pd.set_option('display.max_colwidth', None)  ###\n",
        "\n",
        "import warnings\n",
        "warnings.filterwarnings('ignore')\n",
        "\n",
        "import spacy\n",
        "try:\n",
        "    nlp = spacy.load('en_core_web_sm', disable = ['parser','ner'])\n",
        "except:\n",
        "    from spacy.cli import download\n",
        "\n",
        "    download(\"en_core_web_sm\")\n",
        "    nlp = spacy.load('en_core_web_sm', disable = ['parser','ner'])"
      ]
    },
    {
      "cell_type": "code",
      "execution_count": 20,
      "id": "3d82c396",
      "metadata": {
        "colab": {
          "base_uri": "https://localhost:8080/"
        },
        "id": "3d82c396",
        "outputId": "6b415da0-308e-4989-8384-bf685759ea1a"
      },
      "outputs": [
        {
          "name": "stdout",
          "output_type": "stream",
          "text": [
            "We're running Colab\n",
            "Colab: mounting Google drive on  /content/gdrive\n",
            "Drive already mounted at /content/gdrive; to attempt to forcibly remount, call drive.mount(\"/content/gdrive\", force_remount=True).\n",
            "/content/gdrive/MyDrive/MIMIC-III Text Mining/LOS_FINAL/\n"
          ]
        }
      ],
      "source": [
        "try:\n",
        "  from google.colab import drive\n",
        "  IN_COLAB=True\n",
        "except:\n",
        "  IN_COLAB=False\n",
        "\n",
        "if IN_COLAB:\n",
        "  print(\"We're running Colab\")\n",
        "\n",
        "if IN_COLAB:  \n",
        "  # Mount the Google Drive at mount\n",
        "  mount='/content/gdrive'\n",
        "  print(\"Colab: mounting Google drive on \", mount)\n",
        "  # connect your colab with the drive\n",
        "  drive.mount(mount)\n",
        "\n",
        " # Switch to the directory on the Google Drive that you want to use\n",
        "  import os\n",
        "  path_to_repo = mount + \"/MyDrive/MIMIC-III Text Mining/LOS_FINAL/\"\n",
        "\n",
        "else:\n",
        "  # Setup Repository\n",
        "  with open(\"repo_info.txt\", \"r\") as repo_info:\n",
        "      path_to_repo = repo_info.readline()\n",
        "\n",
        "  \n",
        "print(path_to_repo)\n",
        "\n",
        "path_to_data = f\"{path_to_repo}data/\"\n",
        "path_to_raw = f\"{path_to_data}raw/\"\n",
        "path_to_processed = f\"{path_to_data}processed/\"\n",
        "path_to_lda = f\"{path_to_data}lda/\"\n",
        "path_to_icd = f\"{path_to_data}icd_codes/\"\n",
        "path_to_models = f\"{path_to_repo}models/\"\n",
        "path_to_results = f\"{path_to_repo}results/\"\n",
        "path_to_tables = f\"{path_to_repo}tables/\"\n",
        "\n",
        "os.makedirs(path_to_tables, exist_ok = True)"
      ]
    },
    {
      "cell_type": "code",
      "execution_count": 3,
      "id": "08ba7f01",
      "metadata": {
        "id": "08ba7f01"
      },
      "outputs": [],
      "source": [
        "# PARAMETERS\n",
        "\n",
        "session_seed = 42 # set seed for our session\n",
        "test_proportion = 0.2\n",
        "\n",
        "MAX_FEATURES = 10000 # maximum number of features\n",
        "min_df = 5 # minimum frequency\n",
        "max_df = 0.8 # maximum frequency\n",
        "N_GRAM = (1,2) # n_gram range\n",
        "\n",
        "seed_tag = f'_{session_seed}'\n",
        "\n",
        "random.seed(session_seed)\n",
        "\n",
        "\n",
        "# Set to True if we want to include deaths\n",
        "death_incl = True\n",
        "death_tag = np.where(death_incl,\"_death\", \"\")"
      ]
    },
    {
      "cell_type": "markdown",
      "id": "Ku7Szz9IQGij",
      "metadata": {
        "id": "Ku7Szz9IQGij"
      },
      "source": [
        "## Process the dataset"
      ]
    },
    {
      "cell_type": "code",
      "execution_count": 4,
      "id": "7LiGsC7XoMqV",
      "metadata": {
        "id": "7LiGsC7XoMqV"
      },
      "outputs": [],
      "source": [
        "# import dataset\n",
        "file = f'{path_to_processed}df_mixed_discharge{death_tag}.csv.gzip'\n",
        "raw_df = pd.read_csv(file, compression = 'gzip', low_memory=False)"
      ]
    },
    {
      "cell_type": "code",
      "execution_count": 5,
      "id": "8XFuBX3noXut",
      "metadata": {
        "colab": {
          "base_uri": "https://localhost:8080/"
        },
        "id": "8XFuBX3noXut",
        "outputId": "c4c93bee-dee0-4961-dc18-a45b60019f67"
      },
      "outputs": [
        {
          "data": {
            "text/plain": [
              "Index(['hadm_id', 'subject_id', 'ethnicity', 'admission_type',\n",
              "       'admission_location', 'insurance', 'religion', 'marital_status',\n",
              "       'icu_los', 'gender', 'age', 'urea_n_min', 'urea_n_max', 'urea_n_mean',\n",
              "       'platelets_min', 'platelets_max', 'platelets_mean', 'magnesium_max',\n",
              "       'albumin_min', 'calcium_min', 'resprate_min', 'resprate_max',\n",
              "       'resprate_mean', 'glucose_min', 'glucose_max', 'glucose_mean', 'hr_min',\n",
              "       'hr_max', 'hr_mean', 'sysbp_min', 'sysbp_max', 'sysbp_mean',\n",
              "       'diasbp_min', 'diasbp_max', 'diasbp_mean', 'temp_min', 'temp_max',\n",
              "       'temp_mean', 'sapsii', 'sofa', 'urine_min', 'urine_mean', 'urine_max',\n",
              "       'patientweight', 'age_cat', 'type_stay', 'prev_adm', 'dest_discharge',\n",
              "       'emergency_dpt', 'icd_chapter', 'origin_patient', 'los', 'text'],\n",
              "      dtype='object')"
            ]
          },
          "execution_count": 5,
          "metadata": {},
          "output_type": "execute_result"
        }
      ],
      "source": [
        "# examine the variables (names)\n",
        "raw_df.columns"
      ]
    },
    {
      "cell_type": "code",
      "execution_count": 6,
      "id": "y2byIwcxotCi",
      "metadata": {
        "id": "y2byIwcxotCi"
      },
      "outputs": [],
      "source": [
        "# drop the variables to be exempted from the analysis and rename new dataset\n",
        "df = raw_df.drop(columns = ['hadm_id', 'subject_id','icu_los'])\n"
      ]
    },
    {
      "cell_type": "code",
      "execution_count": 7,
      "id": "tt0F5yjgGsYm",
      "metadata": {
        "colab": {
          "base_uri": "https://localhost:8080/"
        },
        "id": "tt0F5yjgGsYm",
        "outputId": "c955aa6a-45fa-406d-981d-0d95fece9033"
      },
      "outputs": [
        {
          "data": {
            "text/plain": [
              "(30985, 50)"
            ]
          },
          "execution_count": 7,
          "metadata": {},
          "output_type": "execute_result"
        }
      ],
      "source": [
        "df.shape"
      ]
    },
    {
      "cell_type": "code",
      "execution_count": 8,
      "id": "AMDu1KFJHKFO",
      "metadata": {
        "colab": {
          "base_uri": "https://localhost:8080/"
        },
        "id": "AMDu1KFJHKFO",
        "outputId": "09042eec-5f65-4109-8c87-9e02602377c6"
      },
      "outputs": [
        {
          "name": "stdout",
          "output_type": "stream",
          "text": [
            "<class 'pandas.core.frame.DataFrame'>\n",
            "RangeIndex: 30985 entries, 0 to 30984\n",
            "Data columns (total 50 columns):\n",
            " #   Column              Non-Null Count  Dtype  \n",
            "---  ------              --------------  -----  \n",
            " 0   ethnicity           30985 non-null  object \n",
            " 1   admission_type      30985 non-null  object \n",
            " 2   admission_location  30985 non-null  object \n",
            " 3   insurance           30985 non-null  object \n",
            " 4   religion            30985 non-null  object \n",
            " 5   marital_status      30985 non-null  object \n",
            " 6   gender              30985 non-null  object \n",
            " 7   age                 30985 non-null  float64\n",
            " 8   urea_n_min          30976 non-null  float64\n",
            " 9   urea_n_max          30976 non-null  float64\n",
            " 10  urea_n_mean         30976 non-null  float64\n",
            " 11  platelets_min       30974 non-null  float64\n",
            " 12  platelets_max       30974 non-null  float64\n",
            " 13  platelets_mean      30974 non-null  float64\n",
            " 14  magnesium_max       30890 non-null  float64\n",
            " 15  albumin_min         20330 non-null  float64\n",
            " 16  calcium_min         30133 non-null  float64\n",
            " 17  resprate_min        30977 non-null  float64\n",
            " 18  resprate_max        30977 non-null  float64\n",
            " 19  resprate_mean       30977 non-null  float64\n",
            " 20  glucose_min         30898 non-null  float64\n",
            " 21  glucose_max         30898 non-null  float64\n",
            " 22  glucose_mean        30898 non-null  float64\n",
            " 23  hr_min              30984 non-null  float64\n",
            " 24  hr_max              30984 non-null  float64\n",
            " 25  hr_mean             30984 non-null  float64\n",
            " 26  sysbp_min           30982 non-null  float64\n",
            " 27  sysbp_max           30982 non-null  float64\n",
            " 28  sysbp_mean          30982 non-null  float64\n",
            " 29  diasbp_min          30982 non-null  float64\n",
            " 30  diasbp_max          30982 non-null  float64\n",
            " 31  diasbp_mean         30982 non-null  float64\n",
            " 32  temp_min            30939 non-null  float64\n",
            " 33  temp_max            30939 non-null  float64\n",
            " 34  temp_mean           30939 non-null  float64\n",
            " 35  sapsii              30985 non-null  int64  \n",
            " 36  sofa                30985 non-null  int64  \n",
            " 37  urine_min           30979 non-null  float64\n",
            " 38  urine_mean          30979 non-null  float64\n",
            " 39  urine_max           30979 non-null  float64\n",
            " 40  patientweight       16065 non-null  float64\n",
            " 41  age_cat             30985 non-null  object \n",
            " 42  type_stay           30985 non-null  object \n",
            " 43  prev_adm            30985 non-null  object \n",
            " 44  dest_discharge      30985 non-null  object \n",
            " 45  emergency_dpt       30985 non-null  object \n",
            " 46  icd_chapter         30985 non-null  object \n",
            " 47  origin_patient      30985 non-null  object \n",
            " 48  los                 30985 non-null  object \n",
            " 49  text                30985 non-null  object \n",
            "dtypes: float64(32), int64(2), object(16)\n",
            "memory usage: 11.8+ MB\n"
          ]
        }
      ],
      "source": [
        "df.info()"
      ]
    },
    {
      "cell_type": "code",
      "execution_count": 9,
      "id": "lYzP2kFvIoso",
      "metadata": {
        "id": "lYzP2kFvIoso"
      },
      "outputs": [],
      "source": [
        "# Transform the LOS timedelta to days (as decimal values to increase precision)\n",
        "df['los'] = pd.to_timedelta(df.los)\n",
        "df['los'] = df.los/pd.to_timedelta(1, unit='D')"
      ]
    },
    {
      "cell_type": "code",
      "execution_count": 10,
      "id": "ADz6My05pHhS",
      "metadata": {
        "colab": {
          "base_uri": "https://localhost:8080/"
        },
        "id": "ADz6My05pHhS",
        "outputId": "9115fa55-e8e5-466a-ebfb-686145418f0a"
      },
      "outputs": [
        {
          "data": {
            "text/plain": [
              "(30985, 30764)"
            ]
          },
          "execution_count": 10,
          "metadata": {},
          "output_type": "execute_result"
        }
      ],
      "source": [
        "# selection criterion : only patients 18 and older and with a length of stay or 1 day or greater\n",
        "df = df.loc[(df['age']>=18) & (df['los']>=1),:]\n",
        "# compare size of dataframe before and after selection\n",
        "len(raw_df), len(df)"
      ]
    },
    {
      "cell_type": "code",
      "execution_count": 17,
      "id": "6XXyJOJBGUdP",
      "metadata": {
        "colab": {
          "base_uri": "https://localhost:8080/",
          "height": 1000
        },
        "id": "6XXyJOJBGUdP",
        "outputId": "449bcef6-0333-4c4b-e3ad-b640b9f549a9"
      },
      "outputs": [
        {
          "data": {
            "text/html": [
              "\n",
              "  <div id=\"df-59d13e43-e79a-401f-80b9-8f30393498aa\">\n",
              "    <div class=\"colab-df-container\">\n",
              "      <div>\n",
              "<style scoped>\n",
              "    .dataframe tbody tr th:only-of-type {\n",
              "        vertical-align: middle;\n",
              "    }\n",
              "\n",
              "    .dataframe tbody tr th {\n",
              "        vertical-align: top;\n",
              "    }\n",
              "\n",
              "    .dataframe thead th {\n",
              "        text-align: right;\n",
              "    }\n",
              "</style>\n",
              "<table border=\"1\" class=\"dataframe\">\n",
              "  <thead>\n",
              "    <tr style=\"text-align: right;\">\n",
              "      <th></th>\n",
              "      <th>count</th>\n",
              "      <th>proportions</th>\n",
              "    </tr>\n",
              "  </thead>\n",
              "  <tbody>\n",
              "    <tr>\n",
              "      <th>patientweight</th>\n",
              "      <td>14847</td>\n",
              "      <td>0.482610</td>\n",
              "    </tr>\n",
              "    <tr>\n",
              "      <th>albumin_min</th>\n",
              "      <td>10503</td>\n",
              "      <td>0.341406</td>\n",
              "    </tr>\n",
              "    <tr>\n",
              "      <th>calcium_min</th>\n",
              "      <td>819</td>\n",
              "      <td>0.026622</td>\n",
              "    </tr>\n",
              "    <tr>\n",
              "      <th>glucose_mean</th>\n",
              "      <td>64</td>\n",
              "      <td>0.002080</td>\n",
              "    </tr>\n",
              "    <tr>\n",
              "      <th>glucose_max</th>\n",
              "      <td>64</td>\n",
              "      <td>0.002080</td>\n",
              "    </tr>\n",
              "    <tr>\n",
              "      <th>glucose_min</th>\n",
              "      <td>64</td>\n",
              "      <td>0.002080</td>\n",
              "    </tr>\n",
              "    <tr>\n",
              "      <th>magnesium_max</th>\n",
              "      <td>64</td>\n",
              "      <td>0.002080</td>\n",
              "    </tr>\n",
              "    <tr>\n",
              "      <th>temp_mean</th>\n",
              "      <td>45</td>\n",
              "      <td>0.001463</td>\n",
              "    </tr>\n",
              "    <tr>\n",
              "      <th>temp_max</th>\n",
              "      <td>45</td>\n",
              "      <td>0.001463</td>\n",
              "    </tr>\n",
              "    <tr>\n",
              "      <th>temp_min</th>\n",
              "      <td>45</td>\n",
              "      <td>0.001463</td>\n",
              "    </tr>\n",
              "    <tr>\n",
              "      <th>resprate_mean</th>\n",
              "      <td>8</td>\n",
              "      <td>0.000260</td>\n",
              "    </tr>\n",
              "    <tr>\n",
              "      <th>resprate_max</th>\n",
              "      <td>8</td>\n",
              "      <td>0.000260</td>\n",
              "    </tr>\n",
              "    <tr>\n",
              "      <th>resprate_min</th>\n",
              "      <td>8</td>\n",
              "      <td>0.000260</td>\n",
              "    </tr>\n",
              "    <tr>\n",
              "      <th>urine_min</th>\n",
              "      <td>6</td>\n",
              "      <td>0.000195</td>\n",
              "    </tr>\n",
              "    <tr>\n",
              "      <th>urine_max</th>\n",
              "      <td>6</td>\n",
              "      <td>0.000195</td>\n",
              "    </tr>\n",
              "    <tr>\n",
              "      <th>urine_mean</th>\n",
              "      <td>6</td>\n",
              "      <td>0.000195</td>\n",
              "    </tr>\n",
              "    <tr>\n",
              "      <th>platelets_mean</th>\n",
              "      <td>5</td>\n",
              "      <td>0.000163</td>\n",
              "    </tr>\n",
              "    <tr>\n",
              "      <th>platelets_min</th>\n",
              "      <td>5</td>\n",
              "      <td>0.000163</td>\n",
              "    </tr>\n",
              "    <tr>\n",
              "      <th>platelets_max</th>\n",
              "      <td>5</td>\n",
              "      <td>0.000163</td>\n",
              "    </tr>\n",
              "    <tr>\n",
              "      <th>sysbp_min</th>\n",
              "      <td>3</td>\n",
              "      <td>0.000098</td>\n",
              "    </tr>\n",
              "    <tr>\n",
              "      <th>diasbp_mean</th>\n",
              "      <td>3</td>\n",
              "      <td>0.000098</td>\n",
              "    </tr>\n",
              "    <tr>\n",
              "      <th>diasbp_max</th>\n",
              "      <td>3</td>\n",
              "      <td>0.000098</td>\n",
              "    </tr>\n",
              "    <tr>\n",
              "      <th>diasbp_min</th>\n",
              "      <td>3</td>\n",
              "      <td>0.000098</td>\n",
              "    </tr>\n",
              "    <tr>\n",
              "      <th>sysbp_mean</th>\n",
              "      <td>3</td>\n",
              "      <td>0.000098</td>\n",
              "    </tr>\n",
              "    <tr>\n",
              "      <th>sysbp_max</th>\n",
              "      <td>3</td>\n",
              "      <td>0.000098</td>\n",
              "    </tr>\n",
              "    <tr>\n",
              "      <th>urea_n_min</th>\n",
              "      <td>3</td>\n",
              "      <td>0.000098</td>\n",
              "    </tr>\n",
              "    <tr>\n",
              "      <th>urea_n_max</th>\n",
              "      <td>3</td>\n",
              "      <td>0.000098</td>\n",
              "    </tr>\n",
              "    <tr>\n",
              "      <th>urea_n_mean</th>\n",
              "      <td>3</td>\n",
              "      <td>0.000098</td>\n",
              "    </tr>\n",
              "    <tr>\n",
              "      <th>hr_max</th>\n",
              "      <td>1</td>\n",
              "      <td>0.000033</td>\n",
              "    </tr>\n",
              "    <tr>\n",
              "      <th>hr_min</th>\n",
              "      <td>1</td>\n",
              "      <td>0.000033</td>\n",
              "    </tr>\n",
              "    <tr>\n",
              "      <th>hr_mean</th>\n",
              "      <td>1</td>\n",
              "      <td>0.000033</td>\n",
              "    </tr>\n",
              "    <tr>\n",
              "      <th>type_stay</th>\n",
              "      <td>0</td>\n",
              "      <td>0.000000</td>\n",
              "    </tr>\n",
              "    <tr>\n",
              "      <th>prev_adm</th>\n",
              "      <td>0</td>\n",
              "      <td>0.000000</td>\n",
              "    </tr>\n",
              "    <tr>\n",
              "      <th>dest_discharge</th>\n",
              "      <td>0</td>\n",
              "      <td>0.000000</td>\n",
              "    </tr>\n",
              "    <tr>\n",
              "      <th>emergency_dpt</th>\n",
              "      <td>0</td>\n",
              "      <td>0.000000</td>\n",
              "    </tr>\n",
              "    <tr>\n",
              "      <th>icd_chapter</th>\n",
              "      <td>0</td>\n",
              "      <td>0.000000</td>\n",
              "    </tr>\n",
              "    <tr>\n",
              "      <th>age_cat</th>\n",
              "      <td>0</td>\n",
              "      <td>0.000000</td>\n",
              "    </tr>\n",
              "    <tr>\n",
              "      <th>origin_patient</th>\n",
              "      <td>0</td>\n",
              "      <td>0.000000</td>\n",
              "    </tr>\n",
              "    <tr>\n",
              "      <th>los</th>\n",
              "      <td>0</td>\n",
              "      <td>0.000000</td>\n",
              "    </tr>\n",
              "    <tr>\n",
              "      <th>ethnicity</th>\n",
              "      <td>0</td>\n",
              "      <td>0.000000</td>\n",
              "    </tr>\n",
              "    <tr>\n",
              "      <th>sofa</th>\n",
              "      <td>0</td>\n",
              "      <td>0.000000</td>\n",
              "    </tr>\n",
              "    <tr>\n",
              "      <th>sapsii</th>\n",
              "      <td>0</td>\n",
              "      <td>0.000000</td>\n",
              "    </tr>\n",
              "    <tr>\n",
              "      <th>admission_type</th>\n",
              "      <td>0</td>\n",
              "      <td>0.000000</td>\n",
              "    </tr>\n",
              "    <tr>\n",
              "      <th>age</th>\n",
              "      <td>0</td>\n",
              "      <td>0.000000</td>\n",
              "    </tr>\n",
              "    <tr>\n",
              "      <th>gender</th>\n",
              "      <td>0</td>\n",
              "      <td>0.000000</td>\n",
              "    </tr>\n",
              "    <tr>\n",
              "      <th>marital_status</th>\n",
              "      <td>0</td>\n",
              "      <td>0.000000</td>\n",
              "    </tr>\n",
              "    <tr>\n",
              "      <th>religion</th>\n",
              "      <td>0</td>\n",
              "      <td>0.000000</td>\n",
              "    </tr>\n",
              "    <tr>\n",
              "      <th>insurance</th>\n",
              "      <td>0</td>\n",
              "      <td>0.000000</td>\n",
              "    </tr>\n",
              "    <tr>\n",
              "      <th>admission_location</th>\n",
              "      <td>0</td>\n",
              "      <td>0.000000</td>\n",
              "    </tr>\n",
              "    <tr>\n",
              "      <th>text</th>\n",
              "      <td>0</td>\n",
              "      <td>0.000000</td>\n",
              "    </tr>\n",
              "  </tbody>\n",
              "</table>\n",
              "</div>\n",
              "      <button class=\"colab-df-convert\" onclick=\"convertToInteractive('df-59d13e43-e79a-401f-80b9-8f30393498aa')\"\n",
              "              title=\"Convert this dataframe to an interactive table.\"\n",
              "              style=\"display:none;\">\n",
              "        \n",
              "  <svg xmlns=\"http://www.w3.org/2000/svg\" height=\"24px\"viewBox=\"0 0 24 24\"\n",
              "       width=\"24px\">\n",
              "    <path d=\"M0 0h24v24H0V0z\" fill=\"none\"/>\n",
              "    <path d=\"M18.56 5.44l.94 2.06.94-2.06 2.06-.94-2.06-.94-.94-2.06-.94 2.06-2.06.94zm-11 1L8.5 8.5l.94-2.06 2.06-.94-2.06-.94L8.5 2.5l-.94 2.06-2.06.94zm10 10l.94 2.06.94-2.06 2.06-.94-2.06-.94-.94-2.06-.94 2.06-2.06.94z\"/><path d=\"M17.41 7.96l-1.37-1.37c-.4-.4-.92-.59-1.43-.59-.52 0-1.04.2-1.43.59L10.3 9.45l-7.72 7.72c-.78.78-.78 2.05 0 2.83L4 21.41c.39.39.9.59 1.41.59.51 0 1.02-.2 1.41-.59l7.78-7.78 2.81-2.81c.8-.78.8-2.07 0-2.86zM5.41 20L4 18.59l7.72-7.72 1.47 1.35L5.41 20z\"/>\n",
              "  </svg>\n",
              "      </button>\n",
              "      \n",
              "  <style>\n",
              "    .colab-df-container {\n",
              "      display:flex;\n",
              "      flex-wrap:wrap;\n",
              "      gap: 12px;\n",
              "    }\n",
              "\n",
              "    .colab-df-convert {\n",
              "      background-color: #E8F0FE;\n",
              "      border: none;\n",
              "      border-radius: 50%;\n",
              "      cursor: pointer;\n",
              "      display: none;\n",
              "      fill: #1967D2;\n",
              "      height: 32px;\n",
              "      padding: 0 0 0 0;\n",
              "      width: 32px;\n",
              "    }\n",
              "\n",
              "    .colab-df-convert:hover {\n",
              "      background-color: #E2EBFA;\n",
              "      box-shadow: 0px 1px 2px rgba(60, 64, 67, 0.3), 0px 1px 3px 1px rgba(60, 64, 67, 0.15);\n",
              "      fill: #174EA6;\n",
              "    }\n",
              "\n",
              "    [theme=dark] .colab-df-convert {\n",
              "      background-color: #3B4455;\n",
              "      fill: #D2E3FC;\n",
              "    }\n",
              "\n",
              "    [theme=dark] .colab-df-convert:hover {\n",
              "      background-color: #434B5C;\n",
              "      box-shadow: 0px 1px 3px 1px rgba(0, 0, 0, 0.15);\n",
              "      filter: drop-shadow(0px 1px 2px rgba(0, 0, 0, 0.3));\n",
              "      fill: #FFFFFF;\n",
              "    }\n",
              "  </style>\n",
              "\n",
              "      <script>\n",
              "        const buttonEl =\n",
              "          document.querySelector('#df-59d13e43-e79a-401f-80b9-8f30393498aa button.colab-df-convert');\n",
              "        buttonEl.style.display =\n",
              "          google.colab.kernel.accessAllowed ? 'block' : 'none';\n",
              "\n",
              "        async function convertToInteractive(key) {\n",
              "          const element = document.querySelector('#df-59d13e43-e79a-401f-80b9-8f30393498aa');\n",
              "          const dataTable =\n",
              "            await google.colab.kernel.invokeFunction('convertToInteractive',\n",
              "                                                     [key], {});\n",
              "          if (!dataTable) return;\n",
              "\n",
              "          const docLinkHtml = 'Like what you see? Visit the ' +\n",
              "            '<a target=\"_blank\" href=https://colab.research.google.com/notebooks/data_table.ipynb>data table notebook</a>'\n",
              "            + ' to learn more about interactive tables.';\n",
              "          element.innerHTML = '';\n",
              "          dataTable['output_type'] = 'display_data';\n",
              "          await google.colab.output.renderOutput(dataTable, element);\n",
              "          const docLink = document.createElement('div');\n",
              "          docLink.innerHTML = docLinkHtml;\n",
              "          element.appendChild(docLink);\n",
              "        }\n",
              "      </script>\n",
              "    </div>\n",
              "  </div>\n",
              "  "
            ],
            "text/plain": [
              "                    count  proportions\n",
              "patientweight       14847     0.482610\n",
              "albumin_min         10503     0.341406\n",
              "calcium_min           819     0.026622\n",
              "glucose_mean           64     0.002080\n",
              "glucose_max            64     0.002080\n",
              "glucose_min            64     0.002080\n",
              "magnesium_max          64     0.002080\n",
              "temp_mean              45     0.001463\n",
              "temp_max               45     0.001463\n",
              "temp_min               45     0.001463\n",
              "resprate_mean           8     0.000260\n",
              "resprate_max            8     0.000260\n",
              "resprate_min            8     0.000260\n",
              "urine_min               6     0.000195\n",
              "urine_max               6     0.000195\n",
              "urine_mean              6     0.000195\n",
              "platelets_mean          5     0.000163\n",
              "platelets_min           5     0.000163\n",
              "platelets_max           5     0.000163\n",
              "sysbp_min               3     0.000098\n",
              "diasbp_mean             3     0.000098\n",
              "diasbp_max              3     0.000098\n",
              "diasbp_min              3     0.000098\n",
              "sysbp_mean              3     0.000098\n",
              "sysbp_max               3     0.000098\n",
              "urea_n_min              3     0.000098\n",
              "urea_n_max              3     0.000098\n",
              "urea_n_mean             3     0.000098\n",
              "hr_max                  1     0.000033\n",
              "hr_min                  1     0.000033\n",
              "hr_mean                 1     0.000033\n",
              "type_stay               0     0.000000\n",
              "prev_adm                0     0.000000\n",
              "dest_discharge          0     0.000000\n",
              "emergency_dpt           0     0.000000\n",
              "icd_chapter             0     0.000000\n",
              "age_cat                 0     0.000000\n",
              "origin_patient          0     0.000000\n",
              "los                     0     0.000000\n",
              "ethnicity               0     0.000000\n",
              "sofa                    0     0.000000\n",
              "sapsii                  0     0.000000\n",
              "admission_type          0     0.000000\n",
              "age                     0     0.000000\n",
              "gender                  0     0.000000\n",
              "marital_status          0     0.000000\n",
              "religion                0     0.000000\n",
              "insurance               0     0.000000\n",
              "admission_location      0     0.000000\n",
              "text                    0     0.000000"
            ]
          },
          "execution_count": 17,
          "metadata": {},
          "output_type": "execute_result"
        }
      ],
      "source": [
        "# check proportion of missing values\n",
        "missing = pd.concat([df.isna().sum(), df.isna().mean()], axis = 1)\n",
        "missing.columns = ['count', 'proportions']\n",
        "missing.sort_values('proportions',ascending = False)"
      ]
    },
    {
      "cell_type": "code",
      "execution_count": 23,
      "id": "clvVRvCLGtEw",
      "metadata": {
        "id": "clvVRvCLGtEw"
      },
      "outputs": [],
      "source": [
        "# Save it as a table\n",
        "missing.sort_values('proportions',ascending = False).to_excel(f\"{path_to_tables}missing_table{death_tag}.xlsx\")"
      ]
    },
    {
      "cell_type": "code",
      "execution_count": 18,
      "id": "4C5cc715rFi2",
      "metadata": {
        "colab": {
          "base_uri": "https://localhost:8080/"
        },
        "id": "4C5cc715rFi2",
        "outputId": "48f095ce-092c-4b42-8de0-b198f5829f7c"
      },
      "outputs": [
        {
          "name": "stdout",
          "output_type": "stream",
          "text": [
            "Variables with more than 20% Missing Values: ['albumin_min', 'patientweight']\n"
          ]
        }
      ],
      "source": [
        "# drop variables having more than 20 % missing values\n",
        "print(f\"Variables with more than 20% Missing Values: {list(missing.loc[missing.proportions >= 0.2].index)}\")\n",
        "df = df.drop(columns=missing.loc[missing.proportions >= 0.2].index)"
      ]
    },
    {
      "cell_type": "code",
      "execution_count": null,
      "id": "rRz15TuusBd-",
      "metadata": {
        "colab": {
          "base_uri": "https://localhost:8080/"
        },
        "id": "rRz15TuusBd-",
        "outputId": "08821ef8-c156-4af0-c89a-ed9b55e24c56"
      },
      "outputs": [
        {
          "data": {
            "text/plain": [
              "ethnicity             0.0\n",
              "admission_type        0.0\n",
              "admission_location    0.0\n",
              "insurance             0.0\n",
              "religion              0.0\n",
              "marital_status        0.0\n",
              "gender                0.0\n",
              "age                   0.0\n",
              "urea_n_min            0.0\n",
              "urea_n_max            0.0\n",
              "urea_n_mean           0.0\n",
              "platelets_min         0.0\n",
              "platelets_max         0.0\n",
              "platelets_mean        0.0\n",
              "magnesium_max         0.0\n",
              "calcium_min           0.0\n",
              "resprate_min          0.0\n",
              "resprate_max          0.0\n",
              "resprate_mean         0.0\n",
              "glucose_min           0.0\n",
              "glucose_max           0.0\n",
              "glucose_mean          0.0\n",
              "hr_min                0.0\n",
              "hr_max                0.0\n",
              "hr_mean               0.0\n",
              "sysbp_min             0.0\n",
              "sysbp_max             0.0\n",
              "sysbp_mean            0.0\n",
              "diasbp_min            0.0\n",
              "diasbp_max            0.0\n",
              "diasbp_mean           0.0\n",
              "temp_min              0.0\n",
              "temp_max              0.0\n",
              "temp_mean             0.0\n",
              "sapsii                0.0\n",
              "sofa                  0.0\n",
              "urine_min             0.0\n",
              "urine_mean            0.0\n",
              "urine_max             0.0\n",
              "age_cat               0.0\n",
              "type_stay             0.0\n",
              "prev_adm              0.0\n",
              "dest_discharge        0.0\n",
              "emergency_dpt         0.0\n",
              "icd_chapter           0.0\n",
              "origin_patient        0.0\n",
              "los                   0.0\n",
              "text                  0.0\n",
              "dtype: float64"
            ]
          },
          "execution_count": 11,
          "metadata": {},
          "output_type": "execute_result"
        }
      ],
      "source": [
        "# impute missing values\n",
        "df = df.interpolate()\n",
        "df.isna().mean()"
      ]
    },
    {
      "cell_type": "markdown",
      "id": "fy8UBgWYqKT0",
      "metadata": {
        "id": "fy8UBgWYqKT0"
      },
      "source": [
        "## Binarize LOS"
      ]
    },
    {
      "cell_type": "code",
      "execution_count": null,
      "id": "De_p06PwwWT2",
      "metadata": {
        "colab": {
          "base_uri": "https://localhost:8080/",
          "height": 721
        },
        "id": "De_p06PwwWT2",
        "outputId": "f54708de-b4be-4c30-a865-18b18acc33e7"
      },
      "outputs": [
        {
          "data": {
            "image/png": "[encoded data removed]",
            "text/plain": [
              "<Figure size 360x360 with 1 Axes>"
            ]
          },
          "metadata": {
            "needs_background": "light"
          },
          "output_type": "display_data"
        },
        {
          "data": {
            "image/png": "[encoded data removed]",
            "text/plain": [
              "<Figure size 360x360 with 1 Axes>"
            ]
          },
          "metadata": {
            "needs_background": "light"
          },
          "output_type": "display_data"
        }
      ],
      "source": [
        "# check distribution of outcome\n",
        "sns.catplot(kind='box', data=df, y='los');\n",
        "sns.displot(data=df, x=\"los\", bins=30, kde=True) ;"
      ]
    },
    {
      "cell_type": "code",
      "execution_count": null,
      "id": "bOUxzXAXw29V",
      "metadata": {
        "colab": {
          "base_uri": "https://localhost:8080/"
        },
        "id": "bOUxzXAXw29V",
        "outputId": "41b7d05e-33dc-4ae1-cea0-b3ba8ff64104"
      },
      "outputs": [
        {
          "name": "stdout",
          "output_type": "stream",
          "text": [
            "First quartile = 5.051, Third Quartile = 13.388, Interquartile Interval = 8.338\n",
            "Lower Fence = -7.456, Upper Fence = 25.895\n"
          ]
        }
      ],
      "source": [
        "# compute Lower and Upper Fence according to Tukey's criteria\n",
        "y = df['los']\n",
        "Q1 = np.percentile(y, 25)\n",
        "Q3 = np.percentile(y, 75)\n",
        "IQR = Q3-Q1\n",
        "LF = Q1 - 1.5*IQR\n",
        "UF = Q3 + 1.5*IQR\n",
        "print(f'First quartile = {Q1:.3f}, Third Quartile = {Q3:.3f}, Interquartile Interval = {IQR:.3f}')\n",
        "print(f'Lower Fence = {LF:.3f}, Upper Fence = {UF:.3f}')"
      ]
    },
    {
      "cell_type": "code",
      "execution_count": null,
      "id": "UB-bnD2zxJBv",
      "metadata": {
        "id": "UB-bnD2zxJBv"
      },
      "outputs": [],
      "source": [
        "# create categorical LOS variable where prolonged LOS is any value greater than Upper Fence\n",
        "df['los_cat'] = df['los']> UF\n",
        "df = df.drop(columns=['los'])"
      ]
    },
    {
      "cell_type": "code",
      "execution_count": null,
      "id": "ZbDJIyBFnbxj",
      "metadata": {
        "colab": {
          "base_uri": "https://localhost:8080/"
        },
        "id": "ZbDJIyBFnbxj",
        "outputId": "3eededb6-e114-4701-e40c-76f177c86eee"
      },
      "outputs": [
        {
          "data": {
            "text/plain": [
              "False    28525\n",
              "True      2239\n",
              "Name: los_cat, dtype: int64"
            ]
          },
          "execution_count": 17,
          "metadata": {},
          "output_type": "execute_result"
        }
      ],
      "source": [
        "df['los_cat'].value_counts()"
      ]
    },
    {
      "cell_type": "code",
      "execution_count": null,
      "id": "K0tLSCaPntsN",
      "metadata": {
        "colab": {
          "base_uri": "https://localhost:8080/"
        },
        "id": "K0tLSCaPntsN",
        "outputId": "54c64375-3f92-4765-9a30-3f35c3f0ca17"
      },
      "outputs": [
        {
          "data": {
            "text/plain": [
              "False    0.92722\n",
              "True     0.07278\n",
              "Name: los_cat, dtype: float64"
            ]
          },
          "execution_count": 18,
          "metadata": {},
          "output_type": "execute_result"
        }
      ],
      "source": [
        "df['los_cat'].value_counts(normalize=True)"
      ]
    },
    {
      "cell_type": "code",
      "execution_count": null,
      "id": "ojgqgcD1oMv1",
      "metadata": {
        "colab": {
          "base_uri": "https://localhost:8080/"
        },
        "id": "ojgqgcD1oMv1",
        "outputId": "bff61583-3bbf-4f85-ae66-f4f0892822cd"
      },
      "outputs": [
        {
          "name": "stdout",
          "output_type": "stream",
          "text": [
            "<class 'pandas.core.frame.DataFrame'>\n",
            "Int64Index: 30764 entries, 0 to 30984\n",
            "Data columns (total 48 columns):\n",
            " #   Column              Non-Null Count  Dtype  \n",
            "---  ------              --------------  -----  \n",
            " 0   ethnicity           30764 non-null  object \n",
            " 1   admission_type      30764 non-null  object \n",
            " 2   admission_location  30764 non-null  object \n",
            " 3   insurance           30764 non-null  object \n",
            " 4   religion            30764 non-null  object \n",
            " 5   marital_status      30764 non-null  object \n",
            " 6   gender              30764 non-null  object \n",
            " 7   age                 30764 non-null  float64\n",
            " 8   urea_n_min          30764 non-null  float64\n",
            " 9   urea_n_max          30764 non-null  float64\n",
            " 10  urea_n_mean         30764 non-null  float64\n",
            " 11  platelets_min       30764 non-null  float64\n",
            " 12  platelets_max       30764 non-null  float64\n",
            " 13  platelets_mean      30764 non-null  float64\n",
            " 14  magnesium_max       30764 non-null  float64\n",
            " 15  calcium_min         30764 non-null  float64\n",
            " 16  resprate_min        30764 non-null  float64\n",
            " 17  resprate_max        30764 non-null  float64\n",
            " 18  resprate_mean       30764 non-null  float64\n",
            " 19  glucose_min         30764 non-null  float64\n",
            " 20  glucose_max         30764 non-null  float64\n",
            " 21  glucose_mean        30764 non-null  float64\n",
            " 22  hr_min              30764 non-null  float64\n",
            " 23  hr_max              30764 non-null  float64\n",
            " 24  hr_mean             30764 non-null  float64\n",
            " 25  sysbp_min           30764 non-null  float64\n",
            " 26  sysbp_max           30764 non-null  float64\n",
            " 27  sysbp_mean          30764 non-null  float64\n",
            " 28  diasbp_min          30764 non-null  float64\n",
            " 29  diasbp_max          30764 non-null  float64\n",
            " 30  diasbp_mean         30764 non-null  float64\n",
            " 31  temp_min            30764 non-null  float64\n",
            " 32  temp_max            30764 non-null  float64\n",
            " 33  temp_mean           30764 non-null  float64\n",
            " 34  sapsii              30764 non-null  int64  \n",
            " 35  sofa                30764 non-null  int64  \n",
            " 36  urine_min           30764 non-null  float64\n",
            " 37  urine_mean          30764 non-null  float64\n",
            " 38  urine_max           30764 non-null  float64\n",
            " 39  age_cat             30764 non-null  object \n",
            " 40  type_stay           30764 non-null  object \n",
            " 41  prev_adm            30764 non-null  object \n",
            " 42  dest_discharge      30764 non-null  object \n",
            " 43  emergency_dpt       30764 non-null  object \n",
            " 44  icd_chapter         30764 non-null  object \n",
            " 45  origin_patient      30764 non-null  object \n",
            " 46  text                30764 non-null  object \n",
            " 47  los_cat             30764 non-null  bool   \n",
            "dtypes: bool(1), float64(30), int64(2), object(15)\n",
            "memory usage: 12.3+ MB\n"
          ]
        }
      ],
      "source": [
        "df.info()"
      ]
    },
    {
      "cell_type": "markdown",
      "id": "Nu9HH6QmUfRR",
      "metadata": {
        "id": "Nu9HH6QmUfRR"
      },
      "source": [
        "## Heavier Preprocessing & BoW - Define Functions"
      ]
    },
    {
      "cell_type": "code",
      "execution_count": null,
      "id": "l466V00LqQVs",
      "metadata": {
        "id": "l466V00LqQVs"
      },
      "outputs": [],
      "source": [
        "stemmer = SnowballStemmer(\"english\", ignore_stopwords=True) # we initialize our stemmer\n",
        "stop_words = stopwords.words('english') # nltk stopwords\n",
        "lemmatizer = WordNetLemmatizer() # lemmatizer in case we want to lemmatize instead of stemming"
      ]
    },
    {
      "cell_type": "code",
      "execution_count": null,
      "id": "RXjSvXZmWskn",
      "metadata": {
        "id": "RXjSvXZmWskn"
      },
      "outputs": [],
      "source": [
        "def remove_stopwords(text):\n",
        "    text =  \" \".join([x for x in text.split()if x not in stop_words]) # delete stopwords from text\n",
        "    return text\n",
        "\n",
        "def heading_clean(text):\n",
        "  text = re.sub(r'\\[\\*\\*(.+?)\\*\\*\\]', \"\", text) # we take out information in brackets\n",
        "  text = re.sub(r'(Admission Date:)|(Discharge Date:)|(Date of Birth:)|(Name:)|(Unit No:)', \"\", text, flags = re.I)\n",
        "  if preproc_heavier:\n",
        "    text = re.sub(r'Sex:', \"\", text, flags = re.I)\n",
        "    text = text.lower() # lowercase text\n",
        "    text = unidecode((text))\n",
        "    text = re.sub(r'[^\\w\\s]','',text)\n",
        "    if lemmatize == True:\n",
        "        if use_spacy == True:\n",
        "            doc = nlp(text)\n",
        "            text = \" \".join([token.lemma_ for token in doc])\n",
        "        else:\n",
        "            text =  \" \".join([lemmatizer.lemmatize(x) for x in text.split()])\n",
        "    else:\n",
        "        text =  \" \".join([stemmer.stem(x) for x in text.split()])\n",
        "    text = remove_stopwords(text)\n",
        "  return text"
      ]
    },
    {
      "cell_type": "code",
      "execution_count": null,
      "id": "d988a4d9",
      "metadata": {
        "id": "d988a4d9"
      },
      "outputs": [],
      "source": [
        "def vectorize_to_dataframe(df, vectorizer_obj):\n",
        "    \"\"\"\n",
        "    Function to return a dataframe from our vectorizer results\n",
        "    \"\"\"\n",
        "    df = pd.DataFrame(data = df.toarray(), columns = vectorizer_obj.get_feature_names())\n",
        "    return df"
      ]
    },
    {
      "cell_type": "code",
      "execution_count": null,
      "id": "5ba30881",
      "metadata": {
        "id": "5ba30881"
      },
      "outputs": [],
      "source": [
        "def vectorize_features(X_train, X_test, method = 'frequency'):\n",
        "    \"\"\"\n",
        "    Function to perform vectorization of our test sets\n",
        "    X_train, X_test, X_val: our dataframes\n",
        "    method: either 'frequency', 'tf_idf', 'onehot' to employ a different BoW technique\n",
        "    \"\"\"\n",
        "    # initialize our vectorizer\n",
        "    if method == 'tf_idf':\n",
        "        vectorizer = TfidfVectorizer(ngram_range=N_GRAM, min_df=min_df, max_df=max_df, max_features=MAX_FEATURES)\n",
        "    elif method == 'frequency':\n",
        "        vectorizer = CountVectorizer(ngram_range=N_GRAM, min_df=min_df, max_df=max_df, max_features=MAX_FEATURES)\n",
        "    elif method == 'onehot':\n",
        "        vectorizer = CountVectorizer(ngram_range=N_GRAM, min_df=min_df, max_df=max_df, max_features=MAX_FEATURES, binary = True)\n",
        "        \n",
        "    train_text = vectorizer.fit_transform(X_train.text)\n",
        "    train_text = vectorize_to_dataframe(train_text, vectorizer)\n",
        "    test_text = vectorizer.transform(X_test.text)\n",
        "    test_text = vectorize_to_dataframe(test_text, vectorizer)\n",
        "    return train_text, test_text"
      ]
    },
    {
      "cell_type": "code",
      "execution_count": null,
      "id": "be1c5e17",
      "metadata": {
        "id": "be1c5e17"
      },
      "outputs": [],
      "source": [
        "def save_dataframes(train, test, method, target = False):\n",
        "    \"\"\"\n",
        "    Function to save our dataframes\n",
        "    train: train set to be saved\n",
        "    method: method through which we have processed the dataframes, needed as save keyword\n",
        "    test: test set to be saved\n",
        "    \"\"\"\n",
        "    # need to reset the index\n",
        "    train.reset_index(inplace=True, drop = True)\n",
        "    # save our dataset up to now in feather format\n",
        "    train.to_feather('{}{}train_{}{}{}{}'.format(path_to_processed, method, seed_tag, preproc_tag, lemma_tag, death_tag))\n",
        "    # need to reset the index\n",
        "    test.reset_index(inplace=True, drop = True)\n",
        "    # save our dataset up to now in feather format\n",
        "    test.to_feather('{}{}test_{}{}{}{}'.format(path_to_processed, method, seed_tag, preproc_tag, lemma_tag, death_tag))"
      ]
    },
    {
      "cell_type": "code",
      "execution_count": null,
      "id": "f8b4d37c",
      "metadata": {
        "id": "f8b4d37c"
      },
      "outputs": [],
      "source": [
        "def load_datasets(method):\n",
        "    \"\"\"\n",
        "    Function to load train, test and validation set based on the chosen method\n",
        "    method: string for the processing method we want to load\n",
        "    \"\"\"\n",
        "    global path_to_processed\n",
        "    # load it back\n",
        "    train = pd.read_feather('{}{}train_{}{}{}{}'.format(path_to_processed, method, seed_tag, preproc_tag, lemma_tag, death_tag))\n",
        "    test = pd.read_feather('{}{}test_{}{}{}{}'.format(path_to_processed, method, seed_tag, preproc_tag, lemma_tag, death_tag))\n",
        "    return train, test"
      ]
    },
    {
      "cell_type": "markdown",
      "id": "B8hNsOl6gEt4",
      "metadata": {
        "id": "B8hNsOl6gEt4"
      },
      "source": [
        "### Vectorization Loop"
      ]
    },
    {
      "cell_type": "code",
      "execution_count": null,
      "id": "z4mZ0EbwdkAP",
      "metadata": {
        "id": "z4mZ0EbwdkAP"
      },
      "outputs": [],
      "source": [
        "# Iterate over our main methods of vectorization\n",
        "\n",
        "vect_dict = {'stemming': (False, False),\n",
        "             'spacy': (True, True)}\n",
        "\n",
        "             \n",
        "for key, value in vect_dict.items():\n",
        "    print(key)\n",
        "    # PARAMETERS\n",
        "\n",
        "    lemmatize = value[0] # set to false if we want to do stemming\n",
        "    lemma_tag = str(np.where(lemmatize, \"_lemma\",\"\"))\n",
        "    use_spacy = value[1]\n",
        "    if use_spacy: lemma_tag = str(np.where(lemmatize, \"_lemma_spacy\",\"\"))\n",
        "\n",
        "    preprocessing = True # set to true if we want to clean and perform some preprocessing\n",
        "    preproc_heavier = True # set to True if we want a heavier preprocessing\n",
        "    preproc_tag_2 = np.where(preproc_heavier, '_heavier', '')\n",
        "    preproc_tag = np.where(preprocessing, f'_preproc{preproc_tag_2}', f'{preproc_tag_2}')\n",
        "  \n",
        "    if preprocessing:\n",
        "        try:\n",
        "            df = pd.read_feather(f'{path_to_processed}df_los{preproc_tag}{lemma_tag}')\n",
        "            print('Dataframe Loaded')\n",
        "        except:\n",
        "            df['text'] = df.text.apply(lambda x: heading_clean(x))\n",
        "            # need to reset the index\n",
        "            df.reset_index(inplace=True, drop = True)\n",
        "            # save our dataset up to now in feather format\n",
        "            df.to_feather(f'{path_to_processed}df_los{preproc_tag}{lemma_tag}')\n",
        "            print('Dataframe Saved')\n",
        "        # split the data into training and test\n",
        "        train, test = train_test_split(df, train_size=0.80, stratify = df['los_cat'], random_state=42)\n",
        "    # perform vectorization\n",
        "    method_list = ['frequency', 'onehot','tf_idf']\n",
        "    train_clean = train.drop(columns = 'text')\n",
        "    train_clean.reset_index(inplace = True, drop = True)\n",
        "    test_clean = test.drop(columns = 'text')\n",
        "    test_clean.reset_index(inplace = True, drop = True)\n",
        "    for method in method_list:\n",
        "        print(method)\n",
        "        # for each method we perform vectorization\n",
        "        train_text, test_text = vectorize_features(train, test, method = method)\n",
        "        # Drop the text column and concatenate it\n",
        "        X_train = pd.concat([train_clean, train_text], axis = 1)\n",
        "        X_test = pd.concat([test_clean, test_text], axis = 1)\n",
        "        assert X_train.shape[0] == train_clean.shape[0]\n",
        "        assert X_test.shape[0] == test_clean.shape[0]\n",
        "        # and save the dataframes\n",
        "        save_dataframes(X_train, X_test, method = method)\n",
        "        # And also perform LDA\n",
        "        try:\n",
        "            with open(f'{path_to_lda}lda{seed_tag}{method}{preproc_tag}{lemma_tag}{death_tag}', 'rb') as file: # and save the fitted model\n",
        "                lda = dill.load(file)\n",
        "            train_lda = lda.transform(train_text)\n",
        "        except:\n",
        "            lda = LatentDirichletAllocation(n_components = 300, random_state = session_seed, n_jobs = -1)\n",
        "            train_lda = lda.fit_transform(train_text)\n",
        "        train_lda = pd.DataFrame(train_lda)\n",
        "        train_lda.columns=[\"F\"+str(i) for i in range(0, len(train_lda.columns))]\n",
        "        test_lda = lda.transform(test_text)\n",
        "        test_lda = pd.DataFrame(test_lda)\n",
        "        test_lda.columns=[\"F\"+str(i) for i in range(0, len(test_lda.columns))]\n",
        "        # Drop the text column and concatenate it\n",
        "        X_train = pd.concat([train_clean, train_lda], axis = 1)\n",
        "        X_test = pd.concat([test_clean, test_lda], axis = 1)\n",
        "        assert X_train.shape[0] == train_clean.shape[0]\n",
        "        assert X_test.shape[0] == test_clean.shape[0]\n",
        "        save_dataframes(X_train, X_test, method = f'lda_{method}')\n",
        "        with open(f'{path_to_lda}lda{seed_tag}{method}{preproc_tag}{lemma_tag}{death_tag}', 'wb') as file: # and save the fitted model\n",
        "            dill.dump(lda, file)"
      ]
    },
    {
      "cell_type": "markdown",
      "id": "edd160ba",
      "metadata": {
        "id": "edd160ba"
      },
      "source": [
        "## Save Topic-Words combination"
      ]
    },
    {
      "cell_type": "code",
      "execution_count": null,
      "id": "efd38b60",
      "metadata": {
        "id": "efd38b60"
      },
      "outputs": [],
      "source": [
        "# We now want to export for each LDA model the corresponding words in an excel file\n",
        "\n",
        "vect_dict = {'stemming': (False, False),\n",
        "             'spacy': (True, True)}\n",
        "    \n",
        "for key, value in vect_dict.items():\n",
        "    print(key)\n",
        "    # PARAMETERS\n",
        "\n",
        "    lemmatize = value[0] # set to false if we want to do stemming\n",
        "    lemma_tag = str(np.where(lemmatize, \"_lemma\",\"\"))\n",
        "    use_spacy = value[1]\n",
        "    if use_spacy: lemma_tag = str(np.where(lemmatize, \"_lemma_spacy\",\"\"))\n",
        "\n",
        "    preprocessing = True # set to true if we want to clean and perform some preprocessing\n",
        "    preproc_heavier = True # set to True if we want a heavier preprocessing\n",
        "    preproc_tag_2 = np.where(preproc_heavier, '_heavier', '')\n",
        "    preproc_tag = np.where(preprocessing, f'_preproc{preproc_tag_2}', f'{preproc_tag_2}')\n",
        "\n",
        "    # List of BoW methods\n",
        "    method_list = ['frequency', 'tf_idf', 'onehot']\n",
        "\n",
        "    # Initialize an excel writer where we are going to save all the various word-topic for each method\n",
        "    writer = pd.ExcelWriter(f'{path_to_lda}\\output_lda_{key}{death_tag}.xlsx')\n",
        "\n",
        "    # Iterate over all 3 methods\n",
        "    for method in method_list:\n",
        "\n",
        "        # Re-Load our LDA model\n",
        "        with open(f'{path_to_lda}lda{seed_tag}{method}{preproc_tag}{lemma_tag}{death_tag}', 'rb') as file: # and save the fitted model\n",
        "            lda = dill.load(file)\n",
        "\n",
        "        # Load the datasets constructed with the BOW method\n",
        "        _, test = load_datasets(method)\n",
        "\n",
        "        # Get the words - and remove the placeholder \"dischargetext_\"\n",
        "        text_col = [re.sub(\"dischargetext_\", \"\",col) for col in test.columns if \"dischargetext\" in col]\n",
        "\n",
        "\n",
        "        # Create a pandas dataframe out of the LDA components\n",
        "        lda_components = pd.DataFrame(lda.components_, columns = text_col, index = [f\"F{i}\" for i in range(0, 300)]).T\n",
        "\n",
        "        # Create a sheet for our current method\n",
        "        workbook=writer.book\n",
        "        worksheet=workbook.add_worksheet(f'{method}')\n",
        "        writer.sheets[f'{method}'] = worksheet\n",
        "\n",
        "        lda_components.to_excel(writer,sheet_name=f'{method}')\n",
        "    # Close the excel workbook   \n",
        "    writer.close()"
      ]
    }
  ],
  "metadata": {
    "accelerator": "TPU",
    "colab": {
      "machine_shape": "hm",
      "provenance": []
    },
    "gpuClass": "standard",
    "kernelspec": {
      "display_name": "base",
      "language": "python",
      "name": "python3"
    },
    "language_info": {
      "codemirror_mode": {
        "name": "ipython",
        "version": 3
      },
      "file_extension": ".py",
      "mimetype": "text/x-python",
      "name": "python",
      "nbconvert_exporter": "python",
      "pygments_lexer": "ipython3",
      "version": "3.9.12"
    },
    "vscode": {
      "interpreter": {
        "hash": "32aaecebd078ebf0fad58c11ce872e322c9fff2b8f0b0f5a9c84d62363eabb98"
      }
    }
  },
  "nbformat": 4,
  "nbformat_minor": 5
}
