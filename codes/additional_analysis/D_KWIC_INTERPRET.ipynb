{
  "nbformat": 4,
  "nbformat_minor": 0,
  "metadata": {
    "colab": {
      "provenance": []
    },
    "kernelspec": {
      "name": "python3",
      "display_name": "Python 3"
    },
    "language_info": {
      "name": "python"
    }
  },
  "cells": [
    {
      "cell_type": "markdown",
      "source": [
        "# KWIC FOR INTERPRETATION"
      ],
      "metadata": {
        "id": "CA7tkpZ8CBf3"
      }
    },
    {
      "cell_type": "markdown",
      "source": [
        "## SETUP"
      ],
      "metadata": {
        "id": "6jVYYNejCTa1"
      }
    },
    {
      "cell_type": "code",
      "source": [
        "!pip install textacy"
      ],
      "metadata": {
        "colab": {
          "base_uri": "https://localhost:8080/"
        },
        "id": "JGfcBtSc6o8C",
        "outputId": "e35b72ef-f6a1-4a3c-cd84-941240210b23"
      },
      "execution_count": 6,
      "outputs": [
        {
          "output_type": "stream",
          "name": "stdout",
          "text": [
            "Looking in indexes: https://pypi.org/simple, https://us-python.pkg.dev/colab-wheels/public/simple/\n",
            "Collecting textacy\n",
            "  Downloading textacy-0.12.0-py3-none-any.whl (208 kB)\n",
            "\u001b[2K     \u001b[90m━━━━━━━━━━━━━━━━━━━━━━━━━━━━━━━━━━━━━━━\u001b[0m \u001b[32m208.4/208.4 KB\u001b[0m \u001b[31m4.5 MB/s\u001b[0m eta \u001b[36m0:00:00\u001b[0m\n",
            "\u001b[?25hRequirement already satisfied: networkx>=2.0 in /usr/local/lib/python3.8/dist-packages (from textacy) (3.0)\n",
            "Requirement already satisfied: catalogue~=2.0 in /usr/local/lib/python3.8/dist-packages (from textacy) (2.0.8)\n",
            "Collecting cytoolz>=0.10.1\n",
            "  Downloading cytoolz-0.12.1-cp38-cp38-manylinux_2_17_x86_64.manylinux2014_x86_64.whl (1.8 MB)\n",
            "\u001b[2K     \u001b[90m━━━━━━━━━━━━━━━━━━━━━━━━━━━━━━━━━━━━━━━━\u001b[0m \u001b[32m1.8/1.8 MB\u001b[0m \u001b[31m28.2 MB/s\u001b[0m eta \u001b[36m0:00:00\u001b[0m\n",
            "\u001b[?25hRequirement already satisfied: requests>=2.10.0 in /usr/local/lib/python3.8/dist-packages (from textacy) (2.25.1)\n",
            "Collecting pyphen>=0.10.0\n",
            "  Downloading pyphen-0.13.2-py3-none-any.whl (2.0 MB)\n",
            "\u001b[2K     \u001b[90m━━━━━━━━━━━━━━━━━━━━━━━━━━━━━━━━━━━━━━━━\u001b[0m \u001b[32m2.0/2.0 MB\u001b[0m \u001b[31m75.7 MB/s\u001b[0m eta \u001b[36m0:00:00\u001b[0m\n",
            "\u001b[?25hRequirement already satisfied: scikit-learn>=0.19.0 in /usr/local/lib/python3.8/dist-packages (from textacy) (1.0.2)\n",
            "Requirement already satisfied: spacy>=3.0.0 in /usr/local/lib/python3.8/dist-packages (from textacy) (3.4.4)\n",
            "Requirement already satisfied: joblib>=0.13.0 in /usr/local/lib/python3.8/dist-packages (from textacy) (1.2.0)\n",
            "Collecting jellyfish>=0.8.0\n",
            "  Downloading jellyfish-0.9.0.tar.gz (132 kB)\n",
            "\u001b[2K     \u001b[90m━━━━━━━━━━━━━━━━━━━━━━━━━━━━━━━━━━━━━━\u001b[0m \u001b[32m132.6/132.6 KB\u001b[0m \u001b[31m15.3 MB/s\u001b[0m eta \u001b[36m0:00:00\u001b[0m\n",
            "\u001b[?25h  Preparing metadata (setup.py) ... \u001b[?25l\u001b[?25hdone\n",
            "Requirement already satisfied: numpy>=1.17.0 in /usr/local/lib/python3.8/dist-packages (from textacy) (1.22.4)\n",
            "Requirement already satisfied: tqdm>=4.19.6 in /usr/local/lib/python3.8/dist-packages (from textacy) (4.64.1)\n",
            "Requirement already satisfied: scipy>=0.17.0 in /usr/local/lib/python3.8/dist-packages (from textacy) (1.7.3)\n",
            "Requirement already satisfied: cachetools>=4.0.0 in /usr/local/lib/python3.8/dist-packages (from textacy) (5.3.0)\n",
            "Requirement already satisfied: toolz>=0.8.0 in /usr/local/lib/python3.8/dist-packages (from cytoolz>=0.10.1->textacy) (0.12.0)\n",
            "Requirement already satisfied: chardet<5,>=3.0.2 in /usr/local/lib/python3.8/dist-packages (from requests>=2.10.0->textacy) (4.0.0)\n",
            "Requirement already satisfied: idna<3,>=2.5 in /usr/local/lib/python3.8/dist-packages (from requests>=2.10.0->textacy) (2.10)\n",
            "Requirement already satisfied: urllib3<1.27,>=1.21.1 in /usr/local/lib/python3.8/dist-packages (from requests>=2.10.0->textacy) (1.24.3)\n",
            "Requirement already satisfied: certifi>=2017.4.17 in /usr/local/lib/python3.8/dist-packages (from requests>=2.10.0->textacy) (2022.12.7)\n",
            "Requirement already satisfied: threadpoolctl>=2.0.0 in /usr/local/lib/python3.8/dist-packages (from scikit-learn>=0.19.0->textacy) (3.1.0)\n",
            "Requirement already satisfied: murmurhash<1.1.0,>=0.28.0 in /usr/local/lib/python3.8/dist-packages (from spacy>=3.0.0->textacy) (1.0.9)\n",
            "Requirement already satisfied: cymem<2.1.0,>=2.0.2 in /usr/local/lib/python3.8/dist-packages (from spacy>=3.0.0->textacy) (2.0.7)\n",
            "Requirement already satisfied: smart-open<7.0.0,>=5.2.1 in /usr/local/lib/python3.8/dist-packages (from spacy>=3.0.0->textacy) (6.3.0)\n",
            "Requirement already satisfied: langcodes<4.0.0,>=3.2.0 in /usr/local/lib/python3.8/dist-packages (from spacy>=3.0.0->textacy) (3.3.0)\n",
            "Requirement already satisfied: srsly<3.0.0,>=2.4.3 in /usr/local/lib/python3.8/dist-packages (from spacy>=3.0.0->textacy) (2.4.5)\n",
            "Requirement already satisfied: pathy>=0.3.5 in /usr/local/lib/python3.8/dist-packages (from spacy>=3.0.0->textacy) (0.10.1)\n",
            "Requirement already satisfied: jinja2 in /usr/local/lib/python3.8/dist-packages (from spacy>=3.0.0->textacy) (2.11.3)\n",
            "Requirement already satisfied: preshed<3.1.0,>=3.0.2 in /usr/local/lib/python3.8/dist-packages (from spacy>=3.0.0->textacy) (3.0.8)\n",
            "Requirement already satisfied: thinc<8.2.0,>=8.1.0 in /usr/local/lib/python3.8/dist-packages (from spacy>=3.0.0->textacy) (8.1.7)\n",
            "Requirement already satisfied: typer<0.8.0,>=0.3.0 in /usr/local/lib/python3.8/dist-packages (from spacy>=3.0.0->textacy) (0.7.0)\n",
            "Requirement already satisfied: wasabi<1.1.0,>=0.9.1 in /usr/local/lib/python3.8/dist-packages (from spacy>=3.0.0->textacy) (0.10.1)\n",
            "Requirement already satisfied: spacy-loggers<2.0.0,>=1.0.0 in /usr/local/lib/python3.8/dist-packages (from spacy>=3.0.0->textacy) (1.0.4)\n",
            "Requirement already satisfied: spacy-legacy<3.1.0,>=3.0.10 in /usr/local/lib/python3.8/dist-packages (from spacy>=3.0.0->textacy) (3.0.12)\n",
            "Requirement already satisfied: packaging>=20.0 in /usr/local/lib/python3.8/dist-packages (from spacy>=3.0.0->textacy) (23.0)\n",
            "Requirement already satisfied: pydantic!=1.8,!=1.8.1,<1.11.0,>=1.7.4 in /usr/local/lib/python3.8/dist-packages (from spacy>=3.0.0->textacy) (1.10.5)\n",
            "Requirement already satisfied: setuptools in /usr/local/lib/python3.8/dist-packages (from spacy>=3.0.0->textacy) (57.4.0)\n",
            "Requirement already satisfied: typing-extensions>=4.2.0 in /usr/local/lib/python3.8/dist-packages (from pydantic!=1.8,!=1.8.1,<1.11.0,>=1.7.4->spacy>=3.0.0->textacy) (4.5.0)\n",
            "Requirement already satisfied: confection<1.0.0,>=0.0.1 in /usr/local/lib/python3.8/dist-packages (from thinc<8.2.0,>=8.1.0->spacy>=3.0.0->textacy) (0.0.4)\n",
            "Requirement already satisfied: blis<0.8.0,>=0.7.8 in /usr/local/lib/python3.8/dist-packages (from thinc<8.2.0,>=8.1.0->spacy>=3.0.0->textacy) (0.7.9)\n",
            "Requirement already satisfied: click<9.0.0,>=7.1.1 in /usr/local/lib/python3.8/dist-packages (from typer<0.8.0,>=0.3.0->spacy>=3.0.0->textacy) (7.1.2)\n",
            "Requirement already satisfied: MarkupSafe>=0.23 in /usr/local/lib/python3.8/dist-packages (from jinja2->spacy>=3.0.0->textacy) (2.0.1)\n",
            "Building wheels for collected packages: jellyfish\n",
            "  Building wheel for jellyfish (setup.py) ... \u001b[?25l\u001b[?25hdone\n",
            "  Created wheel for jellyfish: filename=jellyfish-0.9.0-cp38-cp38-linux_x86_64.whl size=77918 sha256=9dbceecebb293e353f2ddab3d75cbd3c93651cdf2159f9719fc0c6d684f38c2f\n",
            "  Stored in directory: /root/.cache/pip/wheels/f1/c7/3c/4c83132de76359e3a429fd09c08995945ca96c5290a41651d3\n",
            "Successfully built jellyfish\n",
            "Installing collected packages: pyphen, jellyfish, cytoolz, textacy\n",
            "Successfully installed cytoolz-0.12.1 jellyfish-0.9.0 pyphen-0.13.2 textacy-0.12.0\n"
          ]
        }
      ]
    },
    {
      "cell_type": "code",
      "execution_count": 2,
      "metadata": {
        "id": "lDpYezvRngYc"
      },
      "outputs": [],
      "source": [
        "# import all required modules\n",
        "import pandas as pd\n",
        "import numpy as np\n",
        "import os\n",
        "import matplotlib.pyplot as plt\n",
        "import seaborn as sns\n",
        "\n",
        "pd.set_option('display.max_rows', None)  ###\n",
        "pd.set_option('display.max_columns', None)  ###\n",
        "pd.set_option('display.width', None)  ###\n",
        "pd.set_option('display.max_colwidth', None)  ###\n",
        "\n",
        "import warnings\n",
        "warnings.filterwarnings('ignore')\n",
        "\n",
        "from sklearn.model_selection import train_test_split\n",
        "import pickle\n",
        "import random\n",
        "import re\n",
        "import textacy\n",
        "\n",
        "if textacy.__version__ < '0.11': # as in printed book\n",
        "    from textacy.text_utils import KWIC\n",
        "    \n",
        "else: # for textacy 0.11.x\n",
        "    from textacy.extract.kwic import keyword_in_context\n",
        "\n",
        "    def KWIC(*args, **kwargs):\n",
        "        # call keyword_in_context with all params except 'print_only'\n",
        "        return keyword_in_context(*args, \n",
        "                           **{kw: arg for kw, arg in kwargs.items() \n",
        "                            if kw != 'print_only'})"
      ]
    },
    {
      "cell_type": "code",
      "execution_count": 3,
      "metadata": {
        "colab": {
          "base_uri": "https://localhost:8080/"
        },
        "id": "KbsrXR1vn57M",
        "outputId": "06bfc848-093a-47fe-f90f-13bc0d804213"
      },
      "outputs": [
        {
          "output_type": "stream",
          "name": "stdout",
          "text": [
            "We're running Colab\n",
            "Colab: mounting Google drive on  /content/gdrive\n",
            "Mounted at /content/gdrive\n",
            "/content/gdrive/MyDrive/MIMIC-III Text Mining/LOS_FINAL/\n"
          ]
        }
      ],
      "source": [
        "try:\n",
        "  from google.colab import drive\n",
        "  IN_COLAB=True\n",
        "except:\n",
        "  IN_COLAB=False\n",
        "\n",
        "if IN_COLAB:\n",
        "  print(\"We're running Colab\")\n",
        "\n",
        "if IN_COLAB:  \n",
        "  # Mount the Google Drive at mount\n",
        "  mount='/content/gdrive'\n",
        "  print(\"Colab: mounting Google drive on \", mount)\n",
        "  # connect your colab with the drive\n",
        "  drive.mount(mount)\n",
        "\n",
        " # Switch to the directory on the Google Drive that you want to use\n",
        "  import os\n",
        "  path_to_repo = mount + \"/MyDrive/MIMIC-III Text Mining/LOS_FINAL/\"\n",
        "\n",
        "else:\n",
        "  # Setup Repository\n",
        "  with open(\"repo_info.txt\", \"r\") as repo_info:\n",
        "      path_to_repo = repo_info.readline()\n",
        "\n",
        "  \n",
        "print(path_to_repo)\n",
        "\n",
        "path_to_data = f\"{path_to_repo}data/\"\n",
        "path_to_raw = f\"{path_to_data}raw/\"\n",
        "path_to_processed = f\"{path_to_data}processed/\"\n",
        "path_to_lda = f\"{path_to_data}lda/\"\n",
        "path_to_icd = f\"{path_to_data}icd_codes/\"\n",
        "path_to_models = f\"{path_to_repo}models/\"\n",
        "path_to_results = f\"{path_to_repo}results/\""
      ]
    },
    {
      "cell_type": "markdown",
      "source": [
        "## LOAD OUR DATASET"
      ],
      "metadata": {
        "id": "M5voQ1ySCUtP"
      }
    },
    {
      "cell_type": "code",
      "source": [
        "preproc_tag = '_preproc_heavier'\n",
        "lemma_tag = \"_lemma_spacy\"\n",
        "df = pd.read_feather(f'{path_to_processed}df_los{preproc_tag}{lemma_tag}')\n",
        "# restrict to just discharge notes\n",
        "df = df[['los_cat', 'text']]\n",
        "print('Dataframe Loaded')\n",
        "# split the data into training and test\n",
        "train, test = train_test_split(df, train_size=0.80, stratify = df['los_cat'], random_state=42)"
      ],
      "metadata": {
        "colab": {
          "base_uri": "https://localhost:8080/"
        },
        "id": "tZFvaa6B6egZ",
        "outputId": "8689cf52-b208-4e63-b21a-bb5fd45e92b2"
      },
      "execution_count": 5,
      "outputs": [
        {
          "output_type": "stream",
          "name": "stdout",
          "text": [
            "Dataframe Loaded\n"
          ]
        }
      ]
    },
    {
      "cell_type": "markdown",
      "source": [
        "## APPLY KWIC"
      ],
      "metadata": {
        "id": "ENZwVvDxCWDW"
      }
    },
    {
      "cell_type": "code",
      "execution_count": 9,
      "metadata": {
        "id": "khFWgFEUgZsR"
      },
      "outputs": [],
      "source": [
        "def kwic(doc_series, keyword, window=35, print_samples=5):\n",
        "\n",
        "    def add_kwic(text):\n",
        "        kwic_list.extend(KWIC(text, keyword, ignore_case=True, \n",
        "                              window_width=window, print_only=False))\n",
        "\n",
        "    kwic_list = []\n",
        "    doc_series.progress_map(add_kwic)\n",
        "\n",
        "    if print_samples is None or print_samples==0:\n",
        "        return kwic_list\n",
        "    else:\n",
        "        k = min(print_samples, len(kwic_list))\n",
        "        print(f\"{k} random samples out of {len(kwic_list)} \" + \\\n",
        "              f\"contexts for '{keyword}':\")\n",
        "        for sample in random.sample(list(kwic_list), k):\n",
        "            print(re.sub(r'[\\n\\t]', ' ', sample[0])+'  '+ \\\n",
        "                  sample[1]+'  '+\\\n",
        "                  re.sub(r'[\\n\\t]', ' ', sample[2]))"
      ]
    },
    {
      "cell_type": "code",
      "execution_count": 10,
      "metadata": {
        "id": "zAMLXR0ihfFm"
      },
      "outputs": [],
      "source": [
        "from tqdm import tqdm\n",
        "\n",
        "tqdm.pandas()  # <- added this line"
      ]
    },
    {
      "cell_type": "code",
      "execution_count": 34,
      "metadata": {
        "id": "Dpxn2dcdgjx4",
        "colab": {
          "base_uri": "https://localhost:8080/"
        },
        "outputId": "bb7e87d2-15b5-4d80-d9aa-6ebb73e55458"
      },
      "outputs": [
        {
          "output_type": "stream",
          "name": "stderr",
          "text": [
            "100%|██████████| 6153/6153 [00:00<00:00, 7193.47it/s]"
          ]
        },
        {
          "output_type": "stream",
          "name": "stdout",
          "text": [
            "100 random samples out of 6307 contexts for '\\sed\\s':\n",
            "e stool past five day last loose bm   ed   patient explain sometimes get confu\n",
            "ial vital ed 976 98 12470 24 99 lab   ed   notable wbc 157 941n hct 379 plt 33\n",
            "0 lethargy w sob send ed evaluation   ed   note black guiaic pos stool dark ng\n",
            "lication feel well enough walk home   ed   initial vital 1003 bp 11289 hr 94 r\n",
            " illness ms 88 yo f htn hld present   ed   chest back pain per pts family epis\n",
            "sob say resolve report ativan lasix   ed   improve cp sob bedside tee perform \n",
            "r evaluate obgyn hematology service   ed   feel process unrelated retain poc p\n",
            "ailure cr 52 baseline cr20 transfer   ed   vq scan rule pulmonary emboli give \n",
            "dmit acute psychotic decompensation   ed   initial vs 98 p 144 bp 134881 r 33 \n",
            "c total make 650cc uop transfer icu   ed   respiratory status stable still nit\n",
            "hct 24 transfer bc icu bed per note   ed   patient unable give much history du\n",
            " infection forehead improve present   ed   able get chair weakness see ed init\n",
            "min k give cipro ua ng lavage clear   ed   initial vs 991 p 60 bp 12940 r 20 o\n",
            "dime 1gram give urine output 225 mg   ed   currently patient feel well sob muc\n",
            " discharge patient present hospital   ed   nvanorexia x4 day find ed stable vi\n",
            "d call ems patient reportedly bring   ed   6090 min follow ingestion ed initia\n",
            "r 104 new creatinine 09 32 transfer   ed   eval report chill morning report na\n",
            "w blood pressure high take hospital   ed   initial vs 992 hr119 bp17373 resp40\n",
            "ng patient aggressively resuscitate   ed   low dose norepinephrine transfer un\n",
            "uation possible cholangitis arrival   ed   cxr ct ap notable rll pna report sy\n",
            "venous ph 685 trend bicarb transfer   ed   furth management ed initial vs t987\n",
            "leave gain 04 pound since discharge   ed   patient afebrile vital prior transf\n",
            "n fever sepsis pt septic physiology   ed   micu grow gram cocci cluster 1 bott\n",
            "ection trasnferre care upon arrival   ed   heavily sedate sedation examine und\n",
            "rness palpation wound site rectal g   ed   neuro ao x 3 discharge 978 12961 84\n",
            "t tolerate discharge gu foley place   ed   produce adequate urine icu stay res\n",
            "ding consistent chf patient present   ed   blood pressure 253120 past medical \n",
            "hypotension mildly fluid responsive   ed   sbp 80 90s100s lactate 09 wbc norma\n",
            "a brbrpshe admit work abdminal pain   ed   vital follow 970 hr 101 bp 240180 r\n",
            " office foley remove without trauma   ed   initial vs tmax 103 hr 110 bp 8040 \n",
            "icularly hand become concerned come   ed   evaluation emergency department lab\n",
            "brief hospital course patient admit   ed   ticu acute pain service consult pai\n",
            "ive iv vancomycin dialysis transfer   ed   evaluation infection concern ambula\n",
            "arfarin plavix aspirin home arrival   ed   stable hemodynamic initial vs 993f \n",
            "monary embolism acute renal failure   ed   vs 987 bp 1591706063 hr 6471 rr 14 \n",
            "urinary incontinent bring ed family   ed   initial vital 996 14164 125 20 96ra\n",
            "k boyfriend report see 3 hour prior   ed   visit use neb home seem slightly sh\n",
            "tibiotic course 7 code full per osh   ed   attgs discussion family 8 proph sq \n",
            "olol 25 mg po daily urology consult   ed   recommend follow make sure suprapub\n",
            "rd baseline abg 7308060 initial abg   ed   710112146 indicate essentially pure\n",
            " bleeding satte 100 ra get levoflox   ed   floor deny complaint past medical h\n",
            "care physician regard mri result go   ed   evaluation upon arrival ed temp 969\n",
            "al vs atn improve back baseline ivf   ed   pmr high dose prednisone pcp outpat\n",
            "work breathing generalized weakness   ed   note equivocal ua though deny urina\n",
            "ype cross recieve total 3 unit prbc   ed   2l ivf current access 16 18 gauge 2\n",
            "end r atrium advise oncologist come   ed   presentation ed patient stable 988 \n",
            "protonix gi consult transfer icu bm   ed   greenish stool guaic positive past \n",
            "dycardia patient find heart rate 30   ed   initial ekg find atrial standstill \n",
            "port patient anxious observed shaky   ed   hr 104 give ativan valium keppra in\n",
            "te chronic anemia hypotension admit   ed   initial management require total 7 \n",
            "pothyroidism hyperlipidemia present   ed   hospital excruciate chest pain diap\n",
            "essure o2 sit note 89 ra 94 6l send   ed   evaluation ed wbc note elevate 16 9\n",
            " blood culture blood culture obtain   ed   grow 44 bottle gpcs cluster likely \n",
            "patient unasyn sp 1 dose vancomycin   ed   anemia microcytic w mcv 86 suggesti\n",
            "ve side rib pain due vigorous cough   ed   vital hr 138 bp 13371 rr 22 98 nrb \n",
            "rdiogenic shock time cp sob improve   ed   find hypotensive sbps 70s80s renal \n",
            "me deplete give improve fluid bolus   ed   likely complicated underlie hiv neu\n",
            "resis sob cp nvabd pain rectal pain   ed   course initial vs 991 hr 100 12270 \n",
            "terial pneumonia though initial cxr   ed   clear stabilize icu ivf require lev\n",
            "h 170 ct chest pe pna get vanczosyn   ed   ua dirty ucx blood culture pende bc\n",
            "isorient accord patient decide come   ed   recall experience chest pain episod\n",
            "ghtheadedness nausea vomit diarrhea   ed   103 hr 96 bp 13070 rr 24 o2 sit 98 \n",
            " instruction admit hospital present   ed   replacement gtube ed fall head ct s\n",
            "nine increase 18 36 sodium drop 130   ed   vital 994 hr 103 bp 7850 rr 18 pox \n",
            "efepime severe sepsis patient vital   ed   temp 102 hr 126 rr 26 wbc count pat\n",
            "eural effusion cxr get total 4l ivf   ed   recievbe 2 dose piptazo 1 dose vanc\n",
            "ss unclear diarrhea start report go   ed   5 day ago leg pain give oxycodone d\n",
            "ildly elevated lactate leukocytosis   ed   improve gentle ivfs require pressor\n",
            "e since addition receive banana bag   ed   discharge script mvi thiamine folat\n",
            "mp 1018 give tylenol start propofol   ed   acute care surgery acs evale patien\n",
            "r transfer appear record mr present   ed   complaint see flash light associate\n",
            "eny fever nv finish treatment cdiff   ed   initial vs pain 910 hr 79 bp 16352 \n",
            "nsult neurosurgery evaluate patient   ed   pain scale currently none _ _ _ _ _\n",
            " history cough uncertain productive   ed   initial vs 70 22 90 15l nrb initial\n",
            "pt markedly elevate bp presentation   ed   require nitro gtt note patient rece\n",
            "erve medical service note rij place   ed   prior transfer floor floor intubate\n",
            "l ivf med give patient bring bottle   ed   ingredient list cvs generic brand c\n",
            "out chest pain give symptom present   ed   evaluation ed vital follow 988 hr 1\n",
            " one bowel movement prior admission   ed   initial vital sign 974 hr 106 bp 13\n",
            "n receive 4 unit ffp vitamin k 5 po   ed   history liver dysfunction cause lik\n",
            " dyspneic note oxygen saturation 70   ed   resident originally report patient \n",
            "sp possible od initial presentation   ed   nursing ed note report pt state tak\n",
            "ibe occasionally wake sleep present   ed   2 week ago romi exercise ekg stress\n",
            "place change levophe gtt give 500cc   ed   mildly positive ua consider lp due \n",
            "toh withdrawal instruct report back   ed   chest pain shortness breath fever c\n",
            "temi pt note 1 mm ste lead v1 v2 v3   ed   also positive cardiac enzyme elevat\n",
            "pn present ed temperature 1051 8 pm   ed   staff attempt access several time f\n",
            "ak sit get hour later ems call take   ed   note rightside armleg weakness expr\n",
            "re resultant spinal cord injury lab   ed   notable hct 349 inr supratherapeuti\n",
            " present illness pt 50 yo f present   ed   late evening f complaint dysphagia \n",
            "ommend obtain lp concern meningitis   ed   staff obtain history nursing staff \n",
            "p see several time past month refer   ed   unclear many pillow sleep believe w\n",
            "tal course neurological mrs present   ed   intubated nonconvulsive receive 1 g\n",
            " nursing home subsequently transfer   ed   evaluation ed initial vital sign hr\n",
            "r family request patient transfered   ed   patient arrive trach mask find febr\n",
            "ncer metastatic lesion bone present   ed   2day history fever chill fatigue po\n",
            "clude social history life home wife   ed   physician phone number patient reti\n",
            "g 19 wbc 115 call liver center come   ed   evalation new hyponatremia patient \n",
            "s 116 field fever new onset siezure   ed   empirically give 2 gm ctx 10 mg dec\n",
            "nd mobility limit leg swelling pain   ed   initial vs 963 77 9865 20 95 4l nas\n"
          ]
        },
        {
          "output_type": "stream",
          "name": "stderr",
          "text": [
            "\n"
          ]
        }
      ],
      "source": [
        "kwic(test['text'], '\\sed\\s', print_samples=100)"
      ]
    }
  ]
}